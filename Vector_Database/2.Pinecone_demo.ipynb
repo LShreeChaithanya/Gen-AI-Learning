{
  "cells": [
    {
      "cell_type": "markdown",
      "metadata": {
        "id": "DVI3tJKR4naq"
      },
      "source": [
        "## Install All the Required Packages"
      ]
    },
    {
      "cell_type": "code",
      "execution_count": null,
      "metadata": {
        "colab": {
          "base_uri": "https://localhost:8080/"
        },
        "id": "3APQ7Sdk2H2A",
        "outputId": "d20a61cf-919f-4dc8-cf95-ec4838de2279"
      },
      "outputs": [],
      "source": [
        "!pip install langchain\n",
        "!pip install pinecone-client\n",
        "!pip install pypdf"
      ]
    },
    {
      "cell_type": "code",
      "execution_count": null,
      "metadata": {
        "colab": {
          "base_uri": "https://localhost:8080/"
        },
        "id": "_P_QHai95FgW",
        "outputId": "986fc9d3-eebf-49ed-98c5-b161bd532f41"
      },
      "outputs": [],
      "source": [
        "!pip install openai\n",
        "!pip install tiktoken"
      ]
    },
    {
      "cell_type": "markdown",
      "metadata": {
        "id": "3WNrsq005Oa5"
      },
      "source": [
        "## Import All the Required Libraries"
      ]
    },
    {
      "cell_type": "code",
      "execution_count": 1,
      "metadata": {
        "id": "QadipyWC5FeA"
      },
      "outputs": [
        {
          "name": "stderr",
          "output_type": "stream",
          "text": [
            "c:\\Users\\lshre\\Gen-AI\\venv\\Lib\\site-packages\\pinecone\\data\\index.py:1: TqdmWarning: IProgress not found. Please update jupyter and ipywidgets. See https://ipywidgets.readthedocs.io/en/stable/user_install.html\n",
            "  from tqdm.autonotebook import tqdm\n"
          ]
        }
      ],
      "source": [
        "from langchain.document_loaders import PyPDFDirectoryLoader\n",
        "from langchain.text_splitter import RecursiveCharacterTextSplitter\n",
        "from langchain_pinecone import PineconeVectorStore\n",
        "from langchain.chains import RetrievalQA\n",
        "from langchain.prompts import PromptTemplate\n",
        "import os"
      ]
    },
    {
      "cell_type": "markdown",
      "metadata": {
        "id": "Jt3yEYqk5l1G"
      },
      "source": [
        "## Load the PDF Files"
      ]
    },
    {
      "cell_type": "code",
      "execution_count": null,
      "metadata": {
        "id": "5aPGq0qI5Fbc"
      },
      "outputs": [],
      "source": [
        "!mkdir pdfs"
      ]
    },
    {
      "cell_type": "code",
      "execution_count": null,
      "metadata": {
        "colab": {
          "base_uri": "https://localhost:8080/"
        },
        "id": "717PStbq5FZN",
        "outputId": "77cf9446-0113-4532-abee-25a4fb03f506"
      },
      "outputs": [],
      "source": [
        "!gdown 1hPQlXrX8FbaYaLypxTmeVOFNitbBMlEE -O pdfs/yolov7paper.pdf\n",
        "!gdown 1vILwiv6nS2wI3chxNabMgry3qnV67TxM -O pdfs/rachelgreecv.pdf"
      ]
    },
    {
      "cell_type": "markdown",
      "metadata": {
        "id": "l9G_3VNU523F"
      },
      "source": [
        "## Extract the Text from the PDF's"
      ]
    },
    {
      "cell_type": "code",
      "execution_count": 2,
      "metadata": {
        "id": "bLAl0c4o51Et"
      },
      "outputs": [],
      "source": [
        "loader = PyPDFDirectoryLoader(\"pdfs\")\n",
        "data = loader.load()"
      ]
    },
    {
      "cell_type": "code",
      "execution_count": 3,
      "metadata": {
        "colab": {
          "base_uri": "https://localhost:8080/"
        },
        "id": "EULIR0lq58_l",
        "outputId": "3a30fbb4-2eeb-4e6a-f1d6-33a9058ca3c5"
      },
      "outputs": [
        {
          "data": {
            "text/plain": [
              "[Document(metadata={'producer': '', 'creator': 'PyPDF', 'creationdate': '2025-02-02T02:45:44+05:30', 'source': 'pdfs\\\\Keplr pitch deck v1.pdf', 'total_pages': 21, 'page': 0, 'page_label': '1'}, page_content=''),\n",
              " Document(metadata={'producer': '', 'creator': 'PyPDF', 'creationdate': '2025-02-02T02:45:44+05:30', 'source': 'pdfs\\\\Keplr pitch deck v1.pdf', 'total_pages': 21, 'page': 1, 'page_label': '2'}, page_content=''),\n",
              " Document(metadata={'producer': '', 'creator': 'PyPDF', 'creationdate': '2025-02-02T02:45:44+05:30', 'source': 'pdfs\\\\Keplr pitch deck v1.pdf', 'total_pages': 21, 'page': 2, 'page_label': '3'}, page_content=''),\n",
              " Document(metadata={'producer': '', 'creator': 'PyPDF', 'creationdate': '2025-02-02T02:45:44+05:30', 'source': 'pdfs\\\\Keplr pitch deck v1.pdf', 'total_pages': 21, 'page': 3, 'page_label': '4'}, page_content=''),\n",
              " Document(metadata={'producer': '', 'creator': 'PyPDF', 'creationdate': '2025-02-02T02:45:44+05:30', 'source': 'pdfs\\\\Keplr pitch deck v1.pdf', 'total_pages': 21, 'page': 4, 'page_label': '5'}, page_content=''),\n",
              " Document(metadata={'producer': '', 'creator': 'PyPDF', 'creationdate': '2025-02-02T02:45:44+05:30', 'source': 'pdfs\\\\Keplr pitch deck v1.pdf', 'total_pages': 21, 'page': 5, 'page_label': '6'}, page_content=''),\n",
              " Document(metadata={'producer': '', 'creator': 'PyPDF', 'creationdate': '2025-02-02T02:45:44+05:30', 'source': 'pdfs\\\\Keplr pitch deck v1.pdf', 'total_pages': 21, 'page': 6, 'page_label': '7'}, page_content=''),\n",
              " Document(metadata={'producer': '', 'creator': 'PyPDF', 'creationdate': '2025-02-02T02:45:44+05:30', 'source': 'pdfs\\\\Keplr pitch deck v1.pdf', 'total_pages': 21, 'page': 7, 'page_label': '8'}, page_content=''),\n",
              " Document(metadata={'producer': '', 'creator': 'PyPDF', 'creationdate': '2025-02-02T02:45:44+05:30', 'source': 'pdfs\\\\Keplr pitch deck v1.pdf', 'total_pages': 21, 'page': 8, 'page_label': '9'}, page_content=''),\n",
              " Document(metadata={'producer': '', 'creator': 'PyPDF', 'creationdate': '2025-02-02T02:45:44+05:30', 'source': 'pdfs\\\\Keplr pitch deck v1.pdf', 'total_pages': 21, 'page': 9, 'page_label': '10'}, page_content=''),\n",
              " Document(metadata={'producer': '', 'creator': 'PyPDF', 'creationdate': '2025-02-02T02:45:44+05:30', 'source': 'pdfs\\\\Keplr pitch deck v1.pdf', 'total_pages': 21, 'page': 10, 'page_label': '11'}, page_content=''),\n",
              " Document(metadata={'producer': '', 'creator': 'PyPDF', 'creationdate': '2025-02-02T02:45:44+05:30', 'source': 'pdfs\\\\Keplr pitch deck v1.pdf', 'total_pages': 21, 'page': 11, 'page_label': '12'}, page_content=''),\n",
              " Document(metadata={'producer': '', 'creator': 'PyPDF', 'creationdate': '2025-02-02T02:45:44+05:30', 'source': 'pdfs\\\\Keplr pitch deck v1.pdf', 'total_pages': 21, 'page': 12, 'page_label': '13'}, page_content=''),\n",
              " Document(metadata={'producer': '', 'creator': 'PyPDF', 'creationdate': '2025-02-02T02:45:44+05:30', 'source': 'pdfs\\\\Keplr pitch deck v1.pdf', 'total_pages': 21, 'page': 13, 'page_label': '14'}, page_content=''),\n",
              " Document(metadata={'producer': '', 'creator': 'PyPDF', 'creationdate': '2025-02-02T02:45:44+05:30', 'source': 'pdfs\\\\Keplr pitch deck v1.pdf', 'total_pages': 21, 'page': 14, 'page_label': '15'}, page_content=''),\n",
              " Document(metadata={'producer': '', 'creator': 'PyPDF', 'creationdate': '2025-02-02T02:45:44+05:30', 'source': 'pdfs\\\\Keplr pitch deck v1.pdf', 'total_pages': 21, 'page': 15, 'page_label': '16'}, page_content=''),\n",
              " Document(metadata={'producer': '', 'creator': 'PyPDF', 'creationdate': '2025-02-02T02:45:44+05:30', 'source': 'pdfs\\\\Keplr pitch deck v1.pdf', 'total_pages': 21, 'page': 16, 'page_label': '17'}, page_content=''),\n",
              " Document(metadata={'producer': '', 'creator': 'PyPDF', 'creationdate': '2025-02-02T02:45:44+05:30', 'source': 'pdfs\\\\Keplr pitch deck v1.pdf', 'total_pages': 21, 'page': 17, 'page_label': '18'}, page_content=''),\n",
              " Document(metadata={'producer': '', 'creator': 'PyPDF', 'creationdate': '2025-02-02T02:45:44+05:30', 'source': 'pdfs\\\\Keplr pitch deck v1.pdf', 'total_pages': 21, 'page': 18, 'page_label': '19'}, page_content=''),\n",
              " Document(metadata={'producer': '', 'creator': 'PyPDF', 'creationdate': '2025-02-02T02:45:44+05:30', 'source': 'pdfs\\\\Keplr pitch deck v1.pdf', 'total_pages': 21, 'page': 19, 'page_label': '20'}, page_content=''),\n",
              " Document(metadata={'producer': '', 'creator': 'PyPDF', 'creationdate': '2025-02-02T02:45:44+05:30', 'source': 'pdfs\\\\Keplr pitch deck v1.pdf', 'total_pages': 21, 'page': 20, 'page_label': '21'}, page_content=''),\n",
              " Document(metadata={'producer': 'macOS Version 10.15.7 (Build 19H1615) Quartz PDFContext', 'creator': 'PyPDF', 'creationdate': \"D:20241029231321Z00'00'\", 'title': 'OWASP LLM/GenAI Security Solutions Reference Guide v1.0', 'moddate': \"D:20241029231321Z00'00'\", 'source': 'pdfs\\\\OWASP_LLMGenAI_SecuritySolutions_ReferenceGuide.pdf', 'total_pages': 34, 'page': 0, 'page_label': '1'}, page_content=''),\n",
              " Document(metadata={'producer': 'macOS Version 10.15.7 (Build 19H1615) Quartz PDFContext', 'creator': 'PyPDF', 'creationdate': \"D:20241029231321Z00'00'\", 'title': 'OWASP LLM/GenAI Security Solutions Reference Guide v1.0', 'moddate': \"D:20241029231321Z00'00'\", 'source': 'pdfs\\\\OWASP_LLMGenAI_SecuritySolutions_ReferenceGuide.pdf', 'total_pages': 34, 'page': 1, 'page_label': '2'}, page_content='| GenAIƬLLMSecOpsandSecķriĴřSolķĴionLandscape\\nPķblishedƭųŲƸŴŶƸŴŶ\\nRe˩i˦ionHi˦˧orˬ\\nRevision Date Authors Description\\nƫ01 6Ƹ4Ƹ2024 ScottClinton InitialDraftƬCharter\\nƫ05 8Ƹ10Ƹ2024 ScottClintonƬ\\nContributorsInputs\\nUpdatedwithinitial\\nfeedback\\nƫ06 10Ƹ15Ƹ2024 ScottClintonƬ\\nContributorsƬReviewer\\nInputs\\nReǀfactorSolutions\\nLandscapecategoriesƬ\\n1ƫ0 10Ƹ15Ƹ2024 ContributorsƬReviewers FinalReleaseCandidate\\nTheinformationprovidedinthisdocumentdoesnotƬandisnotintendedtoƬconstitutelegal\\nadviceƫAllinformationisforgeneralinformationalpurposesonlyƫThisdocumentcontainslinksto\\notherthirdǀpartywebsitesƫSuchlinksareonlyforconvenienceƬandOWASPdoesnotrecommend\\norendorsethecontentsofthethirdǀpartysitesƫ\\nLicen˦eandU˦age\\nTh˜˦dˢc˨ˠeˡ˧˜˦˟˜ceˡ˦ed˨ˡde˥C˥ea˧˜˩eCˢˠˠˢˡ˦,CCBY-SA4.0\\nYouarefreetoƭ\\nƔ Shareǃcopyandredistributethematerialinanymediumorformat\\nƔ AdaptǃremixƬtransformƬandbuilduponthematerialforanypurposeƬeven\\ncommerciallyƫ\\nƔ Underthefollowingtermsƭ\\nż AttributionǃYoumustgiveappropriatecreditƬprovidealinktothelicenseƬ\\nandindicateifchangesweremadeƫYoumaydosoinanyreasonablemanner\\nbutnotinanywaythatsuggeststhelicensorendorsesyouoryouruseƫ\\nż AttributionGuidelinesǀmustincludetheprojectnameaswellasthename\\noftheassetReferenced\\nŶ OWASPTop10forLLMsǀLLMSecOpsSolutionsLandscape\\nŶ OWASPTop10forLLMsǀCyberSecuritySolutionandLLMSecOps\\nLandscapeGuide\\nƔ ShareAlikeǃIfyouremixƬtransformƬorbuilduponthematerialƬyoumustdistribute\\nyourcontributionsunderthesamelicenseastheoriginalƫ\\nLinkĴďfķlllicenĮeĴeŘĴƭhttpsƭƸƸcreativecommons.orgƸlicensesƸbyǀsaƸ4.0Ƹlegalcode\\nTheinformationprovidedinthisdocumentdoesnotƬandisnotintendedtoƬconstitutelegaladviceƫAllinformationisfor\\ngeneralinformationalpurposesonlyƫThisdocumentcontainslinkstootherthirdǀpartywebsitesƫSuchlinksareonlyfor\\nconvenienceandOWASPdoesnotrecommendorendorsethecontentsofthethirdǀpartysitesƫ\\nVersion1ƫ0 1of34'),\n",
              " Document(metadata={'producer': 'macOS Version 10.15.7 (Build 19H1615) Quartz PDFContext', 'creator': 'PyPDF', 'creationdate': \"D:20241029231321Z00'00'\", 'title': 'OWASP LLM/GenAI Security Solutions Reference Guide v1.0', 'moddate': \"D:20241029231321Z00'00'\", 'source': 'pdfs\\\\OWASP_LLMGenAI_SecuritySolutions_ReferenceGuide.pdf', 'total_pages': 34, 'page': 2, 'page_label': '3'}, page_content='| GenAIƬLLMSecOpsandSecķriĴřSolķĴionLandscape\\nCˢˡ˧eˡ˧˦\\nWhRIVThiVDRcXPeQWFRU?.......................................................................................................3\\nObMecWiYeV.....................................................................................................................................3\\nScRSe............................................................................................................................................3\\nInĴīďdķcĴiďnƫƫƫƫƫƫƫƫƫƫƫƫƫƫƫƫƫƫƫƫƫƫƫƫƫƫƫƫƫƫƫƫƫƫƫƫƫƫƫƫƫƫƫƫƫƫƫƫƫƫƫƫƫƫƫƫƫƫƫƫƫƫƫƫƫƫƫƫƫƫƫƫƫƫƫƫƫƫƫƫƫƫƫƫƫƫƫƫƫƫƫƫƫƫƫƫƫƫƫƫƫƫƫƫƫƫƫƫƫƫƫƫƫƫƫƫƫƫƫƫƫŶ\\nDefiQiQgWheSecXUiW\\\\SROXWiRQVLaQdVcaSe..............................................................................4\\nLaQGVFaSHCRQVLGHUaWLRQV......................................................................................................4\\nLLMASSOicaWiRQCaWegRUieV,SecXUiW\\\\ChaOOeQgeV.............................................................5\\nSWaWLFPURPSWAXJPHQWaWLRQASSOLFaWLRQV..........................................................................6\\nAJHQWLFASSOLFaWLRQV...........................................................................................................7\\nLLMPOXJ-LQV,E[WHQVLRQV..................................................................................................8\\nCRPSOH[ASSOLFaWLRQV........................................................................................................9\\nLLMDeYeORSPeQWaQdCRQVXPSWiRQMRdeOV...................................................................10\\nLLMOSVaQdLLMSecOSVDefiQed.....................................................................................11\\nAQXLFNOSVPULPHU-FRXQGaWLRQIRULLMOSV................................................................11\\nLLMOSVLLIHC\\\\FOHSWaJHV -FRXQGaWLRQIRULLMDHYSHFOSV........................................12\\nSFRSLQJ/POaQQLQJ.......................................................................................................13\\nDaWaAXJPHQWaWLRQaQGFLQH-TXQLQJ.........................................................................14\\nASSOLFaWLRQDHYHORSPHQWaQGE[SHULPHQWaWLRQ.........................................................14\\nTHVWaQGEYaOXaWLRQ....................................................................................................15\\nRHOHaVH......................................................................................................................15\\nDHSOR\\\\........................................................................................................................16\\nOSHUaWH......................................................................................................................16\\nMRQLWRU.......................................................................................................................17\\nGRYHUQ.......................................................................................................................18\\nMaSSLQJWRWKHOWASPTRS10IRULLMTKUHaWMRGHO....................................................18\\nASSOLFaWLRQSHUYLFHV...................................................................................................19\\nPURGXFWLRQSHUYLFHV...................................................................................................19\\nOWASPTRS10fRULLMVSROXWiRQVLaQdVcaSe......................................................................20\\nEPHUJLQJGHQAI/LLM-SSHFLILFSHFXULW\\\\SROXWLRQV.................................................................21\\nLLM&GHQHUaWLYHAISHFXULW\\\\SROXWLRQV................................................................................22\\nSROXWLRQLaQGVFaSHMaWUL[DHILQLWLRQV.............................................................................22\\nLaQGVFaSHSROXWLRQMaWUL[....................................................................................................23\\nAcNQRZOedgePeQWV...................................................................................................................29\\nOWASPTRS10fRULLMPURMecWSSRQVRUV..............................................................................30\\nRefeUeQceV.................................................................................................................................31\\nPURMecWSXSSRUWeUV....................................................................................................................32\\nVersion1ƫ0 2of34'),\n",
              " Document(metadata={'producer': 'macOS Version 10.15.7 (Build 19H1615) Quartz PDFContext', 'creator': 'PyPDF', 'creationdate': \"D:20241029231321Z00'00'\", 'title': 'OWASP LLM/GenAI Security Solutions Reference Guide v1.0', 'moddate': \"D:20241029231321Z00'00'\", 'source': 'pdfs\\\\OWASP_LLMGenAI_SecuritySolutions_ReferenceGuide.pdf', 'total_pages': 34, 'page': 3, 'page_label': '4'}, page_content='| GenAIƬLLMSecOpsandSecķriĴřSolķĴionLandscape\\nWhˢI˦Thi˦Dˢc˨ˠeˡ˧Fˢ˥?\\nThis document is tailored for a diverse audience comprising developersƬ AppSec\\nprofessionalsƬ DevSecOps and MLSecOps teamsƬ dataengineersƬ datascientistsƬ CISOsƬ and\\nsecurityleaderswhoarefocusedondevelopingstrategiestosecureLargeLanguageModels\\nƺLLMsƻandGenerativeAIapplicationsƫItprovidesareferenceguideofthesolutionsavailabletoaid\\ninsecuringLLMapplicationsƬequippingthemwiththeknowledgeandtoolsnecessarytobuild\\nrobustƬsecureAIapplicationsƫ\\nObjec˧i˩e˦\\nThisdocumentisintendedtobeacompaniontotheOWASPTop10forLargeLanguageModel\\nƺLLMƻApplicationsListandtheCISOCybersecurityǽGovernanceChecklistƫItsprimaryobjectiveis\\ntoprovideareferenceresourcefor organizationsseekingtoaddresstheidentiﬁedrisksand\\nenhancetheirsecurityprogramsƫWhilenotdesignedtobeanallǀinclusiveresourceƬthisdocument\\noffersaresearchedpointofviewbasedonthetopsecuritycategoriesandemergingthreatareasƫ\\nItcapturesthemostimpactfulexistingandemergingcategoriesƫBycategorizingƬdeﬁningƬand\\naligningapplicabletechnologysolutionareaswiththeemergingLLMandgenerativeAIthreat\\nlandscapeƬthisdocumentaimstosimplifyresearcheffortsandserveasasolutionsreference\\nguideƫ\\nScˢˣe\\nThescopeofthisdocumentistocreateashareddeﬁnitionofsolutioncategoryareasthat\\naddressthesecurityoftheLLMandgenerativeAIlifecycleƬfromdevelopmenttodeploymentand\\nusageƫ This alignment supports the OWASP Top 10 List For LLMs outcomes and the CISO\\nCybersecurityandGovernanceChecklistƫ ToachievethisƬ thedocument will createaninitial\\nframework and category descriptorsƬ utilizing both openǀsource solutions and providing\\nmechanisms for solution providers to align their offerings with speciﬁc coverage areas as\\nexamplestosupporteachcategoryƫ\\nThedocumentadherestoseveralkeyrulestomaintainitsintegrityandusefulnessƭ\\nƔ VendďīǀAgnďĮĴic and OĨen AĨĨīďachƭ It maintains a neutral stanceƬ avoiding\\nrecommendationsofonetechnologyoveranotherƬinsteadprovidingcategoryguidance\\nwithchoicesandoptionsƫ\\nƔ SĴīaighĴfďīœaīdƬ AcĴiďnableGķidanceƭThedocumentoffersclearƬactionableadvice\\nthatorganizationscanreadilyimplementƫ\\nƔ CďďīdinaĴed Knďœledge GīaĨhƭ It includes coordinated termsƬ deﬁnitionsƬ and\\ndescriptionsforkeyconceptsƫ\\nƔ PďinĴĴďEŘiĮĴingSĴandaīdĮƭWhereexistingstandardsorsourcesoftruthareavailableƬ\\nthedocumentreferencestheseinsteadofcreatingnewsourcesƬensuringconsistency\\nandreliabilityƫ\\nVersion1ƫ0 3of34'),\n",
              " Document(metadata={'producer': 'macOS Version 10.15.7 (Build 19H1615) Quartz PDFContext', 'creator': 'PyPDF', 'creationdate': \"D:20241029231321Z00'00'\", 'title': 'OWASP LLM/GenAI Security Solutions Reference Guide v1.0', 'moddate': \"D:20241029231321Z00'00'\", 'source': 'pdfs\\\\OWASP_LLMGenAI_SecuritySolutions_ReferenceGuide.pdf', 'total_pages': 34, 'page': 4, 'page_label': '5'}, page_content='| GenAIƬLLMSecOpsandSecķriĴřSolķĴionLandscape\\nIˡ˧˥ˢd˨c˧iˢˡ\\nWiXhXhegVS[XhSfGeReVaXiZeAIadSTXiSR,YWage,aRdaTTPicaXiSRdeZePSTQeRXcSQeWRe[\\nViWOWXhaXaffecXhS[SVgaRi^aXiSRWWXVaXegi^eaRdiRZeWX.AWXheWeViWOWeZSPZe,WSdSViWOQiXigaXiSR\\nWSPYXiSRW,XechRSPSgieW,fVaQe[SVOW,aRdXa\\\\SRSQieW.TS aidWecYViX]PeadeVWiRTViSViXi^aXiSR,\\ncSRZeVWaXiSRWabSYXeQeVgiRgXechRSPSg]aRdWSPYXiSRaVeaWQYWXbeaPigRedaTTVSTViaXeP]XS\\ncPeaVP]YRdeVWXSSdbYWiReWWSYXcSQeWfSVAIWecYViX]WSPYXiSRW.ThebusinessoutcomesofAI\\nsecuritysolutionsmustbeproperlydeﬁnedtoaidsecurityleadersinbudgeting\\nMany organizations have already invested heavily in various security toolsƬ such as\\nvulnerabilitymanagement systemsƬ identityandaccessmanagementƺIAMƻsolutionsƬendpoint\\nsecurityƬDynamicApplicationSecurityTestingƺDASTƻƬobservabilityplatformsƬandsecureCIƸCD\\nƺContinuousIntegrationƸContinuousDeploymentƻtoolsƬtonameafewƫHoweverƬthesetraditional\\nsecuritytoolsmaynotbesuŨcienttofullyaddressthecomplexitiesofAIapplicationsƬleadingto\\ngapsinprotectionthatmaliciousactorscanexploitƫForexampleƬtraditionalsecuritytoolsmaynot\\nsuŨcientlyaddresstheuniquedatasecurityandsensitiveinformationdisclosureprotectioninthe\\ncontext of LLMandGenAIapplicationsƫThisincludesbutisnotlimitedtothechallengesof\\nsecuring sensitive data within promptsƬ outputsƬ and model training dataƬ and thespeciﬁc\\nmitigationstrategiessuchasencryptionƬredactionƬandaccesscontrolmechanismsƫ\\nEmergentsolutionslikeLLMFirewallsƬAIǀspeciﬁcthreatdetectionsystemsƬsecuremodel\\ndeployment platformsƬ andAIgovernanceframeworksattempttoaddresstheuniquesecurity\\nneedsofAIƸMLapplicationsƫHoweverƬtherapidevolutionofAIƸMLtechnologyanditsapplications\\nhasdrivenanexplosionofsolutionapproachesƬwhichhasonlyaddedtotheconfusionfacedby\\norganizationsindeterminingwheretoallocatetheirsecuritybudgetsƫ\\nDefiˡiˡg˧heSec˨˥i˧ˬSˢl˨˧iˢˡ˦Laˡd˦caˣe\\nTherehavebeenmanyapproachestocharacterizingthesolutionslandscapeforLarge\\nLanguageModeltoolsandinfrastructureƫInordertodevelopasolutionslandscapethatfocuseson\\nthesecurityofLLMapplicationsacrossthelifecyclefromplanningƬdevelopmentƬdeploymentƬand\\noperationƬtherearefourkeyareasofinputwehavefocusedontodevelopbothadeﬁnitionfor\\nLargeLanguageModelDevSecOPsandrelatedsolutionslandscapecategoriesƫ\\nLandscapeConsiderations\\nAĨĨlicaĴiďnTřĨeĮandScďĨeǀwhichimpactsthepeopleƬprocessesƬandtoolsneededbasedon\\nthe complexity of the application and the LLM environmentƬ asǀaǀserviceƬ selfǀhostedƬ or\\ncustomǀbuiltƫ\\nEmeīgingLLMSecOĨĮPīďceĮĮǀ whilethisisaworkinprogressƬmanyarelookingtoadaptand\\nadoptexistingDevOpsandMLOpsandassociatedsecuritypracticesƫWeexpectourdeﬁnitionto\\nevolveasthedevelopmentprocessesforLLMapplicationsbegintomatureƫ\\nVersion1ƫ0 4of34'),\n",
              " Document(metadata={'producer': 'macOS Version 10.15.7 (Build 19H1615) Quartz PDFContext', 'creator': 'PyPDF', 'creationdate': \"D:20241029231321Z00'00'\", 'title': 'OWASP LLM/GenAI Security Solutions Reference Guide v1.0', 'moddate': \"D:20241029231321Z00'00'\", 'source': 'pdfs\\\\OWASP_LLMGenAI_SecuritySolutions_ReferenceGuide.pdf', 'total_pages': 34, 'page': 5, 'page_label': '6'}, page_content='| GenAIƬLLMSecOpsandSecķriĴřSolķĴionLandscape\\nThīeaĴandRiĮkMďdelingǀ understandingtherisksposedbyLLMsystemsƬapplicationusageƬor\\nmisuselikethoseoutlinedintheOWASPTop10forLLMsandGenerativeAIApplicationsƬarekeyto\\nunderstandingwhichsolutionsarebestsuitedtoimprovethesecuritypostureandcombatarange\\nofattacksƫ\\nTīackingEmeīgingSďlķĴiďnĮǀ manyexistingsecuritysolutionsareadaptingtosupportLLM\\ndevelopment workﬂowsandusecaseshowever giventhenatureofnewthreatsandevolving\\ntechnologyandarchitecturesnewtypesofLLMǀspeciﬁcsecuritysolutionswillbenecessaryƫ\\nLLMApplicationCategories,SecuritˬChallenges\\nOrganizationshavebeenleveragingMachineLearninginapplicationsfordecadesƫThisoften\\nrequired detailed expertise inDataScienceandextensivemodel trainingƫ GenerativeAI has\\nchangedthisƫSpeciﬁcallyƬLargeLanguageModelsƺLLMsƻhavemademachinelearningtechnology\\nwidelyaccessibleƫTheabilitytodynamicallyinteractinplainlanguagehasopenedthedoorforthe\\ncreationof anewclassofdataǀdrivenapplicationsandapplicationintegrationsƫFurthermoreƬ\\nusageisnolongerlimitedtothehighlyskilledeffortsoftraditionaldevelopersanddatascientistsƫ\\nPreǀtrainedmodelsenablenearlyanyonetoperformcomplexcomputationaltasksƬregardlessof\\npriorexposuretoprogrammingorsecurityƫOrganizationshavebeenleveragingMachineLearning\\ninapplicationsfordecadesincludingNaturalLanguageProcessingƺNLPƻmodelsthatoftenrequire\\ndetailedexpertiseinDataScienceandextensivemodeltrainingƫ\\nWiththeadventoftransformerstechnologyenablinggenerativecapabilitiescombinedwith\\ntheeaseofaccessforpreǀtrainedasǀaǀservicemodelslikeChatGPTandotherasǀaǀserviceƬFour\\nmajor categories of LLM Application Architecture emergedƮ PromptǀcentricƬ AI AgentsƬ\\nPlugǀinsƸextensionsƬ andcomplexgenerativeAIapplicationwheretheLLMplaysakeyroleina\\nlargerapplicationusecaseƫ\\nƺﬁgureƭApplicationCategoriesǽSummaryAttributesƻ\\nHavingacommonviewoftypicalLLMapplicationarchitecturesƬincludingagentsƬmodelsƬ\\nLLMsƬ andtheMLapplicationstackƬiscrucialfordeﬁningandaligningtheapplicationstackƬ\\nsecuritymodelƬ andapplicationofferingsƫBelowƬwehaveprovidedashortdescriptionofkey\\ncharacteristicsƬusecasesƬandsecuritychallengesforeachapplicationcategoryƫ\\nVersion1ƫ0 5of34'),\n",
              " Document(metadata={'producer': 'macOS Version 10.15.7 (Build 19H1615) Quartz PDFContext', 'creator': 'PyPDF', 'creationdate': \"D:20241029231321Z00'00'\", 'title': 'OWASP LLM/GenAI Security Solutions Reference Guide v1.0', 'moddate': \"D:20241029231321Z00'00'\", 'source': 'pdfs\\\\OWASP_LLMGenAI_SecuritySolutions_ReferenceGuide.pdf', 'total_pages': 34, 'page': 6, 'page_label': '7'}, page_content='| GenAIƬLLMSecOpsandSecķriĴřSolķĴionLandscape\\nS˧a˧icP˥ˢˠˣ˧A˨gˠeˡ˧a˧iˢˡAˣˣlica˧iˢˡ˦\\nTheseapplicationsinvolvespeciﬁcWXaXicRaXYVaPPaRgYageiRTYXWtoguidethebehaviorofa\\nlargelanguagemodelƺLLMƻtowardgeneratingthedesiredoutputƫThistechniqueoptimizesthe\\ninteractionbetweentheuserandthemodelbyﬁneǀtuningthephrasingƬcontextƬandinstructions\\ngiventotheLLMƫTheseapplicationsallowuserstoaccomplishawiderangeoftasksbysimply\\nreﬁninghowtheyaskquestionsorprovideinstructionsƫ\\nKeřChaīacĴeīiĮĴicĮ\\nż HumantomodelƸmodeltohumaninteractionandresponse\\nż Staticpromptaugmentation\\nż FlexibilityandCreativity\\nż SimplicityandAccessibility\\nż RapidPrototypingandExperimentation\\nUĮeCaĮeEŘamĨleĮ\\nż ExperimentationƸRapidPrototyping\\nż ContentGenerationTools\\nż TextSummarizationApplications\\nż QuestionǀAnsweringSystems\\nż LanguageTranslationTools\\nż ChatbotsandVirtualAssistants\\nSecķīiĴřChallengeĮ\\nż Promptǀbasedapplicationsfacesecurityriskslikepromptinjectionattacksand\\ndataleakagefrompoorlycraftedpromptsƫLackofcontextorstatemanagement\\ncanleadtounintendedoutputsƬincreasingmisusevulnerabilityƫUserǀgenerated\\npromptsmaycauseinconsistentorbiasedresponsesƬriskingcomplianceorethical\\nviolationsƫEnsuringpromptintegrityƬrobustinputvalidationƬandsecuringtheLLM\\nenvironmentarecrucialtomitigatetheserisksƫ\\nVersion1ƫ0 6of34'),\n",
              " Document(metadata={'producer': 'macOS Version 10.15.7 (Build 19H1615) Quartz PDFContext', 'creator': 'PyPDF', 'creationdate': \"D:20241029231321Z00'00'\", 'title': 'OWASP LLM/GenAI Security Solutions Reference Guide v1.0', 'moddate': \"D:20241029231321Z00'00'\", 'source': 'pdfs\\\\OWASP_LLMGenAI_SecuritySolutions_ReferenceGuide.pdf', 'total_pages': 34, 'page': 7, 'page_label': '8'}, page_content='| GenAIƬLLMSecOpsandSecķriĴřSolķĴionLandscape\\nAgeˡ˧icAˣˣlica˧iˢˡ˦\\nThese applications leverage Large Language Models ƺLLMsƻ to autonomously or\\nsemiǀautonomouslyperformtasksƬ makedecisionsƬandinteractwithusersorothersystemsƫ\\nTheseagentsaredesignedtoactonbehalfofusersƬhandlingcomplexprocessesthatofteninvolve\\nmultiplestepsƬintegrationsƬandrealǀtimedecisionǀmakingƫTheyoperatewithalevelofautonomyƬ\\nallowingthemtocompletetaskswithoutconstanthumaninterventionƫ\\nKeřChaīacĴeīiĮĴicĮ\\nż AutonomyandDecisionǀMaking\\nż InteractionwithExternalSystems\\nż StateManagementandMemory\\nż ComplexWorkﬂowAutomation\\nż HumanǀAgentCollaboration\\nUĮeCaĮeEŘamĨleĮ\\nż VirtualAssistants\\nż CustomerSupportBots\\nż ProcessAutomationAgents\\nż DataAnalysisandReportingAgents\\nż IntelligentPersonalizationAgents\\nż SecurityandComplianceAgents\\nSecķīiĴřChallengeĮ\\nż AgentapplicationsƬwiththeirautonomyandaccesstovarioussystemsƬmustbe\\ncarefullysecuredtopreventmisuseƫTheyfacesecuritychallengeslike\\nunauthorizedaccessƬincreasedexploitationrisksduetointeractionwithmultiple\\nsystemsƬandvulnerabilitiesindecisionǀmakingprocessesƫIfĮomeonegainĮ\\nconĴīolofanaķĴonomoķĮagenĴƬĴheconĮeĪķenceĮcoķldbeĮeŒeīeƬeĮĨeciallřin\\ncīiĴicalĮřĮĴemĮƫEnĮķīingīobķĮĴacceĮĮconĴīolĮandencīřĨĴionmeĴhodĮĴo\\nĨīoĴecĴagainĮĴĴhiĮiĮeĮĮenĴialƫEnsuringdataintegrityandconﬁdentialityis\\ncriticalƬasagentsoftenhandlesensitiveinformationitisimportanttosecuredata\\natallstagesƬincludingatǀrestƬinmotionƬandaccessthroughsecuredAPIsƫTheir\\nautonomyalsoposesrisksofunintendedorharmfuldecisionswithoutoversightƫ\\nRobustauthenticationƬencryptionƬmonitoringƬandfailǀsafemechanismsare\\nessentialtomitigatethesesecurityrisksƫObservabilityandTraceabilitysolutions\\nthatmonitortheentirelifecycleoftheAgentsƺDesignƬDevelopmentƬDeploymentƬ\\nandVisibilityondecisionǀmakingƻmustbeconsideredtoensurerealǀtime\\ncorrectionsusingahumansǀinǀtheǀloopprocesscanbeenforcedƫ\\nVersion1ƫ0 7of34'),\n",
              " Document(metadata={'producer': 'macOS Version 10.15.7 (Build 19H1615) Quartz PDFContext', 'creator': 'PyPDF', 'creationdate': \"D:20241029231321Z00'00'\", 'title': 'OWASP LLM/GenAI Security Solutions Reference Guide v1.0', 'moddate': \"D:20241029231321Z00'00'\", 'source': 'pdfs\\\\OWASP_LLMGenAI_SecuritySolutions_ReferenceGuide.pdf', 'total_pages': 34, 'page': 8, 'page_label': '9'}, page_content='| GenAIƬLLMSecOpsandSecķriĴřSolķĴionLandscape\\nLLMPl˨g-iˡ˦,E˫˧eˡ˦iˢˡ˦\\nPlugǀinsareextensionsoraddǀonsthatintegrateLLMsintoexistingapplicationsorplatformsƬ\\nenablingthemtoprovideenhancedornewfunctionalitiesƫPlugǀinstypicallyserveasabridge\\nbetweentheLLMandtheapplicationƬfacilitatingseamlessintegrationƬsuchasaddingalanguage\\nmodel toawordprocessor for grammar correctionorintegratingwithcustomerrelationship\\nmanagementƺCRMƻsystemsforautomatedemailresponsesƫ\\nWhileitcanbesometimesdiŨculttodrawthelinebetweenAgentsandplugǀinsorextensions\\nwhichareoftencomponentsoflargerapplicationsƬonemeasureisthewayitisdeployedandusedƫ\\nForexampleƬaplugǀinwouldbeapreǀbuiltagendesignedforreusethatyoucallexplicitlyƬthrough\\nanAPIƬ or aspartofanLLMspluginorextensionframeworkvsƫcustomcoderunninginthe\\nbackgroundonaperiodicbasisƫ\\nKeřChaīacĴeīiĮĴicĮ\\nż ModularityandFlexibility\\nż SeamlessIntegration\\nż TaskSpeciﬁcFocus\\nż EaseofDeploymentandUse\\nż RapidUpdatesandMaintenance\\nUĮeCaĮeEŘamĨleĮ\\nż ContentGenerationTools\\nż TextSummarizationApplications\\nSecķīiĴřChallengeĮ\\nż Pluginsinteractingwithsensitivedataorcriticalsystemsmustbecarefullyvetted\\nforsecurityvulnerabilitiesƫPoorlydesignedormaliciouspluginscancausedata\\nbreachesorunauthorizedaccessƫLLMpluginsfacechallengeslikecompatibility\\nissuesƬwhereupdatescanintroducevulnerabilitiesƬandintegrationwithsensitive\\nsystemsincreasestheriskofdataleaksƫEnsuringsecureAPIinteractionsƬregular\\nupdatesƬ androbust accesscontrolsiscrucialƫResourceǀintensivepluginsmay\\ndegradeperformanceƬriskingexploitationƫ\\nż\\nVersion1ƫ0 8of34'),\n",
              " Document(metadata={'producer': 'macOS Version 10.15.7 (Build 19H1615) Quartz PDFContext', 'creator': 'PyPDF', 'creationdate': \"D:20241029231321Z00'00'\", 'title': 'OWASP LLM/GenAI Security Solutions Reference Guide v1.0', 'moddate': \"D:20241029231321Z00'00'\", 'source': 'pdfs\\\\OWASP_LLMGenAI_SecuritySolutions_ReferenceGuide.pdf', 'total_pages': 34, 'page': 9, 'page_label': '10'}, page_content='| GenAIƬLLMSecOpsandSecķriĴřSolķĴionLandscape\\nCˢˠˣle˫Aˣˣlica˧iˢˡ˦\\nComplex applications are sophisticated software systems that deeply integrate Large\\nLanguageModelsƺLLMsƻasacentralcomponenttoprovideadvancedfunctionalitiesandsolutionsƫ\\nTheseapplicationsarecharacterizedbytheircomprehensivescopeƬscalabilityƬandtheintegration\\nofmultipletechnologiesandcomponentsƫTheyaretypicallydesignedtosolveintricateproblemsƬ\\nofteninenterpriseenvironmentsƬandrequireextensivedevelopmentƬengineeringƬandongoing\\nmaintenanceeffortsƫ\\nKeřChaīacĴeīiĮĴicĮ\\nż Multiǀcomponentarchitecturesaredesignedtoprocesspromptsfromother\\nnonǀhumansystemsƫ\\nż OftenusemultipleintegrationsƬincludingothermodelsƫ\\nż MultiǀComponentArchitecture\\nż ScalabilityandPerformance\\nż AdvancedFeaturesandCustomization\\nż EndǀtoǀEndWorkﬂowAutomation\\nUĮeCaĮeEŘamĨleĮ\\nż LegalDocumentAnalysisPlatforms\\nż AutomatedFinancialReportingSystems\\nż CustomerServicePlatforms\\nż HealthcareDiagnostics\\nSecķīiĴřChallengeĮ\\nż ComplexLLMapplicationsfacemajorsecuritychallengesduetotheirintegration\\nwith multiple systems and extensive data handlingƫ These include API\\nvulnerabilitiesƬdatabreachesƬandadversarialattacksƫThecomplexityincreases\\nthe risk of misconﬁgurationsƬ leading to unauthorized access or data leaksƫ\\nManaging compliance across components is also diŨcultƫ Robust encryptionƬ\\naccess controlsƬ regular security auditsƬ and comprehensive monitoring are\\nessentialtoprotecttheseapplicationsfromsophisticatedthreatsandensuredata\\nsecurityƫ\\nVersion1ƫ0 9of34'),\n",
              " Document(metadata={'producer': 'macOS Version 10.15.7 (Build 19H1615) Quartz PDFContext', 'creator': 'PyPDF', 'creationdate': \"D:20241029231321Z00'00'\", 'title': 'OWASP LLM/GenAI Security Solutions Reference Guide v1.0', 'moddate': \"D:20241029231321Z00'00'\", 'source': 'pdfs\\\\OWASP_LLMGenAI_SecuritySolutions_ReferenceGuide.pdf', 'total_pages': 34, 'page': 10, 'page_label': '11'}, page_content='| GenAIƬLLMSecOpsandSecķriĴřSolķĴionLandscape\\nLLMDevelopmentandConsumptionModels\\nOneoftheﬁrstconsiderationsforanorganizationisdecidingupontheapproachtoleveraging\\nLLMcapabilitiesbasedonthetypeofapplicationandgoalsfortheprojectƫTodayƬdevelopershave\\nachoiceof twoprimarydeployment modelswhenimplementingLLMǀbasedapplicationsand\\nsystemsƫ\\nCīeaĴeaNeœMďdelƭ ThetrainingprocessforcustomLLMsisintensiveƬofteninvolving\\ndomainǀspeciﬁcdatasetsandextensiveﬁneǀtuningtoachievedesiredperformancelevelsƫThis\\napproachismoreakintoMLOpsbuildingMLmodelsfromthegroundupƬwithdetaileddata\\nanalysisƬcollectionformattingƬcleaningƬandlabelingƫOneofthebeneﬁtsofthisapproachisthat\\nyouknowthelineageandsourceofthedatathemodelisbuiltonandcanattestdirectlytoits\\nvalidityandﬁtƫHoweverƬamajordownsideistheresourcesƬcostƬandexpertisenecessarytobuildƬ\\ntrainƬandverifyamodelthatmeetstheprojectobjectivesƫCustomLLMsprovidetailoredsolutions\\noptimized for speciﬁc tasks and domainsƬ offering higher accuracy and alignment with an\\norganizationǑsspeciﬁcneedsƫ\\nCďnĮķme and CķĮĴďmiše EŘiĮĴing MďdelĮƭ Preǀtrained ƺfoundationƻ modelsƬ whether\\nselfǀhostedorofferedasaserviceƬsuchaswithChatGPTƬBertandothersontheotherhand\\nprovideamoreaccessibleentrypointfororganizationsƫThesemodelscanbequicklydeployedvia\\nAPIsƬ allowingfor rapidsolutionvalidationandintegrationintoexistingsystemsƫTheLLMOps\\nprocessinthisscenarioemphasizescustomizationthroughﬁneǀtuningwithspeciﬁcdatasetsƬ\\nensuringthemodelmeetstheapplicationǑsuniquerequirementsƬfollowedbyrobustdeployment\\nandmonitoringtomaintainperformanceandsecurityƫ\\nVersion1ƫ0 10of34'),\n",
              " Document(metadata={'producer': 'macOS Version 10.15.7 (Build 19H1615) Quartz PDFContext', 'creator': 'PyPDF', 'creationdate': \"D:20241029231321Z00'00'\", 'title': 'OWASP LLM/GenAI Security Solutions Reference Guide v1.0', 'moddate': \"D:20241029231321Z00'00'\", 'source': 'pdfs\\\\OWASP_LLMGenAI_SecuritySolutions_ReferenceGuide.pdf', 'total_pages': 34, 'page': 11, 'page_label': '12'}, page_content='| GenAIƬLLMSecOpsandSecķriĴřSolķĴionLandscape\\nLLMOpsandLLMSecOpsDefined\\nHavingacommonviewoftypicalLLMapplicationarchitecturesƬincludingagentsƬmodelsƬ\\nLLMsƬandtheMLapplicationstackƬiscrucialfordeﬁningandaligningtheapplicationstackand\\nsecuritymodelƫ\\nƺﬁgureƭLLMOpsrelatedOperationsProcessforDataƬMachineLearningandDevOpsƻ\\nAQ˨ickOˣ˦P˥iˠe˥-Fˢ˨ˡda˧iˢˡfˢ˥LLMOˣ˦\\nDevOpsƬ which emphasizes collaborationƬ automationƬ and continuous integration and\\ndeploymentƺCIƸCDƻƬhaslaidthegroundworkforeŨcientsoftwaredevelopmentandoperationsƫBy\\nstreamliningthesoftwaredevelopmentlifecycleƬDevOpsenablesrapidandreliabledeliveryof\\napplicationsƬfosteringacultureofcollaborationbetweendevelopmentandoperationsteamsƫ\\nDataOpsbuildsonDevOpsƬwheredatapipelinesaremanagedwithsimilarautomationƬversion\\ncontrolƬandcontinuousmonitoringƬensuringdataqualityandcomplianceacrossthedatalifecycleƫ\\nMLOpsalsoextendstheDevOpsprinciplestomachinelearningƬfocusingontheuniquechallenges\\nof modeldevelopmentƬtrainingƬdeploymentƬandmonitoringƫUtilizingDevOpsasafoundation\\nensuresthatbothDataOpsandMLOpsinheritarobustinfrastructurethatprioritizeseŨciencyƬ\\nscalabilityƬsecurityƬandfasterinnovationindataǀdrivenandmachinelearningapplicationsƫ\\nMLOpsandDataOpsarefoundationaltoLLMOpsbecausetheyestablishthecriticalprocesses\\nandinfrastructureneededformanagingthelifecycleoflargelanguagemodelsƺLLMsƻƫDataOps\\nensuresthat datapipelinesareeŨcientlymanagedƬ fromdatacollectionandpreparationto\\nstorageandretrievalƬprovidinghighǀqualityƬconsistentƬandsecuredatathatLLMsrelyonfor\\ntraining andinferenceƫ MLOpsextendstheseprinciplesbyautomatingandorchestratingthe\\nmachinelearninglifecycleƬincludingmodeldevelopmentƬtrainingƬdeploymentƬandmonitoringƫ\\nVersion1ƫ0 11of34'),\n",
              " Document(metadata={'producer': 'macOS Version 10.15.7 (Build 19H1615) Quartz PDFContext', 'creator': 'PyPDF', 'creationdate': \"D:20241029231321Z00'00'\", 'title': 'OWASP LLM/GenAI Security Solutions Reference Guide v1.0', 'moddate': \"D:20241029231321Z00'00'\", 'source': 'pdfs\\\\OWASP_LLMGenAI_SecuritySolutions_ReferenceGuide.pdf', 'total_pages': 34, 'page': 12, 'page_label': '13'}, page_content='| GenAIƬLLMSecOpsandSecķriĴřSolķĴionLandscape\\nLLMOpsandMLOpsƬwhilerootedinthesamefoundationalprinciplesoflifecyclemanagementƬ\\ndivergesigniﬁcantlyintheirfocusandrequirementsduetothespeciﬁcdemandsoflargelanguage\\nmodelsƺLLMsƻƫLLMOpsencompassesthecomplexitiesoftrainingƬdeployingƬandmanagingLLMsƬ\\nwhichrequiresubstantialcomputationalresourcesandsophisticatedhandlingƫLLMOpsensure\\nthatLLMsareeŨcientlyintegratedintoproductionenvironmentsƬmonitoredforperformanceand\\nbiasesƬandupdatedasneededtomaintaintheireffectivenessƫThisholisticapproachensuresthat\\nthe deployment and operation of LLMs are streamlinedƬ scalableƬ and secureƬ including\\nconsiderationsfordatavalidationandprovenancetoensurethatthedatausedfortrainingand\\nﬁneǀtuningLLMsistrustworthyandfreefromtamperingƫThiscanincludetechniquesfordata\\nauditingandveriﬁcationƫ\\nLLMOˣ˦LifeCˬcleS˧age˦ -Fˢ˨ˡda˧iˢˡfˢ˥LLMDe˩SecOˣ˦\\nAsmentionedearlierinthisdocumentƬtoalignsecuritysolutionsforLLMapplicationsforour\\nsolutionguideweareusingtheLLMOpsprocesstodeﬁnethesolutioncategoriessothattheyalign\\nwiththechallengesdevelopersarefacingindevelopinganddeployingLLMǀbasedapplicationsƫ\\nƺﬁgureƭCombinedLLMCustomandLLMPreǀTrainedImageƻ\\nThe LLMOps processes differ signiﬁcantly between using preǀtrained LLM models for\\napplicationdevelopmentandcreatingcustomLLMmodelsfromscratchusingopenǀsourceand\\ncustomdatasetsƬwhichinheritmorefromMLOpspracticeswithsomeadditionsƫWeﬁrstneedto\\ndeﬁnethestagesƬthetypicaldevelopertasksƬandthesecuritystepsateachstageofthelifecycleƫ\\nVersion1ƫ0 12of34'),\n",
              " Document(metadata={'producer': 'macOS Version 10.15.7 (Build 19H1615) Quartz PDFContext', 'creator': 'PyPDF', 'creationdate': \"D:20241029231321Z00'00'\", 'title': 'OWASP LLM/GenAI Security Solutions Reference Guide v1.0', 'moddate': \"D:20241029231321Z00'00'\", 'source': 'pdfs\\\\OWASP_LLMGenAI_SecuritySolutions_ReferenceGuide.pdf', 'total_pages': 34, 'page': 13, 'page_label': '14'}, page_content='| GenAIƬLLMSecOpsandSecķriĴřSolķĴionLandscape\\nƺﬁgureƭLLMopsPreǀTrainedProcessandStepsƻ\\nThesephaseswehavedeﬁnedincludeƭ ScopeƸPlanƬModelFineǀTuningƸDataAugmentationƬ\\nTestƸEvaluateƬ ReleaseƬ DeployƬ OperateƬ MonitorƬ and Governƫ Of courseƬ thisisaniterative\\napproachƬwhetheryouarepracticingwaterfallƬagileƬorahybridapproacheachofthesestepscan\\nbeleveragedƫ\\nScˢˣ˜ˡ˚/P˟aˡˡ˜ˡ˚\\nThefocusisondeﬁningtheapplicationǑsgoalsƬunderstandingthespeciﬁcneedstheLLMwill\\naddressƬanddetermininghowthepreǀtrainedmodelwillbeintegratedintothelargersystemƫThis\\nstageinvolvesgatheringrequirementsƬassessingpotentialethicalandcomplianceconsiderationsƬ\\nandsettingclearobjectivesforperformanceƬscalabilityƬanduserinteractionƫTheoutcomeisa\\ndetailedprojectplanthatoutlinesthescopeƬresourcesƬandtimelinesneededtoimplementthe\\nLLMǀpoweredapplicationsuccessfullyƫ\\nTypicalActivitiesƭ\\nLLMOps LLMSecOps\\nƔ DataSuitability\\nƔ ModelSelection\\nƔ RequirementsGathering\\nƺbusinessƬtechnicalƬanddataƻ\\nƔ TaskIdentiﬁcation\\nƔ TaskSuitability\\nƔ AccessControlandAuthentication\\nPlanning\\nƔ ComplianceandRegulatoryAssessment\\nƔ DataPrivacyandProtectionStrategy\\nƔ EarlyIdentiﬁcationofSensitiveData\\nƔ ThirdǀPartyRiskAssessmentƺModelƬ\\nProviderƬetcƫƻ\\nƔ ThreatModeling\\nDa˧aA˨˚ˠ˘ˡ˧a˧˜ˢˡaˡdF˜ˡ˘-T˨ˡ˜ˡ˚\\nVersion1ƫ0 13of34'),\n",
              " Document(metadata={'producer': 'macOS Version 10.15.7 (Build 19H1615) Quartz PDFContext', 'creator': 'PyPDF', 'creationdate': \"D:20241029231321Z00'00'\", 'title': 'OWASP LLM/GenAI Security Solutions Reference Guide v1.0', 'moddate': \"D:20241029231321Z00'00'\", 'source': 'pdfs\\\\OWASP_LLMGenAI_SecuritySolutions_ReferenceGuide.pdf', 'total_pages': 34, 'page': 14, 'page_label': '15'}, page_content='| GenAIƬLLMSecOpsandSecķriĴřSolķĴionLandscape\\nThefocusisoncustomizingthepreǀtrainedmodeltobettersuitthespeciﬁcapplicationneedsƫ\\nThisinvolvesaugmentingtheoriginaldatasetwithadditionaldomainǀspeciﬁcdataƬenhancingthe\\nmodelǑsabilitytogenerateaccurateandcontextuallyrelevant responsesƫ Fineǀtuningisthen\\nconductedbyretrainingtheLLMonthisenricheddatasetƬoptimizingitsperformanceforthe\\nintendedusecaseƫThisstageiscriticalforensuringthattheLLMadaptseffectivelytotheunique\\nchallenges of the target domainƬ improving both accuracy and user experience with fewer\\ninstancesofhallucinationƫ\\nTypicalActivitiesƭ\\nLLMOps LLMSecOps\\nƔ DataIntegration\\nƔ RetrievalAugmentedGeneration\\nƺRAGƻ\\nƔ FineTuning\\nƔ InǀcontextLearningand\\nEmbeddings\\nƔ ReinforcementLearningwith\\nHumanFeedback\\nƔ DataSourceValidation\\nƔ SecureDataHandling\\nƔ SecureOutputHandling\\nƔ AdversarialRobustnessTesting\\nƔ ModelIntegrityValidationƺexƭserialization\\nscanningformalwareƻ\\nƔ VulnerabilityAssessment\\nAˣˣ˟˜ca˧˜ˢˡD˘˩˘˟ˢˣˠ˘ˡ˧aˡdE˫ˣ˘˥˜ˠ˘ˡ˧a˧˜ˢˡ\\nThefocusshiftstointegratingtheﬁneǀtunedmodelintotheapplicationǋsarchitectureƫThis\\nstageinvolvesbuildingthenecessaryinterfacesƬuserinteractionsƬandworkﬂowsthatleverage\\ntheLLMǋscapabilitiesƫDevelopersexperimentwithdifferentconﬁgurationsƬtestingthemodelǋs\\nperformancewithintheapplicationandreﬁningtheintegrationbasedonuser feedbackand\\nrealǀworldscenariosƫ Thisiterativeprocessiscrucial for optimizingtheuserexperienceand\\nensuringtheLLMfunctionseffectivelywithinthebroaderapplicationcontextƫ\\nTypicalActivitiesƭ\\nLLMOps LLMSecOps\\nƔ AgentDevelopment\\nƔ ExperimentationƬIteration\\nƔ PromptEngineering\\nƔ AccessƬAuthenticationƬandAuthorization\\nƺMFAƻ\\nƔ ExperimentTracking\\nƔ LLMǽAppVulnerabilityScanning\\nƔ ModelandApplicationInteractionSecurity\\nƔ SASTƸDASTƸIAST\\nƔ SecureCodingPractices\\nƔ SecureLibraryƸCodeRepository\\nƔ SoftwareCompositionAnalysis\\nVersion1ƫ0 14of34'),\n",
              " Document(metadata={'producer': 'macOS Version 10.15.7 (Build 19H1615) Quartz PDFContext', 'creator': 'PyPDF', 'creationdate': \"D:20241029231321Z00'00'\", 'title': 'OWASP LLM/GenAI Security Solutions Reference Guide v1.0', 'moddate': \"D:20241029231321Z00'00'\", 'source': 'pdfs\\\\OWASP_LLMGenAI_SecuritySolutions_ReferenceGuide.pdf', 'total_pages': 34, 'page': 15, 'page_label': '16'}, page_content='| GenAIƬLLMSecOpsandSecķriĴřSolķĴionLandscape\\nT˘˦˧aˡdE˩a˟˨a˧˜ˢˡ\\nAt thisstageintheLLMSDLCandOpsprocessƬthefocusisonrigorouslyassessingthe\\napplicationǑsperformanceƬsecurityƬandreliabilityƫThisstageinvolvesconductingcomprehensive\\ntestingƬincludingfunctionalƬsecurityƬandusabilitytestsƬtoensuretheLLMintegratesseamlessly\\nwiththeapplicationandmeetsalldeﬁnedrequirementsƫEvaluationmetricsareusedtomeasure\\nthe modelǑs accuracyƬ response timesƬ and user interactionsƬ allowing for ﬁneǀtuning and\\nadjustmentsƫThisphaseiscrucialforidentifyingandresolvinganyissuesbeforetheapplicationis\\ndeployedtoproductionƬensuringitoperateseffectivelyandsecurelyinrealǀworldenvironmentsƫ\\nTypicalActivitiesƭ\\nLLMOps LLMSecOps\\nƔ Evaluatethemodelonvalidation\\nandtestdatasetsƫ\\nƔ IntegrationTesting\\nƔ Performbiasandfairnesschecksƫ\\nƔ StressƸPerformanceTesting\\nƔ Usecrossǀvalidationandother\\ntechniquestoensurerobustnessƫ\\nƔ Validatethemodelǋsinterpretability\\nandexplainabilityƫ\\nƔ AdversarialTesting\\nƔ ApplicationSecurityOrchestrationand\\nCorrelation\\nƔ BiasandFairnessTesting\\nƔ FinalSecurityAudit\\nƔ IncidentSimulationƬResponseTesting\\nƔ LLMBenchmarking\\nƔ PenetrationTesting\\nƔ SASTƸDASTƸIAST\\nƔ VulnerabilityScanning\\nR˘˟˘a˦˘\\nThefocusshiftstodeployingtheﬁnalizedapplicationtotheproductionenvironmentƫThis\\nstageinvolvesﬁnalizingthedeploymentstrategyƬconﬁguringtheinfrastructureforscalabilityand\\nsecurityƬandensuringthatallcomponentsƬincludingtheLLMƬareintegratedandfunctioningas\\nintendedƫ CriticaltasksincludesettingupmonitoringandalertingsystemsƬconductingaﬁnal\\nsecurityreviewƬandpreparingforuseronboardingƫThegoalistoensureasmoothandsecure\\ntransitionfromdevelopmenttoproductionƬmakingtheapplicationavailabletouserswithminimal\\nriskanddowntimeƫ\\nVersion1ƫ0 15of34'),\n",
              " Document(metadata={'producer': 'macOS Version 10.15.7 (Build 19H1615) Quartz PDFContext', 'creator': 'PyPDF', 'creationdate': \"D:20241029231321Z00'00'\", 'title': 'OWASP LLM/GenAI Security Solutions Reference Guide v1.0', 'moddate': \"D:20241029231321Z00'00'\", 'source': 'pdfs\\\\OWASP_LLMGenAI_SecuritySolutions_ReferenceGuide.pdf', 'total_pages': 34, 'page': 16, 'page_label': '17'}, page_content='| GenAIƬLLMSecOpsandSecķriĴřSolķĴionLandscape\\nTypicalActivitiesƭ\\nLLMOps LLMSecOps\\nƔ Enablecontinuousdeliveryof\\nmodelupdates\\nƔ Integratesecuritychecksand\\nautomatedtestinginthepipelineƫ\\nƔ Packagethemodelfordeployment\\nƺeƫgƫƬusingDockerƬKubernetesƻƫ\\nƔ SetupCIƸCDpipelinestoautomate\\napplicationandmodeltrainingƬ\\ntestingƬanddeploymentƫ\\nƔ AIƸMLBillofMaterialsƺBOMƻ\\nƔ DigitalModelƹDatasetSigning\\nƔ ModelSecurityPostureEvaluation\\nƔ SecureCIƸCDpipeline\\nƔ SecureSupplyChainVeriﬁcation\\nƔ StaticandDynamicCodeAnalysis\\nƔ UserAccessControlValidation\\nƔ ModelSerializationDefenses\\nD˘ˣ˟ˢˬ\\nThe focus is on securely launching the LLMand its associated components into the\\nproduction environmentƫ This stage involves conﬁguring the deployment infrastructure for\\nscalabilityandreliabilityƬ ensuringthat all securitymeasuresareinplaceƬ andvalidatingthe\\nintegration of the LLMwithother applicationcomponentsƫ Keyactivitiesincludesettingup\\nrealǀtimemonitoringƬconductingﬁnalcheckstopreventanyvulnerabilitiesƬandimplementing\\nfallbackmechanismstoensurecontinuousoperationƫThegoalistosmoothlytransitionfrom\\ndevelopmenttoliveoperationƬensuringthattheapplicationisreadytohandlerealǀworldusageƫ\\nTypicalActivitiesƭ\\nLLMOps LLMSecOps\\nƔ InfrastructureSetup\\nƔ Integratewithexistingsystemsor\\napplicationsƫ\\nƔ ModelandAppDeployment\\nƔ SetupAPIsorservicesforaccess\\nƔ Useraccessandrolemanagement\\nƔ ComplianceVeriﬁcation\\nƔ DeploymentValidation\\nƔ DigitalModelƹDatasetSigningVeriﬁcation\\nƔ EncryptionƬSecretsmanagement\\nƔ LLMEnabledWebApplicationFirewall\\nƔ MultiǀfactorAuthentication\\nƔ NetworkSecurityValidation\\nƔ SecretsManagement\\nƔ SecureAPIAccess\\nƔ SecureConﬁguration\\nƔ UserandDataPrivacyProtections\\nVersion1ƫ0 16of34'),\n",
              " Document(metadata={'producer': 'macOS Version 10.15.7 (Build 19H1615) Quartz PDFContext', 'creator': 'PyPDF', 'creationdate': \"D:20241029231321Z00'00'\", 'title': 'OWASP LLM/GenAI Security Solutions Reference Guide v1.0', 'moddate': \"D:20241029231321Z00'00'\", 'source': 'pdfs\\\\OWASP_LLMGenAI_SecuritySolutions_ReferenceGuide.pdf', 'total_pages': 34, 'page': 17, 'page_label': '18'}, page_content='| GenAIƬLLMSecOpsandSecķriĴřSolķĴionLandscape\\nOˣ˘˥a˧˘\\nThefocusatthisstageintheLLMSDLCandOpsprocessisonmanagingandmaintainingthe\\napplicationinaliveproductionenvironmentƫThisstageinvolvescontinuousmonitoringofthe\\napplicationǑsperformanceƬ securityƬ anduser interactionstoensureitoperatessmoothlyand\\nsecurelyƫKeyactivitiesincluderespondingtoincidentsƬapplyingupdatesorpatchesƬandreﬁning\\nthemodelbasedonrealǀworlddataandfeedbackƫThegoalistomaintainhighavailabilityƬoptimize\\nperformanceƬandensuretheapplicationremainssecureandeffectiveovertimeƫ\\nTypicalActivitiesƭ\\nLLMOps LLMSecOps\\nƔ FeedbackCollection\\nƔ IterativeEnhancements\\nƔ ModelMaintenance\\nƔ PerformanceManagement\\nƔ ScalabilityandInfrastructure\\nManagement\\nƔ UserSupportandIssueResolution\\nƔ AdversarialAttackProtection\\nƔ AutomatedVulnerabilityScanning\\nƔ DataIntegrityandEncryption\\nƔ LLMGuardrails\\nƔ LLMIncidentDetectionandResponse\\nƔ PatchManagement\\nƔ PrivacyƬDataLeakageProtection\\nƔ PromptSecurity\\nƔ RuntimeApplicationSelfǀProtection\\nƔ SecureOutputHandling\\nMˢˡ˜˧ˢ˥\\nThefocusatthisstageisoncontinuouslyobservingtheapplicationǑsperformanceƬsecurityƬ\\nanduserinteractionsinrealǀtimeƫThisstageinvolvestrackingkeymetricsƬdetectinganomaliesƬ\\nandensuringtheLLMmodelandapplicationcomponentsarefunctioningasexpectedƫMonitoring\\nalsoincludesgatheringdataforongoingimprovementƬidentifyingpotentialissuesbeforethey\\nimpactusersƬandmaintainingcompliancewithsecurityandoperationalstandardsƫThegoalisto\\nensuretheapplicationremainsstableƬsecureƬandeŨcientthroughoutitslifecycleƫ\\nTypicalActivitiesƭ\\nLLMOps LLMSecOps\\nƔ Automateretrainingprocesses\\nbasedonnewdataƫ\\nƔ Detectandrespondtomodeldriftor\\ndegradationƫ\\nƔ Managemodelversioningand\\nrollbackifnecessary\\nƔ MonitormodelperformanceƺeƫgƫƬ\\nlatencyƬaccuracyƬuserinteractionsƻƫ\\nƔ AdversarialInputDetection\\nƔ ModelBehaviorAnalysis\\nƔ AIƸLLMSecurePostureManagement\\nƔ PatchandUpdateAlerts\\nƔ RegulatoryComplianceTracking\\nƔ SecurityAlerting\\nƔ SecurityMetricsCollection\\nƔ UserActivityMonitoring\\nƔ Observability\\nƔ DataPrivacyandProtection\\nƔ EthicalCompliance\\nVersion1ƫ0 17of34'),\n",
              " Document(metadata={'producer': 'macOS Version 10.15.7 (Build 19H1615) Quartz PDFContext', 'creator': 'PyPDF', 'creationdate': \"D:20241029231321Z00'00'\", 'title': 'OWASP LLM/GenAI Security Solutions Reference Guide v1.0', 'moddate': \"D:20241029231321Z00'00'\", 'source': 'pdfs\\\\OWASP_LLMGenAI_SecuritySolutions_ReferenceGuide.pdf', 'total_pages': 34, 'page': 18, 'page_label': '19'}, page_content='| GenAIƬLLMSecOpsandSecķriĴřSolķĴionLandscape\\nGˢ˩˘˥ˡ\\nAt thisstageintheLLMOpsprocessƬ thefocusisonestablishingandenforcingpoliciesƬ\\nstandardsƬandbestpracticestoensuretheapplicationoperatessecurelyandethicallythroughout\\nitslifecycleƫThisstageinvolvessettinggovernanceframeworksthatoverseedatausageƬmodel\\nmanagementƬcomplianceƬandsecuritycontrolsƫKeyactivitiesincludeauditingƬriskmanagementƬ\\nandensuringtheapplicationadherestoregulatoryrequirementsandorganizationalpoliciesƫ\\nTypicalActivitiesƭ\\nLLMOps LLMSecOps\\nConductregularauditsforcompliance\\nƺeƫgƫƬGDPRƬCCPAƻƫ\\nDataGovernance\\nDocumentmodeldecisionsƬdatasets\\nusedƬandmodelversionsƫ\\nImplementmodelgovernance\\nframeworksƫ\\nBiasandFairnessOversight\\nComplianceManagement\\nDataSecurityPostureManagement\\nIncidentGovernance\\nRiskAssessmentandManagement\\nUserƸMachineAccessaudits\\nMaˣˣiˡg˧ˢ˧heOWASPTˢˣ10fˢ˥LLMTh˥ea˧Mˢdel\\nƺﬁgureƭOWASPTop10forLLMApplicationarchitectureandThreatModelƻ\\nHavingacommonviewof typical LLMapplicationarchitecturesƬincludingagentsƬmodelsƬ\\nLLMsƬandtheMLapplicationstackƬiscrucialfordeﬁningandaligningtheapplicationstackand\\nsecuritymodelƫByleveragingtheapplicationarchitecturefromtheOWASPTop10forLLMsƬwecan\\nalignappropriatesecuritysolutionswiththespeciﬁcrisksandmitigationareasidentiﬁedinthe\\nOWASPTop10ƫThisalignmentensuresacomprehensiveandcohesiveapproachtoaddressingthe\\nuniquesecuritychallengesposedbyLLMapplicationsƫ\\nVersion1ƫ0 18of34'),\n",
              " Document(metadata={'producer': 'macOS Version 10.15.7 (Build 19H1615) Quartz PDFContext', 'creator': 'PyPDF', 'creationdate': \"D:20241029231321Z00'00'\", 'title': 'OWASP LLM/GenAI Security Solutions Reference Guide v1.0', 'moddate': \"D:20241029231321Z00'00'\", 'source': 'pdfs\\\\OWASP_LLMGenAI_SecuritySolutions_ReferenceGuide.pdf', 'total_pages': 34, 'page': 19, 'page_label': '20'}, page_content='| GenAIƬLLMSecOpsandSecķriĴřSolķĴionLandscape\\nApplicationSerŒices\\nAn LLM application service uses large language models to process and generate\\nhumanǀliketextfortaskslikechatbotsƬtranslationƬandcontentcreationƫItintegrateswith\\ndata agentsƬ APIsƬ and security measures to ensure seamlessƬ secureƬ andeŨcient\\nAIǀdrivenservicesƬmanagingthemodellifecyclefromtrainingtodeploymentƫ\\nProductionSerŒices\\nProductionservicesdeployandmanagelargelanguagemodelsforrealǀtimeapplicationsƬ\\nensuringhighperformanceƬscalabilityƬandsecurityƫTheseserviceshandlemodeltrainingƬ\\nversioningƬ and monitoringƬ integrating with APIs and securityframeworkstodeliver\\nreliableappslikechatbotsandtranslationservicesinaproductionenvironmentƫ\\nTrainingDaĴaĮeĴĮǽProceĮĮing\\nTrainingdatasetsconsistofvastƬdiversetextsourcesƬincludingbooksƬarticlesƬandweb\\ncontentƫToensurequalityandconsistencyƬthesedatasetsundergopreprocessingsteps\\nliketokenizationƬcleaningƬandnormalizationƫ\\nDoœnĮĴreamSerŒiceĮ\\nDownstreamservicesutilizetheoutputoflanguagemodelsforapplicationssuchas\\nchatbotsƬcontentgenerationƬsentimentanalysisƬandautomatedtranslationsƫThese\\nservicesintegrateLLMcapabilitiestoenhanceuserinteractionsanddataprocessing\\nEŘĴernaldaĴaĮoķrceĮ\\nExternaldatasourcesincludewebcrawlingthroughsearchengineAPIsƬremote\\ndatastoresƬandthirdǀpartyAPIsƫTheyprovideadditionalcontextandupǀtoǀdate\\ninformationƬenhancingthemodelǑsaccuracyandrelevancebysupplementingthe\\npreǀtraineddatawithrealǀtimeƬdomainǀspeciﬁcinsightsƫ\\nOWASPTˢˣ10fˢ˥LLM˦Sˢl˨˧iˢˡ˦Laˡd˦caˣe\\nThe LLMsecuritysolutionslandscapeleveragestheLLMSecOpsframeworkandintegrates\\nseamlessly with the LLMOps processesƬ encompassing ScopeƸPlanƬ Model FineǀTuningƸData\\nAugmentationƬ TestƸEvaluateƬ ReleaseƬ DeployƬ OperateƬ MonitorƬ and Govern stagesƫ This\\nframeworkensuresthatsecurityisembeddedateveryphaseoftheLLMlifecycleƬaddressing\\nuniquechallengesposedbyLLMapplicationsƬ includingpromptǀbasedinterfacesƬautomation\\nagentsƬLLMextensionsƬandcomplexLLMǀdrivenapplicationsƫ\\nThelandscapeincludesbothtraditionalsecuritycontrolsextendedtosupportLLMModelsƬ\\napplicationsƬ and workloadsƬ as well as specialized security solutions designed for LLM\\nenvironmentsƫWhilenotintendedtobeacomprehensivelistitprovidesaguidingframeworkfor\\nsecurityprofessionalslookingtointegratesecuritycontrolsandaddresstheLLMApplicationTop\\n10securityrisksaspartoftheLLMapplicationandoperationslifecycleƫ\\nVersion1ƫ0 19of34'),\n",
              " Document(metadata={'producer': 'macOS Version 10.15.7 (Build 19H1615) Quartz PDFContext', 'creator': 'PyPDF', 'creationdate': \"D:20241029231321Z00'00'\", 'title': 'OWASP LLM/GenAI Security Solutions Reference Guide v1.0', 'moddate': \"D:20241029231321Z00'00'\", 'source': 'pdfs\\\\OWASP_LLMGenAI_SecuritySolutions_ReferenceGuide.pdf', 'total_pages': 34, 'page': 20, 'page_label': '21'}, page_content='| GenAIƬLLMSecOpsandSecķriĴřSolķĴionLandscape\\nEmergingGenAI/LLM-SpecificSecuritˬSolutions\\nThearchitectureandapproachesforLLMsandGenerativeAIapplicationsarestillintheir\\ninfancyƬ introducingnewchallengesthat extendbeyondthescopeoftraditionalsecurityand\\nDevSecOps practicesƬ often operating in unpredictable and dynamic environments where\\ntraditionalsecuritycontrolsmayfallshortinaddressingspeciﬁcriskssuchaspromptinjectionƬ\\nadversarialmanipulationƬandethicalbiasesƫ\\nWehavebeguntoseenewsolutionsemergingthataddressthesesecuritygapsandhave\\nattemptedtocapturetheminthetablebelowƫWewillcontinuetoupdateourlistasnewsolutions\\nappearƫThesecategoriesaretypicallyearlyindevelopmentƬbutcanhaveimmediatebeneﬁtsƫ\\nSecuritySolutions Description\\nLLMFiīeœall AnLLMﬁrewallisasecuritylayerspeciﬁcallydesignedtoprotectlargelanguage\\nmodelsƺLLMsƻfromunauthorizedaccessƬmaliciousinputsƬandpotentiallyharmful\\noutputsƫ This ﬁrewall monitors andﬁlters interactions withtheLLMƬ blocking\\nsuspiciousoradversarialinputsthatcouldmanipulatethemodelǑsbehaviorƫItalso\\nenforces predeﬁnedrules andpoliciesƬ ensuringthattheLLMonlyrespondsto\\nlegitimate requests within the deﬁned ethical and functional boundariesƫ\\nAdditionallyƬtheLLMﬁrewallcanpreventdataexﬁltrationandsafeguardsensitive\\ninformationbycontrollingtheﬂowofdatainandoutofthemodelƫ\\nLLMAķĴďmaĴed\\nBenchmaīking\\nƺincludesvulnerability\\nscanningƻ\\nLLMǀspeciﬁc benchmarking tools arespecializedtools designedtoidentify and\\nassess security weaknesses unique to large language models ƺLLMsƻƫ These\\ncapabilitiesincludedetectingpotentialissuessuchaspromptinjectionattacksƬdata\\nleakageƬadversarialinputsƬandmodelbiasesthatmaliciousactorscouldexploitƫThe\\nscannerevaluatesthemodelǑsresponsesandbehaviorsinvariousscenariosƬﬂagging\\nvulnerabilitiesthattraditionalsecuritytoolsmightoverlookƫ\\nLLMGķaīdīailĮ LLMguardrailsareprotectivemechanismsdesignedtoensurethatlargelanguage\\nmodelsƺLLMsƻoperatewithindeﬁnedethicalƬlegalƬandfunctionalboundariesƫThese\\nguardrailshelppreventthemodelfromgeneratingharmfulƬbiasedƬorinappropriate\\ncontentbyenforcingrulesƬconstraintsƬandcontextualguidelinesduringinteractionƫ\\nLLMguardrails canincludecontent ﬁlteringƬ ethical guidelinesƬ adversarial input\\ndetectionƬanduserintentvalidationƬensuringthattheLLMǋsoutputsalignwiththe\\nintendedusecaseandorganizationalpoliciesƫ\\nAISecķīiĴř\\nPďĮĴķīe\\nManagemenĴ\\nAIǀSPMhasemergedasanewindustrytermpromotedbyvendorsandanalyststo\\ncapturetheconceptofaplatformapproachtosecurityposturemanagementforAIƬ\\nincludingLLMandGenAIsystemsƫAIǀSPMfocusesonthespeciﬁcsecurityneedsof\\ntheseadvancedAI systemsƫ FocusedonthemodelsthemselvestraditionallyƫThe\\nstatedgoal of this category is tocover theentireAI lifecycleǃfromtrainingto\\ndeploymentǃhelpingtoensuremodelsareresilientƬtrustworthyƬandcompliantwith\\nindustrystandardsƫ AIǀSPMtypicallyprovidesmonitoringandaddressvulnerabilities\\nlikedatapoisoningƬmodeldriftƬadversarialattacksƬandsensitivedataleakageƫ\\nƺtableƭListofNewLLMSpeciﬁcSecuritySolutionsƻ\\nVersion1ƫ0 20of34'),\n",
              " Document(metadata={'producer': 'macOS Version 10.15.7 (Build 19H1615) Quartz PDFContext', 'creator': 'PyPDF', 'creationdate': \"D:20241029231321Z00'00'\", 'title': 'OWASP LLM/GenAI Security Solutions Reference Guide v1.0', 'moddate': \"D:20241029231321Z00'00'\", 'source': 'pdfs\\\\OWASP_LLMGenAI_SecuritySolutions_ReferenceGuide.pdf', 'total_pages': 34, 'page': 21, 'page_label': '22'}, page_content='| GenAIƬLLMSecOpsandSecķriĴřSolķĴionLandscape\\nLLM&GenerativeAISecuritˬSolutions\\nThesecuritysolutionsmatrixbelowisbasedontheLLMSecOpslifecycleƬandmappingittothe\\nOWASPTop10for LLMsandGenerativeAI offersatargetedapproachtoassessingsecurity\\ncontrolsƫThismatrixhelpsidentifygapsbyaligningsecuritytoolswithOWASPǋskeyrisksateach\\nstageƬsuchasadversarialattacksanddataleakageƫ\\nBycrossǀreferencingexistingsecuritymeasureswiththespeciﬁcneedsofLLMandGenerative\\nAIapplicationsƬorganizationscanensurecomprehensivecoverageandstrengthentheirsecurity\\npostureacrosstheentiredevelopmentprocessƫ\\nGENAISEC8RIT<SOL8TIONSLANDSCAPE-ONLINEDIRECTOR<\\nhttps://genai.owasp.org/ai-security-solutions-landscape/\\nVisittheonlinedirectorřtoseethelatestsolķtionslisting\\nThesolutionlandscapeof opensourceprojectsandproprietaryofferingswillbeupdated\\nquarterlyinthisdocumenttoensurethecommunitymaintainsareasonablyupdatedreferencelistƫ\\nWearealsomaintaininganonǀlinedirectorontheprojectwebsitetoprovidethemostuptodate\\nlistingsƫTheselistingsarecommunityandresearchsourcedƫ\\nSolutionlistingsmaybesubmittedonlinebycompaniesƬprojectsorindividualsƫSubmissions\\nwill be reviewed for accuracy before publishingƫ Belowis an outline of thesolutionmatrix\\nmaintainedinthedocumentwithdeﬁnitionsforeachareaƫ\\nSˢl˨˧iˢˡLaˡd˦caˣeMa˧˥i˫Defiˡi˧iˢˡ˦\\nE;AMPLE\\nSolķtion\\nƺProjectƬProdķctƬSerŒiceƻ\\nTřpe\\nƺOpenSoķrceƬ\\nProprietarřƻ\\nProjectƬ\\nCompanř\\nGen\\nAIƸLLMSecOps\\nCategorřCoŒerage\\nTopųŲforLLM\\nRiskCoŒerage\\nPīďjecĴƸPīďdķcĴName\\nCīeaĴehřĨeīlinkĴďĴhe\\nĨīďjecĴƸĨīďdķcĴ\\nOĨeĊSďķīce OĨeĊSďķīcePīďjecĴ\\nNaĉeƬCďĉĨaĊř\\nNaĉe\\nLiĮĴďfcďŒeīed\\nĮecķīiĴřcďĊĴīďl\\ncaĴegďīi\\neĮĨīďŒidedœiĴhiĊ\\neachĮĴage\\nLiĮĴďfĴheLLMTďĨųŲ\\nRiĮkĮCďŒeīedbřĴhe\\nĮďlķĴiďĊƫUĮeǈLLMǅAllǉ\\nfďīallcaĴegďīieĮƫ\\nVersion1ƫ0 21of34'),\n",
              " Document(metadata={'producer': 'macOS Version 10.15.7 (Build 19H1615) Quartz PDFContext', 'creator': 'PyPDF', 'creationdate': \"D:20241029231321Z00'00'\", 'title': 'OWASP LLM/GenAI Security Solutions Reference Guide v1.0', 'moddate': \"D:20241029231321Z00'00'\", 'source': 'pdfs\\\\OWASP_LLMGenAI_SecuritySolutions_ReferenceGuide.pdf', 'total_pages': 34, 'page': 22, 'page_label': '23'}, page_content='| GenAIƬLLMSecOpsandSecķriĴřSolķĴionLandscape\\nLandscapeSolutionMatri˫\\nSCOPINGƸPLANNING\\nSolķĴion Třpe ProjecĴƸCompanř GenAIƸLLMSecOps TopųŲforLLM\\nRiskCoŒerage\\nSĴīðÌÐGPT OĨeĊSďķīce SĴīðÌÐGPT Ɣ ThīeaĴMďdeliĊg LLMǅAll\\nMðĴīÐAĴăaĮ PīďĨīieĴaīř MðĴīÐ Ɣ ThīeaĴMďdeliĊg LLMǅAll\\nDATAA8GMENTATIONANDFINE-T8NING\\nSolķĴion Třpe ProjecĴƸCompanř GenAIƸLLMSecOps TopųŲforLLM\\nRiskCoŒerage\\nCloakedAI PīďĨīieĴaīř IronCoreLabs Ɣ SecķīeDaĴaHaĊdliĊg LLMŲŸ\\nUnstructred.io PīďĨīieĴaīř UĊĮĴīķcĴķīÐÌƫðď Ɣ SecķīeDaĴaHaĊdliĊg LLMŲŸ\\nDEˉELO˃MENˇANDEˋ˃E˅IMENˇAˇION\\nSolķĴion Třpe ProjecĴƸCompanř GenAIƸLLMSecOps TopųŲforLLM\\nRiskCoŒerage\\nAquaSecurity PīďĨīieĴaīř AquaSecurity Ɣ SASTƬDASTǽIAST\\nƔ SecureLibraryƸCode\\nRepository\\nƔ SoftwareComposition\\nAnalysis\\nƔ SecureLibraryƸCode\\nRepository\\nLLMŲųƬLLMŲŴƬ\\nLLMŲŵƬLLMŲŶƬ\\nLLMŲŷƬLLMŲŸƬ\\nLLMŲŹƬLLMŲźƬ\\nLLMŲŻƬLLMųŲ\\nCloakedAI PīďĨīieĴaīř IronCoreLabs Ɣ SecķīeDaĴaHaĊdliĊg LLMŲŸ\\nFickling OĨeĊSďķīce TrailofBits Ɣ PickleLibrary\\nƔ MaliciousRunǀtimeFile\\nDetection\\nLLMŲŵ\\nPrivacyRaven OĨeĊSďķīce TrailofBits Ɣ Privacytestinglibraryfor\\nAImodels\\nƔ MaliciousRunǀtimeFile\\nDetection\\nLLMŲŵƬLLMŲŸ\\nVersion1ƫ0 22of34'),\n",
              " Document(metadata={'producer': 'macOS Version 10.15.7 (Build 19H1615) Quartz PDFContext', 'creator': 'PyPDF', 'creationdate': \"D:20241029231321Z00'00'\", 'title': 'OWASP LLM/GenAI Security Solutions Reference Guide v1.0', 'moddate': \"D:20241029231321Z00'00'\", 'source': 'pdfs\\\\OWASP_LLMGenAI_SecuritySolutions_ReferenceGuide.pdf', 'total_pages': 34, 'page': 23, 'page_label': '24'}, page_content='| GenAIƬLLMSecOpsandSecķriĴřSolķĴionLandscape\\nPangeaSanitize Proprietary Pangea Ɣ ModelAndApplication\\nInteractionSecurity\\nƔ SecureCodingPractices\\nLLMŲŴƬLLMŲŵƬ\\nLLMŲŷƬLLMŲŸ\\nPangeaAuthorization Proprietary Pangea Ɣ AccessƬAuthentication\\nAndAuthorizationƺMFAƻ\\nƔ ModelAndApplication\\nInteractionSecurity\\nƔ SecureCodingPractices\\nLLMŲŶƬLLMŲŸƬ\\nLLMŲŹƬLLMŲźƬ\\nLLMųŲ\\nPangeaAuthentication Proprietary Pangea Ɣ AccessƬAuthentication\\nAndAuthorizationƺMFAƻƬ\\nƔ ModelAndApplication\\nInteractionSecurityƬ\\nƔ SecureCodingPractices\\nLLMŲŶƬLLMŲŹƬ\\nLLMųŲ\\nPangeaRedact Proprietary Pangea Ɣ ModelAndApplication\\nInteractionSecurityƬ\\nƔ SecureCodingPractices\\nLLMŲŶƬLLMŲŹƬ\\nLLMųŲ\\nPurpleLlamaCodeShield OpenSource Meta-PurpleLlama Ɣ InsecureCodeGeneration LLMŲŴ\\nPangeaDataGuard Proprietary Pangea Ɣ ModelAndApplication\\nInteractionSecurityƬ\\nƔ SecureCodingPractices\\nLLMŲŶƬLLMŲŹƬ\\nLLMųŲ\\nPangeaPromptGuard Proprietary Pangea Ɣ ModelAndApplication\\nInteractionSecurityƬ\\nƔ SecureCodingPractices\\nLLMŲųƬLLMŲŵ\\nCiscoAIValidation Proprietary CiscoSystems Ɣ AdversarialInput\\nDetectionƬ\\nƔ AIƸLLMSecurePosture\\nManagement\\nƔ FinalSecurityAudit\\nIncidentSimulation\\nƔ LLMBenchmarking\\nLLMŲųƬLLMŲŵƬ\\nLLMŲŶƬLLMŲŸƬ\\nLLMŲŻ\\nMendAI Proprietary Mend.io Ɣ LLMǽAppVulnerability\\nScanning\\nƔ ModelAndApplication\\nInteractionSecurity\\nƔ SASTƸDASTƸIAST\\nƔ SecureCodingPractices\\nƔ SecureLibraryƸCode\\nRepository\\nƔ SoftwareComposition\\nAnalysis\\nLLMŲųƬLLMŲŴƬ\\nLLMŲŵƬLLMŲŶƬ\\nLLMŲŸƬLLMŲŹƬ\\nLLMŲźƬLLMŲŻƬ\\nLLMųŲ\\nVersion1ƫ0 23of34'),\n",
              " Document(metadata={'producer': 'macOS Version 10.15.7 (Build 19H1615) Quartz PDFContext', 'creator': 'PyPDF', 'creationdate': \"D:20241029231321Z00'00'\", 'title': 'OWASP LLM/GenAI Security Solutions Reference Guide v1.0', 'moddate': \"D:20241029231321Z00'00'\", 'source': 'pdfs\\\\OWASP_LLMGenAI_SecuritySolutions_ReferenceGuide.pdf', 'total_pages': 34, 'page': 24, 'page_label': '25'}, page_content='| GenAIƬLLMSecOpsandSecķriĴřSolķĴionLandscape\\nTESTANDEVALUATION\\nSolution Type ProjectƸCompany GenAIƸLLMSecOps Topų0forLLM\\nRiskCoverage\\nLLMVulnerability\\nScanner\\nOpenSource Garak.AI Ɣ LLMVulnerability\\nScanning\\nLLM01\\nPromptFoo OpenSource PromptFoo Ɣ AdversarialTesting\\nƔ BiasandFairness\\nTesting\\nƔ FinalSecurityAudit\\nƔ LLMBenchmarking\\nƔ PenetrationTesting\\nƔ SASTƸDASTƸIAST\\nƔ VulnerabilityScanning\\nLLM01ƬLLM02ƬLLM03Ƭ\\nLLM04ƬLLM05ƬLLM06Ƭ\\nLLM07ƬLLM08ƬLLM09Ƭ\\nLLM10\\nModelscan OpenSource ProtectAI Ɣ PenetrationTesting\\nVulnerabilityScanning\\nLLM03ƬLLM06ƬLLM10\\nCyberSecEval OpenSource Meta Ɣ AdversarialTesting\\nƔ LLMBenchmarking\\nƔ VulnerabilityScanning\\nLLM01ƬLLM02ƬLLM07Ƭ\\nLLM08ƬLLM09ƬLLM10\\nCiscoAIValidation Proprietary CiscoSystems Ɣ AdversarialInput\\nDetectionƬ\\nƔ AIƸLLMSecure\\nƔ PostureManagement\\nƔ FinalSecurityAudit\\nƔ IncidentSimulation\\nƔ LLMBenchmarking\\nLLM01ƬLLM03ƬLLM04Ƭ\\nLLM06ƬLLM09\\nEnkryptAI Proprietary EnkryptAI Ɣ AdversarialTesting\\nƔ BiasAndFairness\\nTestingƬ\\nƔ FinalSecurityAudit\\nƔ IncidentSimulation\\nƔ LLMBenchmarking\\nƔ PenetrationTesting\\nƔ ResponseTesting\\nƔ SASTƸDASTƸIAST\\nƔ VulnerabilityScanning\\nLLM01ƬLLM02ƬLLM03Ƭ\\nLLM04ƬLLM06ƬLLM07Ƭ\\nLLM08ƬLLM09ƬLLM10\\nHarmbench OpenSource Harmbench Ɣ AdversarialTesting\\nƔ BiasAndFairness\\nTesting\\nƔ IncidentSimulation\\nƔ LLMBenchmarking\\nƔ ResponseTesting\\nƔ VulnerabilityScanning\\nLLM01ƬLLM02ƬLLM03Ƭ\\nLLM06ƬLLM08ƬLLM09\\nAquaSecurity Proprietary AquaSecurity Ɣ AdversarialAttack\\nProtection\\nƔ SASTƸDASTƸIAST\\nƔ SecureCIƸCDPipeline\\nƔ SecureLibraryƸCode\\nRepository\\nLLM01ƬLLM02ƬLLM03Ƭ\\nLLM04ƬLLM05ƬLLM06Ƭ\\nLLM07ƬLLM08ƬLLM09Ƭ\\nLLM10\\nVersion1ƫ0 24of34'),\n",
              " Document(metadata={'producer': 'macOS Version 10.15.7 (Build 19H1615) Quartz PDFContext', 'creator': 'PyPDF', 'creationdate': \"D:20241029231321Z00'00'\", 'title': 'OWASP LLM/GenAI Security Solutions Reference Guide v1.0', 'moddate': \"D:20241029231321Z00'00'\", 'source': 'pdfs\\\\OWASP_LLMGenAI_SecuritySolutions_ReferenceGuide.pdf', 'total_pages': 34, 'page': 25, 'page_label': '26'}, page_content='| GenAIƬLLMSecOpsandSecķriĴřSolķĴionLandscape\\nƔ SoftwareComposition\\nAnalysis\\nƔ VulnerabilityScanning\\nPromptFuzzer OpenSource PromptSecurity Ɣ AdversarialTestingƬ\\nƔ BiasAndFairness\\nTestingƬ\\nƔ IncidentSimulationƬ\\nƔ ResponseTesting\\nLLM01ƬLLM02ƬLLM03Ƭ\\nLLM06\\nPillarSecurity Proprietary PillarSecurity Ɣ AdversarialTestingƬ\\nƔ LLMBenchmarkingƬ\\nƔ PenetrationTesting\\nLLM01ƬLLM02ƬLLM04Ƭ\\nLLM06ƬLLM07ƬLLM08\\nZenGuardAI Proprietary ZenGuardAI Ɣ AdversarialAttack\\nProtectionƬ\\nƔ AdversarialTestingƬ\\nƔ Automated\\nVulnerability\\nScanningƬ\\nƔ DataLeakage\\nProtectionƬ\\nƔ LLMGuardrailsƬ\\nƔ PenetrationTestingƬ\\nƔ PrivacyƬPrompt\\nSecurityƬ\\nƔ SecureOutput\\nHandling\\nLLM01ƬLLM02ƬLLM04Ƭ\\nLLM05ƬLLM06ƬLLM07Ƭ\\nLLM08ƬLLM10\\nGiskard OpenSource Giskard Ɣ AdversarialTestingƬ\\nƔ BiasandFairness\\nTesting\\nƔ LLMBenchmarkingƬ\\nƔ VulnerabilityScanning\\nLLM01ƬLLM02ƬLLM06Ƭ\\nLLM08ƬLLM09\\nVersion1ƫ0 25of34'),\n",
              " Document(metadata={'producer': 'macOS Version 10.15.7 (Build 19H1615) Quartz PDFContext', 'creator': 'PyPDF', 'creationdate': \"D:20241029231321Z00'00'\", 'title': 'OWASP LLM/GenAI Security Solutions Reference Guide v1.0', 'moddate': \"D:20241029231321Z00'00'\", 'source': 'pdfs\\\\OWASP_LLMGenAI_SecuritySolutions_ReferenceGuide.pdf', 'total_pages': 34, 'page': 26, 'page_label': '27'}, page_content='| GenAIƬLLMSecOpsandSecķriĴřSolķĴionLandscape\\nRELEASE\\nSolution Type ProjectƸCompany GenAIƸLLMSecOps Topų0forLLM\\nRiskCoverage\\nCiscoAIValidation PīďĨīieĴaīř CiscoSystems MďdelSecķīiĴřPďĮĴķīe\\nEŒalķaĴiďĊƬSecķīeSķĨĨlř\\nChaiĊVeīiťcaĴiďĊ\\nLLMŲųƬLLMŲŵƬLLMŲŶƬ\\nLLMŲŷƬLLMŲŸƬLLMŲŻ\\nCycloneDX OĨeĊSďķīce CřcăďĊÐDX LLMƸMLBOMGeĊeīaĴiďĊ LLMŲŷ\\nAquaSecurity PīďĨīieĴaīř AquaSecurity Ɣ SASTƬDASTǽIAST\\nƔ SecureLibraryƸCode\\nRepository\\nƔ SoftwareComposition\\nAnalysis\\nƔ SecureLibraryƸCode\\nRepository\\nLLMŲųƬLLMŲŴƬLLMŲŵƬ\\nLLMŲŶƬLLMŲŷƬLLMŲŸƬ\\nLLMŲŹƬLLMŲźƬLLMŲŻƬ\\nLLMųŲ\\nLegitSecurity-\\nAI-SPM\\nProprietary LegitSecurity AIGeneratedCode\\nDetection\\nLLMŲŷ\\nDEPLO<\\nSolution Type ProjectƸCompany GenAIƸLLMSecOps Topų0forLLM\\nRiskCoverage\\nCiscoAIRuntime PīďĨīieĴaīř CðĮcďSřĮĴÐĉĮ LLMEĊabledWeb\\nAĨĨlicaĴiďĊFiīeœallƬ\\nUĮeīaĊdDaĴaPīiŒacř\\nPīďĴecĴiďĊĮ\\nLLMŲųƬLLMŲŴƬ\\nLLMŲŶƬLLMŲŸƬ\\nLLMŲŹƬLLMŲźƬ\\nLLMŲŻƬLLMųŲ\\nPurpleLlamaCodeShield OĨeĊSďķīce MeĴa LLMŲŴ\\nOPERATE\\nSolution Type ProjectƸCompany GenAIƸLLMSecOps Topų0forLLM\\nRiskCoverage\\nLLMGuard OpenSource ProtectAI PrivacyƬDataLeakage\\nProtection\\nPromptSecurityƬ\\nAdversarialAttack\\nProtection\\nVersion1ƫ0 26of34'),\n",
              " Document(metadata={'producer': 'macOS Version 10.15.7 (Build 19H1615) Quartz PDFContext', 'creator': 'PyPDF', 'creationdate': \"D:20241029231321Z00'00'\", 'title': 'OWASP LLM/GenAI Security Solutions Reference Guide v1.0', 'moddate': \"D:20241029231321Z00'00'\", 'source': 'pdfs\\\\OWASP_LLMGenAI_SecuritySolutions_ReferenceGuide.pdf', 'total_pages': 34, 'page': 27, 'page_label': '28'}, page_content='| GenAIƬLLMSecOpsandSecķriĴřSolķĴionLandscape\\nAquaSecurity Proprietary AquaSecurity AdversarialAttack\\nProtectionƬ\\nAdversarialTestingƬ\\nAutomated\\nVulnerabilityScanningƬ\\nDataLeakage\\nProtectionƬ\\nLLMGuardrailsƬ\\nPenetrationTestingƬ\\nPrivacyƬPrompt\\nSecurityƬ\\nSecureOutputHandling\\nLLM01ƬLLM02Ƭ\\nLLM03ƬLLM04Ƭ\\nLLM05ƬLLM06Ƭ\\nLLM07ƬLLM08Ƭ\\nLLM09ƬLLM10\\nZenGuardAI PīoĨīieĴaīř Zenguard.ai AdversarialAttack\\nProtectionƬ\\nAutomated\\nVulnerabilityScanningƬ\\nLLMGuardrailsƬPrivacy\\nDataLeakage\\nProtection\\nPromptSecurity\\nSecureOutputHandling\\nLLM01ƬLLM02Ƭ\\nLLM03ƬLLM04Ƭ\\nLLM05ƬLLM06Ƭ\\nLLM07ƬLLM08Ƭ\\nLLM09ƬLLM10Ƭ\\nLLMǅAll\\nAIBlueTeam PīoĨīieĴaīř NRI\\nSecureTechnologies\\nAdversarialAttack\\nProtectionƬLLM\\nGuardrailsƬLLM\\nIncidentDetectionand\\nResponseƬPrivacyƬ\\nDataLeakage\\nProtectionƬPrompt\\nSecurityƬSecure\\nOutputHandling\\nLLM01ƬLLM02Ƭ\\nLLM04ƬLLM06Ƭ\\nLLM08ƬLLM09\\nCiscoAIRuntime CiscoSystems AdversarialAttack\\nProtectionƬLLM\\nGuardrailsƬLLM\\nIncidentDetectionand\\nResponseƬPrivacyƬ\\nDataLeakage\\nProtectionƬPrompt\\nSecurityƬRuntime\\nApplication\\nSelfǀProtectionƬSecure\\nOutputHandling\\nLLM01ƬLLM02Ƭ\\nLLM04ƬLLM06Ƭ\\nLLM07ƬLLM08Ƭ\\nLLM09ƬLLM10\\nVersion1ƫ0 27of34'),\n",
              " Document(metadata={'producer': 'macOS Version 10.15.7 (Build 19H1615) Quartz PDFContext', 'creator': 'PyPDF', 'creationdate': \"D:20241029231321Z00'00'\", 'title': 'OWASP LLM/GenAI Security Solutions Reference Guide v1.0', 'moddate': \"D:20241029231321Z00'00'\", 'source': 'pdfs\\\\OWASP_LLMGenAI_SecuritySolutions_ReferenceGuide.pdf', 'total_pages': 34, 'page': 28, 'page_label': '29'}, page_content='| GenAIƬLLMSecOpsandSecķriĴřSolķĴionLandscape\\nMONITOR\\nSolution Type ProjectƸCompany GenAIƸLLMSecOps Topų0forLLM\\nRiskCoverage\\nCiscoAIValidation Proprietary CiscoSystems AdversarialInput\\nDetectionƬModel\\nBehaviorAnalysisƬ\\nAIƸLLMSecurePosture\\nManagementƬRegulatory\\nComplianceTracking\\nLLM01ƬLLM03Ƭ\\nLLM04ƬLLM05Ƭ\\nLLM06ƬLLM09\\nAISecPlatform Proprietary HiddenLayer AdversarialInput\\nDetectionƬ\\nModelBehaviorAnalysisƬ\\nAIƸLLMSecurePosture\\nManagementƬ\\nRegulatoryCompliance\\nTrackingƬ\\nSecurityAlertingƬ\\nUserActivityMonitoringƬ\\nObservabilityƬ\\nDataPrivacyand\\nProtection\\nLLM01ƬLLM02Ƭ\\nLLM04ƬLLM05Ƭ\\nLLM06ƬLLM07Ƭ\\nLLM08ƬLLM10\\nAquaSecurity Proprietary AquaSecurity AIƸLLMSecurePosture\\nManagement\\nLLM04ƬLLM06Ƭ\\nLLM10\\nSPLX.AI Proprietary BrandEngagement\\nNetworks\\nAdversarialInput\\nDetectionƬAIƸLLM\\nSecurePosture\\nManagementƬRegulatory\\nComplianceTrackingƬ\\nSecurityMetrics\\nCollectionƬObservabilityƬ\\nDataPrivacyand\\nProtectionƬEthical\\nCompliance\\nLLM01ƬLLM02Ƭ\\nLLM03ƬLLM04Ƭ\\nLLM05ƬLLM06Ƭ\\nLLM07ƬLLM08Ƭ\\nLLM09ƬLLM10\\nPromptGuard OpenSource Meta ModelBehaviorAnalysis LLM01ƬLLM02Ƭ\\nLLM03ƬLLM04Ƭ\\nLLM05ƬLLM06Ƭ\\nLLM07ƬLLM08Ƭ\\nLLM09ƬLLM10\\nLakera Proprietary Lakera AdversarialInput\\nDetectionƬRegulatory\\nComplianceTrackingƬ\\nSecurityAlertingƬ\\nSecurityMetrics\\nCollectionƬDataPrivacy\\nandProtectionƬEthical\\nCompliance\\nLLM01ƬLLM02Ƭ\\nLLM03ƬLLM04Ƭ\\nLLM05ƬLLM06Ƭ\\nLLM07ƬLLM08Ƭ\\nLLM09ƬLLM10\\nVersion1ƫ0 28of34'),\n",
              " Document(metadata={'producer': 'macOS Version 10.15.7 (Build 19H1615) Quartz PDFContext', 'creator': 'PyPDF', 'creationdate': \"D:20241029231321Z00'00'\", 'title': 'OWASP LLM/GenAI Security Solutions Reference Guide v1.0', 'moddate': \"D:20241029231321Z00'00'\", 'source': 'pdfs\\\\OWASP_LLMGenAI_SecuritySolutions_ReferenceGuide.pdf', 'total_pages': 34, 'page': 29, 'page_label': '30'}, page_content='| GenAIƬLLMSecOpsandSecķriĴřSolķĴionLandscape\\nGO9ERN\\nSolution Type ProjectƸCompany GenAIƸLLMSecOps Topų0forLLM\\nRiskCoverage\\nLassoSecureGatewayfor\\nLLMs\\nPīďĨīieĴaīř LaĮĮďSÐcķīðĴř\\nƺSilŒeīSĨďĊĮďīƻ\\nƔ LLMSecķīe\\nGaĴeœař\\nLLMŲųƬLLMŲŴ\\nAISecurityǽGovernance PīďĨīieĴaīř SÐcķīðĴð\\nƺSilŒeīSĨďĊĮďīƻ\\nƔ MďdelDiĮcďŒeīř\\nƔ MďdelRiĮk\\nMaĊageĉeĊĴ\\nLLMŲŵƬLLMŲŸƬ\\nLLMŲŻ\\nCiscoAIValidation PīďĨīieĴaīř CðĮcďSřĮĴÐĉĮ Ɣ CďĉĨliaĊce\\nMaĊageĉeĊĴƬ\\nƔ RiĮkAĮĮeĮĮĉeĊĴ\\naĊdMaĊageĉeĊĴ\\nLLMŲųƬLLMŲŵƬ\\nLLMŲŶƬLLMŲŸƬLLMŲŻ\\nAIVerify OĨeĊSďķīce AIVÐīðåřFďķĊÌaĴðďĊ Ɣ BiaĮaĊdFaiīĊeĮĮ\\nOŒeīĮighĴ\\nƔ RiĮkAĮĮeĮĮĉeĊĴ\\naĊdMaĊageĉeĊĴ\\nLLMŲŵƬLLMŲŸƬ\\nLLMŲŻ\\nPromptSecurity PīďĨīieĴaīř PromptSecurity BiaĮaĊdFaiīĊeĮĮ\\nOŒeīĮighĴƬ\\nCďĉĨliaĊce\\nMaĊageĉeĊĴƬDaĴa\\nSecķīiĴřPďĮĴķīe\\nMaĊageĉeĊĴƬ\\nIĊcideĊĴ\\nGďŒeīĊaĊceƬRiĮk\\nAĮĮeĮĮĉeĊĴaĊd\\nMaĊageĉeĊĴƬ\\nUĮeīƸMachiĊe\\nAcceĮĮaķdiĴĮ\\nLLMŲųƬLLMŲŴƬ\\nLLMŲŵƬLLMŲŶƬ\\nLLMŲŷƬLLMŲŸƬ\\nLLMŲŹƬLLMŲźƬ\\nLLMŲŻƬLLMųŲ\\nVersion1ƫ0 29of34'),\n",
              " Document(metadata={'producer': 'macOS Version 10.15.7 (Build 19H1615) Quartz PDFContext', 'creator': 'PyPDF', 'creationdate': \"D:20241029231321Z00'00'\", 'title': 'OWASP LLM/GenAI Security Solutions Reference Guide v1.0', 'moddate': \"D:20241029231321Z00'00'\", 'source': 'pdfs\\\\OWASP_LLMGenAI_SecuritySolutions_ReferenceGuide.pdf', 'total_pages': 34, 'page': 30, 'page_label': '31'}, page_content='| GenAIƬLLMSecOpsandSecķriĴřSolķĴionLandscape\\nAckˡˢ˪ledgeˠeˡ˧˦\\nLeadA˨˧hˢ˥˦ Re˩ie˪e˥˦\\nScottClinton\\nAdsDawson\\nJasonRoss\\nHeatherLinn\\nAndySmith\\nArunJohn\\nAuroraStarita\\nBlancaRiveraCampos\\nBryanNakayama\\nDanGuido\\nDennysPereira\\nEmmanuelGuilherme\\nFabrizioCilli\\nGarvinLeClaire\\nHeatherLinn\\nHelenOakley\\nIshanAnand\\nJasonRoss\\nJoshuaBerkoh\\nKrishnaSankar\\nMarcelWinandy\\nMarkusHupfauer\\nMigelFernandes\\nMohitYadav\\nRachelJames\\nRammohanThirupasur\\nRicoKomenda\\nRammohanThirupasur\\nTaleshSeeparsan\\nTeruhiroTagomori\\nToddHathaway\\nRonFƫDelRosario\\nVaibhavMalik\\nCˢˡ˧˥˜b˨˧ˢ˥˦\\nAndySmith\\nArunJohn\\nAuroraStarita\\nBryanNakayama\\nDennysPereira\\nEmmanuelGuilherme\\nFabrizioCilli\\nGarvinLeClaire\\nHelenOakley\\nIshanAnand\\nJasonRoss\\nMarcelWinandy\\nMarkusHupfauer\\nMigelFernandes\\nMohitYadav\\nRachelJames\\nRicoKomenda\\nTaleshSeeparsan\\nTeruhiroTagomori\\nToddHathaway\\nRonFƫDelRosario\\nVaibhavMalik\\nVersion1ƫ0 30of34'),\n",
              " Document(metadata={'producer': 'macOS Version 10.15.7 (Build 19H1615) Quartz PDFContext', 'creator': 'PyPDF', 'creationdate': \"D:20241029231321Z00'00'\", 'title': 'OWASP LLM/GenAI Security Solutions Reference Guide v1.0', 'moddate': \"D:20241029231321Z00'00'\", 'source': 'pdfs\\\\OWASP_LLMGenAI_SecuritySolutions_ReferenceGuide.pdf', 'total_pages': 34, 'page': 31, 'page_label': '32'}, page_content='| GenAIƬLLMSecOpsandSecķriĴřSolķĴionLandscape\\nOWASPTˢˣ10fˢ˥LLMP˥ˢjec˧Sˣˢˡ˦ˢ˥˦\\nWeappreciateourProjectSponsorsƬfundingcontributionstohelpsupporttheobjectives\\noftheprojectandhelptocoveroperationalandoutreachcostsaugmentingtheresourcesthe\\nOWASPƫorgfoundationprovidesƫTheOWASPTop10forLLMandGenerativeAIProjectcontinuesto\\nmaintainavendorneutralandunbiasedapproachƫSponsorsdonotreceivespecialgovernance\\nconsiderationsaspartoftheirsupportƫSponsorsdoreceiverecognitionfortheircontributionsin\\nourmaterialsandwebpropertiesƫ\\nAllmaterialstheprojectgeneratesarecommunitydevelopedƬdrivenandreleasedunder\\nopensourceandcreativecommonslicensesƫFormoreinformationonbecomingasponsorVisit\\ntheSponsorshipSectiononourWebsitetolearnmoreabouthelpingtosustaintheprojectthrough\\nsponsorshipƫ\\nSil˩erSpon˦or˦\\nSponsorlistƬasofpublicationdateƫFindthefullsponsorlisthereƫ\\nVersion1ƫ0 31of34'),\n",
              " Document(metadata={'producer': 'macOS Version 10.15.7 (Build 19H1615) Quartz PDFContext', 'creator': 'PyPDF', 'creationdate': \"D:20241029231321Z00'00'\", 'title': 'OWASP LLM/GenAI Security Solutions Reference Guide v1.0', 'moddate': \"D:20241029231321Z00'00'\", 'source': 'pdfs\\\\OWASP_LLMGenAI_SecuritySolutions_ReferenceGuide.pdf', 'total_pages': 34, 'page': 32, 'page_label': '33'}, page_content='| GenAIƬLLMSecOpsandSecķriĴřSolķĴionLandscape\\nRefe˥eˡce˦\\nƔ AndreesenƸHorowitzƫƺnƫdƫƻƫEmergingarchitecturesforLLMsƫA16Zƫ\\nhttps://a16z.com/emerging-architectures-for-llm-applications/\\nƔ DatabricksƫƺnƫdƫƻƫLLMarchitectureƫGoogleDriveƫ\\nhttps://drive.google.com/ﬁle/d/166D_Pyt3iDu18xGl3qAoMza0cq-Y52AX/view?usp=drive_link\\nƔ ProtectAIƫƺnƫdƫƻƫWhatisinAIZerodayƲProtectAIBlogƫ\\nhttps://protectai.com/blog/what-is-in-ai-zeroday\\nƔ InsightPartnersƫƺnƫdƫƻƫLLMOpsǽMLOpsƭWhatyouneedtoknowƫInsightPartnersƫ\\nhttps://www.insightpartners.com/ideas/llmops-mlops-what-you-need-to-know/\\nƔ SoftwareEngineeringInstituteƫƺnƫdƫƻƫApplicationoflargelanguagemodelsƺLLMsƻinsoftware\\nengineeringƭOverblownhypeordisruptivechangeƲSEIInsightsƫ\\nhttps://insights.sei.cmu.edu/blog/application-of-large-language-models-llms-in-software-engineering-\\noverblown-hype-or-disruptive-change/\\nƔ Salesforceƫƺ2023ƬAugust3ƻƫSDLCforpromptsƭThenextevolutioninenterpriseAIdevelopmentƫ\\nSalesforceDevOpsƫ\\nhttps://salesforcedevops.net/index.php/2023/08/03/sdlc-for-prompts-the-next-evolution-in-enterprise\\nai-development/\\nƔ ValohaiƫƺnƫdƫƻƫLLMOpsƭEverythingyouneedtoknowƫValohaiBlogƫ\\nhttps://valohai.com/blog/llmops/\\nƔ SmartBridgeƫƺnƫdƫƻƫAIdonerightƭStreamlinedevelopmentǽboostvaluewithLLMOpsƫSmart\\nBridgeƫhttps://smartbridge.com/ai-done-right-streamline-development-boost-value-llmops/\\nƔ NeptuneAIƫƺnƫdƫƻƫMLOpstoolsǽplatformslandscapeƫNeptuneAIBlogƫ\\nhttps://neptune.ai/blog/mlops-tools-platforms-landscape\\nƔ IBMƫƺnƫdƫƻƫAlltheOpsƭDevOpsƬDataOpsƬMLOpsƬandAIOpsƫIBMDeveloperƫ\\nhttps://developer.ibm.com/articles/all-the-ops-devops-dataops-mlops-and-aiops/\\nƔ Arxivƫƺ2024ƻƫAcomprehensivestudyonlargelanguagemodelsandtheirsecurityrisksƫArxivƫ\\nhttps://arxiv.org/abs/2406.10300\\nƔ CloudSecurityAllianceƫƺnƫdƫƻƫCSAlargelanguagemodelƺLLMƻthreatstaxonomyƫCloudSecurity\\nAllianceƫhttps://cloudsecurityalliance.org/artifacts/csa-large-language-model-llm-threats-taxonomy\\nƔ SapphireVenturesƫƺnƫdƫƻƫGenAIinfrastartupsƫLinkedInƫ\\nhttps://www.linkedin.com/posts/sapphirevc_genai-infra-startups-activity-7186724761400442883-Xt3D\\nƔ AIMultipleƫƺnƫdƫƻƫLLMsecuritytoolsƫAIMultipleƫ\\nhttps://research.aimultiple.com/llm-security-tools/\\nVersion1ƫ0 32of34'),\n",
              " Document(metadata={'producer': 'macOS Version 10.15.7 (Build 19H1615) Quartz PDFContext', 'creator': 'PyPDF', 'creationdate': \"D:20241029231321Z00'00'\", 'title': 'OWASP LLM/GenAI Security Solutions Reference Guide v1.0', 'moddate': \"D:20241029231321Z00'00'\", 'source': 'pdfs\\\\OWASP_LLMGenAI_SecuritySolutions_ReferenceGuide.pdf', 'total_pages': 34, 'page': 33, 'page_label': '34'}, page_content='| GenAIƬLLMSecOpsandSecķriĴřSolķĴionLandscape\\nP˥ˢjec˧S˨ˣˣˢ˥˧e˥˦\\nProjectsupporterslendtheirresourcesandexpertisetosupportthegoalsoftheprojectƫ\\nHADESS\\nKLAVAN\\nPrecize\\nAWS\\nSnyk\\nAstraSecurity\\nAWARE7GmbH\\niFood\\nKainos\\nAigos\\nCloudSecurityPodcast\\nTrellix\\nCoalﬁre\\nHackerOne\\nIBM\\nBearer\\nBit79\\nStackarmor\\nCohere\\nQuiq\\nLakera\\nCredalƫai\\nPalosade\\nPromptSecurity\\nNuBinary\\nBalbix\\nSAFESecurity\\nBeDisruptive\\nPreamble\\nNexus\\nPromptArmor\\nExabeam\\nModusCreate\\nIronCoreLabs\\nCloudsecƫai\\nLayerup\\nMendƫio\\nGiskard\\nBBVA\\nRHITE\\nPraetorian\\nCobalt\\nNightfallAI\\nVersion1ƫ0 33of34')]"
            ]
          },
          "execution_count": 3,
          "metadata": {},
          "output_type": "execute_result"
        }
      ],
      "source": [
        "data"
      ]
    },
    {
      "cell_type": "markdown",
      "metadata": {
        "id": "dhCeKVOs6AKH"
      },
      "source": [
        "## Split the Extracted Data into Text Chunks"
      ]
    },
    {
      "cell_type": "code",
      "execution_count": 4,
      "metadata": {
        "id": "8TZQWLG8595f"
      },
      "outputs": [],
      "source": [
        "text_splitter = RecursiveCharacterTextSplitter(chunk_size=500, chunk_overlap=20)"
      ]
    },
    {
      "cell_type": "code",
      "execution_count": 5,
      "metadata": {
        "id": "J8ugXa2M6IRG"
      },
      "outputs": [],
      "source": [
        "text_chunks = text_splitter.split_documents(data)"
      ]
    },
    {
      "cell_type": "code",
      "execution_count": 6,
      "metadata": {
        "colab": {
          "base_uri": "https://localhost:8080/"
        },
        "id": "Fe-19krB6KqF",
        "outputId": "19d03a23-b630-4d38-abf5-916d0345979a"
      },
      "outputs": [
        {
          "data": {
            "text/plain": [
              "[Document(metadata={'producer': 'macOS Version 10.15.7 (Build 19H1615) Quartz PDFContext', 'creator': 'PyPDF', 'creationdate': \"D:20241029231321Z00'00'\", 'title': 'OWASP LLM/GenAI Security Solutions Reference Guide v1.0', 'moddate': \"D:20241029231321Z00'00'\", 'source': 'pdfs\\\\OWASP_LLMGenAI_SecuritySolutions_ReferenceGuide.pdf', 'total_pages': 34, 'page': 1, 'page_label': '2'}, page_content='| GenAIƬLLMSecOpsandSecķriĴřSolķĴionLandscape\\nPķblishedƭųŲƸŴŶƸŴŶ\\nRe˩i˦ionHi˦˧orˬ\\nRevision Date Authors Description\\nƫ01 6Ƹ4Ƹ2024 ScottClinton InitialDraftƬCharter\\nƫ05 8Ƹ10Ƹ2024 ScottClintonƬ\\nContributorsInputs\\nUpdatedwithinitial\\nfeedback\\nƫ06 10Ƹ15Ƹ2024 ScottClintonƬ\\nContributorsƬReviewer\\nInputs\\nReǀfactorSolutions\\nLandscapecategoriesƬ\\n1ƫ0 10Ƹ15Ƹ2024 ContributorsƬReviewers FinalReleaseCandidate\\nTheinformationprovidedinthisdocumentdoesnotƬandisnotintendedtoƬconstitutelegal'),\n",
              " Document(metadata={'producer': 'macOS Version 10.15.7 (Build 19H1615) Quartz PDFContext', 'creator': 'PyPDF', 'creationdate': \"D:20241029231321Z00'00'\", 'title': 'OWASP LLM/GenAI Security Solutions Reference Guide v1.0', 'moddate': \"D:20241029231321Z00'00'\", 'source': 'pdfs\\\\OWASP_LLMGenAI_SecuritySolutions_ReferenceGuide.pdf', 'total_pages': 34, 'page': 1, 'page_label': '2'}, page_content='adviceƫAllinformationisforgeneralinformationalpurposesonlyƫThisdocumentcontainslinksto\\notherthirdǀpartywebsitesƫSuchlinksareonlyforconvenienceƬandOWASPdoesnotrecommend\\norendorsethecontentsofthethirdǀpartysitesƫ\\nLicen˦eandU˦age\\nTh˜˦dˢc˨ˠeˡ˧˜˦˟˜ceˡ˦ed˨ˡde˥C˥ea˧˜˩eCˢˠˠˢˡ˦,CCBY-SA4.0\\nYouarefreetoƭ\\nƔ Shareǃcopyandredistributethematerialinanymediumorformat\\nƔ AdaptǃremixƬtransformƬandbuilduponthematerialforanypurposeƬeven\\ncommerciallyƫ\\nƔ Underthefollowingtermsƭ'),\n",
              " Document(metadata={'producer': 'macOS Version 10.15.7 (Build 19H1615) Quartz PDFContext', 'creator': 'PyPDF', 'creationdate': \"D:20241029231321Z00'00'\", 'title': 'OWASP LLM/GenAI Security Solutions Reference Guide v1.0', 'moddate': \"D:20241029231321Z00'00'\", 'source': 'pdfs\\\\OWASP_LLMGenAI_SecuritySolutions_ReferenceGuide.pdf', 'total_pages': 34, 'page': 1, 'page_label': '2'}, page_content='ż AttributionǃYoumustgiveappropriatecreditƬprovidealinktothelicenseƬ\\nandindicateifchangesweremadeƫYoumaydosoinanyreasonablemanner\\nbutnotinanywaythatsuggeststhelicensorendorsesyouoryouruseƫ\\nż AttributionGuidelinesǀmustincludetheprojectnameaswellasthename\\noftheassetReferenced\\nŶ OWASPTop10forLLMsǀLLMSecOpsSolutionsLandscape\\nŶ OWASPTop10forLLMsǀCyberSecuritySolutionandLLMSecOps\\nLandscapeGuide\\nƔ ShareAlikeǃIfyouremixƬtransformƬorbuilduponthematerialƬyoumustdistribute'),\n",
              " Document(metadata={'producer': 'macOS Version 10.15.7 (Build 19H1615) Quartz PDFContext', 'creator': 'PyPDF', 'creationdate': \"D:20241029231321Z00'00'\", 'title': 'OWASP LLM/GenAI Security Solutions Reference Guide v1.0', 'moddate': \"D:20241029231321Z00'00'\", 'source': 'pdfs\\\\OWASP_LLMGenAI_SecuritySolutions_ReferenceGuide.pdf', 'total_pages': 34, 'page': 1, 'page_label': '2'}, page_content='yourcontributionsunderthesamelicenseastheoriginalƫ\\nLinkĴďfķlllicenĮeĴeŘĴƭhttpsƭƸƸcreativecommons.orgƸlicensesƸbyǀsaƸ4.0Ƹlegalcode\\nTheinformationprovidedinthisdocumentdoesnotƬandisnotintendedtoƬconstitutelegaladviceƫAllinformationisfor\\ngeneralinformationalpurposesonlyƫThisdocumentcontainslinkstootherthirdǀpartywebsitesƫSuchlinksareonlyfor\\nconvenienceandOWASPdoesnotrecommendorendorsethecontentsofthethirdǀpartysitesƫ\\nVersion1ƫ0 1of34'),\n",
              " Document(metadata={'producer': 'macOS Version 10.15.7 (Build 19H1615) Quartz PDFContext', 'creator': 'PyPDF', 'creationdate': \"D:20241029231321Z00'00'\", 'title': 'OWASP LLM/GenAI Security Solutions Reference Guide v1.0', 'moddate': \"D:20241029231321Z00'00'\", 'source': 'pdfs\\\\OWASP_LLMGenAI_SecuritySolutions_ReferenceGuide.pdf', 'total_pages': 34, 'page': 2, 'page_label': '3'}, page_content='| GenAIƬLLMSecOpsandSecķriĴřSolķĴionLandscape\\nCˢˡ˧eˡ˧˦\\nWhRIVThiVDRcXPeQWFRU?.......................................................................................................3\\nObMecWiYeV.....................................................................................................................................3\\nScRSe............................................................................................................................................3'),\n",
              " Document(metadata={'producer': 'macOS Version 10.15.7 (Build 19H1615) Quartz PDFContext', 'creator': 'PyPDF', 'creationdate': \"D:20241029231321Z00'00'\", 'title': 'OWASP LLM/GenAI Security Solutions Reference Guide v1.0', 'moddate': \"D:20241029231321Z00'00'\", 'source': 'pdfs\\\\OWASP_LLMGenAI_SecuritySolutions_ReferenceGuide.pdf', 'total_pages': 34, 'page': 2, 'page_label': '3'}, page_content='InĴīďdķcĴiďnƫƫƫƫƫƫƫƫƫƫƫƫƫƫƫƫƫƫƫƫƫƫƫƫƫƫƫƫƫƫƫƫƫƫƫƫƫƫƫƫƫƫƫƫƫƫƫƫƫƫƫƫƫƫƫƫƫƫƫƫƫƫƫƫƫƫƫƫƫƫƫƫƫƫƫƫƫƫƫƫƫƫƫƫƫƫƫƫƫƫƫƫƫƫƫƫƫƫƫƫƫƫƫƫƫƫƫƫƫƫƫƫƫƫƫƫƫƫƫƫƫŶ\\nDefiQiQgWheSecXUiW\\\\SROXWiRQVLaQdVcaSe..............................................................................4\\nLaQGVFaSHCRQVLGHUaWLRQV......................................................................................................4\\nLLMASSOicaWiRQCaWegRUieV,SecXUiW\\\\ChaOOeQgeV.............................................................5'),\n",
              " Document(metadata={'producer': 'macOS Version 10.15.7 (Build 19H1615) Quartz PDFContext', 'creator': 'PyPDF', 'creationdate': \"D:20241029231321Z00'00'\", 'title': 'OWASP LLM/GenAI Security Solutions Reference Guide v1.0', 'moddate': \"D:20241029231321Z00'00'\", 'source': 'pdfs\\\\OWASP_LLMGenAI_SecuritySolutions_ReferenceGuide.pdf', 'total_pages': 34, 'page': 2, 'page_label': '3'}, page_content='SWaWLFPURPSWAXJPHQWaWLRQASSOLFaWLRQV..........................................................................6\\nAJHQWLFASSOLFaWLRQV...........................................................................................................7\\nLLMPOXJ-LQV,E[WHQVLRQV..................................................................................................8\\nCRPSOH[ASSOLFaWLRQV........................................................................................................9'),\n",
              " Document(metadata={'producer': 'macOS Version 10.15.7 (Build 19H1615) Quartz PDFContext', 'creator': 'PyPDF', 'creationdate': \"D:20241029231321Z00'00'\", 'title': 'OWASP LLM/GenAI Security Solutions Reference Guide v1.0', 'moddate': \"D:20241029231321Z00'00'\", 'source': 'pdfs\\\\OWASP_LLMGenAI_SecuritySolutions_ReferenceGuide.pdf', 'total_pages': 34, 'page': 2, 'page_label': '3'}, page_content='LLMDeYeORSPeQWaQdCRQVXPSWiRQMRdeOV...................................................................10\\nLLMOSVaQdLLMSecOSVDefiQed.....................................................................................11\\nAQXLFNOSVPULPHU-FRXQGaWLRQIRULLMOSV................................................................11\\nLLMOSVLLIHC\\\\FOHSWaJHV -FRXQGaWLRQIRULLMDHYSHFOSV........................................12'),\n",
              " Document(metadata={'producer': 'macOS Version 10.15.7 (Build 19H1615) Quartz PDFContext', 'creator': 'PyPDF', 'creationdate': \"D:20241029231321Z00'00'\", 'title': 'OWASP LLM/GenAI Security Solutions Reference Guide v1.0', 'moddate': \"D:20241029231321Z00'00'\", 'source': 'pdfs\\\\OWASP_LLMGenAI_SecuritySolutions_ReferenceGuide.pdf', 'total_pages': 34, 'page': 2, 'page_label': '3'}, page_content='SFRSLQJ/POaQQLQJ.......................................................................................................13\\nDaWaAXJPHQWaWLRQaQGFLQH-TXQLQJ.........................................................................14\\nASSOLFaWLRQDHYHORSPHQWaQGE[SHULPHQWaWLRQ.........................................................14\\nTHVWaQGEYaOXaWLRQ....................................................................................................15'),\n",
              " Document(metadata={'producer': 'macOS Version 10.15.7 (Build 19H1615) Quartz PDFContext', 'creator': 'PyPDF', 'creationdate': \"D:20241029231321Z00'00'\", 'title': 'OWASP LLM/GenAI Security Solutions Reference Guide v1.0', 'moddate': \"D:20241029231321Z00'00'\", 'source': 'pdfs\\\\OWASP_LLMGenAI_SecuritySolutions_ReferenceGuide.pdf', 'total_pages': 34, 'page': 2, 'page_label': '3'}, page_content='RHOHaVH......................................................................................................................15\\nDHSOR\\\\........................................................................................................................16\\nOSHUaWH......................................................................................................................16'),\n",
              " Document(metadata={'producer': 'macOS Version 10.15.7 (Build 19H1615) Quartz PDFContext', 'creator': 'PyPDF', 'creationdate': \"D:20241029231321Z00'00'\", 'title': 'OWASP LLM/GenAI Security Solutions Reference Guide v1.0', 'moddate': \"D:20241029231321Z00'00'\", 'source': 'pdfs\\\\OWASP_LLMGenAI_SecuritySolutions_ReferenceGuide.pdf', 'total_pages': 34, 'page': 2, 'page_label': '3'}, page_content='MRQLWRU.......................................................................................................................17\\nGRYHUQ.......................................................................................................................18\\nMaSSLQJWRWKHOWASPTRS10IRULLMTKUHaWMRGHO....................................................18\\nASSOLFaWLRQSHUYLFHV...................................................................................................19'),\n",
              " Document(metadata={'producer': 'macOS Version 10.15.7 (Build 19H1615) Quartz PDFContext', 'creator': 'PyPDF', 'creationdate': \"D:20241029231321Z00'00'\", 'title': 'OWASP LLM/GenAI Security Solutions Reference Guide v1.0', 'moddate': \"D:20241029231321Z00'00'\", 'source': 'pdfs\\\\OWASP_LLMGenAI_SecuritySolutions_ReferenceGuide.pdf', 'total_pages': 34, 'page': 2, 'page_label': '3'}, page_content='PURGXFWLRQSHUYLFHV...................................................................................................19\\nOWASPTRS10fRULLMVSROXWiRQVLaQdVcaSe......................................................................20\\nEPHUJLQJGHQAI/LLM-SSHFLILFSHFXULW\\\\SROXWLRQV.................................................................21\\nLLM&GHQHUaWLYHAISHFXULW\\\\SROXWLRQV................................................................................22'),\n",
              " Document(metadata={'producer': 'macOS Version 10.15.7 (Build 19H1615) Quartz PDFContext', 'creator': 'PyPDF', 'creationdate': \"D:20241029231321Z00'00'\", 'title': 'OWASP LLM/GenAI Security Solutions Reference Guide v1.0', 'moddate': \"D:20241029231321Z00'00'\", 'source': 'pdfs\\\\OWASP_LLMGenAI_SecuritySolutions_ReferenceGuide.pdf', 'total_pages': 34, 'page': 2, 'page_label': '3'}, page_content='SROXWLRQLaQGVFaSHMaWUL[DHILQLWLRQV.............................................................................22\\nLaQGVFaSHSROXWLRQMaWUL[....................................................................................................23\\nAcNQRZOedgePeQWV...................................................................................................................29\\nOWASPTRS10fRULLMPURMecWSSRQVRUV..............................................................................30'),\n",
              " Document(metadata={'producer': 'macOS Version 10.15.7 (Build 19H1615) Quartz PDFContext', 'creator': 'PyPDF', 'creationdate': \"D:20241029231321Z00'00'\", 'title': 'OWASP LLM/GenAI Security Solutions Reference Guide v1.0', 'moddate': \"D:20241029231321Z00'00'\", 'source': 'pdfs\\\\OWASP_LLMGenAI_SecuritySolutions_ReferenceGuide.pdf', 'total_pages': 34, 'page': 2, 'page_label': '3'}, page_content='RefeUeQceV.................................................................................................................................31\\nPURMecWSXSSRUWeUV....................................................................................................................32\\nVersion1ƫ0 2of34'),\n",
              " Document(metadata={'producer': 'macOS Version 10.15.7 (Build 19H1615) Quartz PDFContext', 'creator': 'PyPDF', 'creationdate': \"D:20241029231321Z00'00'\", 'title': 'OWASP LLM/GenAI Security Solutions Reference Guide v1.0', 'moddate': \"D:20241029231321Z00'00'\", 'source': 'pdfs\\\\OWASP_LLMGenAI_SecuritySolutions_ReferenceGuide.pdf', 'total_pages': 34, 'page': 3, 'page_label': '4'}, page_content='| GenAIƬLLMSecOpsandSecķriĴřSolķĴionLandscape\\nWhˢI˦Thi˦Dˢc˨ˠeˡ˧Fˢ˥?\\nThis document is tailored for a diverse audience comprising developersƬ AppSec\\nprofessionalsƬ DevSecOps and MLSecOps teamsƬ dataengineersƬ datascientistsƬ CISOsƬ and\\nsecurityleaderswhoarefocusedondevelopingstrategiestosecureLargeLanguageModels\\nƺLLMsƻandGenerativeAIapplicationsƫItprovidesareferenceguideofthesolutionsavailabletoaid\\ninsecuringLLMapplicationsƬequippingthemwiththeknowledgeandtoolsnecessarytobuild'),\n",
              " Document(metadata={'producer': 'macOS Version 10.15.7 (Build 19H1615) Quartz PDFContext', 'creator': 'PyPDF', 'creationdate': \"D:20241029231321Z00'00'\", 'title': 'OWASP LLM/GenAI Security Solutions Reference Guide v1.0', 'moddate': \"D:20241029231321Z00'00'\", 'source': 'pdfs\\\\OWASP_LLMGenAI_SecuritySolutions_ReferenceGuide.pdf', 'total_pages': 34, 'page': 3, 'page_label': '4'}, page_content='robustƬsecureAIapplicationsƫ\\nObjec˧i˩e˦\\nThisdocumentisintendedtobeacompaniontotheOWASPTop10forLargeLanguageModel\\nƺLLMƻApplicationsListandtheCISOCybersecurityǽGovernanceChecklistƫItsprimaryobjectiveis\\ntoprovideareferenceresourcefor organizationsseekingtoaddresstheidentiﬁedrisksand\\nenhancetheirsecurityprogramsƫWhilenotdesignedtobeanallǀinclusiveresourceƬthisdocument\\noffersaresearchedpointofviewbasedonthetopsecuritycategoriesandemergingthreatareasƫ'),\n",
              " Document(metadata={'producer': 'macOS Version 10.15.7 (Build 19H1615) Quartz PDFContext', 'creator': 'PyPDF', 'creationdate': \"D:20241029231321Z00'00'\", 'title': 'OWASP LLM/GenAI Security Solutions Reference Guide v1.0', 'moddate': \"D:20241029231321Z00'00'\", 'source': 'pdfs\\\\OWASP_LLMGenAI_SecuritySolutions_ReferenceGuide.pdf', 'total_pages': 34, 'page': 3, 'page_label': '4'}, page_content='ItcapturesthemostimpactfulexistingandemergingcategoriesƫBycategorizingƬdeﬁningƬand\\naligningapplicabletechnologysolutionareaswiththeemergingLLMandgenerativeAIthreat\\nlandscapeƬthisdocumentaimstosimplifyresearcheffortsandserveasasolutionsreference\\nguideƫ\\nScˢˣe\\nThescopeofthisdocumentistocreateashareddeﬁnitionofsolutioncategoryareasthat\\naddressthesecurityoftheLLMandgenerativeAIlifecycleƬfromdevelopmenttodeploymentand\\nusageƫ This alignment supports the OWASP Top 10 List For LLMs outcomes and the CISO'),\n",
              " Document(metadata={'producer': 'macOS Version 10.15.7 (Build 19H1615) Quartz PDFContext', 'creator': 'PyPDF', 'creationdate': \"D:20241029231321Z00'00'\", 'title': 'OWASP LLM/GenAI Security Solutions Reference Guide v1.0', 'moddate': \"D:20241029231321Z00'00'\", 'source': 'pdfs\\\\OWASP_LLMGenAI_SecuritySolutions_ReferenceGuide.pdf', 'total_pages': 34, 'page': 3, 'page_label': '4'}, page_content='CybersecurityandGovernanceChecklistƫ ToachievethisƬ thedocument will createaninitial\\nframework and category descriptorsƬ utilizing both openǀsource solutions and providing\\nmechanisms for solution providers to align their offerings with speciﬁc coverage areas as\\nexamplestosupporteachcategoryƫ\\nThedocumentadherestoseveralkeyrulestomaintainitsintegrityandusefulnessƭ\\nƔ VendďīǀAgnďĮĴic and OĨen AĨĨīďachƭ It maintains a neutral stanceƬ avoiding'),\n",
              " Document(metadata={'producer': 'macOS Version 10.15.7 (Build 19H1615) Quartz PDFContext', 'creator': 'PyPDF', 'creationdate': \"D:20241029231321Z00'00'\", 'title': 'OWASP LLM/GenAI Security Solutions Reference Guide v1.0', 'moddate': \"D:20241029231321Z00'00'\", 'source': 'pdfs\\\\OWASP_LLMGenAI_SecuritySolutions_ReferenceGuide.pdf', 'total_pages': 34, 'page': 3, 'page_label': '4'}, page_content='recommendationsofonetechnologyoveranotherƬinsteadprovidingcategoryguidance\\nwithchoicesandoptionsƫ\\nƔ SĴīaighĴfďīœaīdƬ AcĴiďnableGķidanceƭThedocumentoffersclearƬactionableadvice\\nthatorganizationscanreadilyimplementƫ\\nƔ CďďīdinaĴed Knďœledge GīaĨhƭ It includes coordinated termsƬ deﬁnitionsƬ and\\ndescriptionsforkeyconceptsƫ\\nƔ PďinĴĴďEŘiĮĴingSĴandaīdĮƭWhereexistingstandardsorsourcesoftruthareavailableƬ\\nthedocumentreferencestheseinsteadofcreatingnewsourcesƬensuringconsistency\\nandreliabilityƫ'),\n",
              " Document(metadata={'producer': 'macOS Version 10.15.7 (Build 19H1615) Quartz PDFContext', 'creator': 'PyPDF', 'creationdate': \"D:20241029231321Z00'00'\", 'title': 'OWASP LLM/GenAI Security Solutions Reference Guide v1.0', 'moddate': \"D:20241029231321Z00'00'\", 'source': 'pdfs\\\\OWASP_LLMGenAI_SecuritySolutions_ReferenceGuide.pdf', 'total_pages': 34, 'page': 3, 'page_label': '4'}, page_content='andreliabilityƫ\\nVersion1ƫ0 3of34'),\n",
              " Document(metadata={'producer': 'macOS Version 10.15.7 (Build 19H1615) Quartz PDFContext', 'creator': 'PyPDF', 'creationdate': \"D:20241029231321Z00'00'\", 'title': 'OWASP LLM/GenAI Security Solutions Reference Guide v1.0', 'moddate': \"D:20241029231321Z00'00'\", 'source': 'pdfs\\\\OWASP_LLMGenAI_SecuritySolutions_ReferenceGuide.pdf', 'total_pages': 34, 'page': 4, 'page_label': '5'}, page_content='| GenAIƬLLMSecOpsandSecķriĴřSolķĴionLandscape\\nIˡ˧˥ˢd˨c˧iˢˡ\\nWiXhXhegVS[XhSfGeReVaXiZeAIadSTXiSR,YWage,aRdaTTPicaXiSRdeZePSTQeRXcSQeWRe[\\nViWOWXhaXaffecXhS[SVgaRi^aXiSRWWXVaXegi^eaRdiRZeWX.AWXheWeViWOWeZSPZe,WSdSViWOQiXigaXiSR\\nWSPYXiSRW,XechRSPSgieW,fVaQe[SVOW,aRdXa\\\\SRSQieW.TS aidWecYViX]PeadeVWiRTViSViXi^aXiSR,\\ncSRZeVWaXiSRWabSYXeQeVgiRgXechRSPSg]aRdWSPYXiSRaVeaWQYWXbeaPigRedaTTVSTViaXeP]XS\\ncPeaVP]YRdeVWXSSdbYWiReWWSYXcSQeWfSVAIWecYViX]WSPYXiSRW.ThebusinessoutcomesofAI'),\n",
              " Document(metadata={'producer': 'macOS Version 10.15.7 (Build 19H1615) Quartz PDFContext', 'creator': 'PyPDF', 'creationdate': \"D:20241029231321Z00'00'\", 'title': 'OWASP LLM/GenAI Security Solutions Reference Guide v1.0', 'moddate': \"D:20241029231321Z00'00'\", 'source': 'pdfs\\\\OWASP_LLMGenAI_SecuritySolutions_ReferenceGuide.pdf', 'total_pages': 34, 'page': 4, 'page_label': '5'}, page_content='securitysolutionsmustbeproperlydeﬁnedtoaidsecurityleadersinbudgeting\\nMany organizations have already invested heavily in various security toolsƬ such as\\nvulnerabilitymanagement systemsƬ identityandaccessmanagementƺIAMƻsolutionsƬendpoint\\nsecurityƬDynamicApplicationSecurityTestingƺDASTƻƬobservabilityplatformsƬandsecureCIƸCD\\nƺContinuousIntegrationƸContinuousDeploymentƻtoolsƬtonameafewƫHoweverƬthesetraditional\\nsecuritytoolsmaynotbesuŨcienttofullyaddressthecomplexitiesofAIapplicationsƬleadingto'),\n",
              " Document(metadata={'producer': 'macOS Version 10.15.7 (Build 19H1615) Quartz PDFContext', 'creator': 'PyPDF', 'creationdate': \"D:20241029231321Z00'00'\", 'title': 'OWASP LLM/GenAI Security Solutions Reference Guide v1.0', 'moddate': \"D:20241029231321Z00'00'\", 'source': 'pdfs\\\\OWASP_LLMGenAI_SecuritySolutions_ReferenceGuide.pdf', 'total_pages': 34, 'page': 4, 'page_label': '5'}, page_content='gapsinprotectionthatmaliciousactorscanexploitƫForexampleƬtraditionalsecuritytoolsmaynot\\nsuŨcientlyaddresstheuniquedatasecurityandsensitiveinformationdisclosureprotectioninthe\\ncontext of LLMandGenAIapplicationsƫThisincludesbutisnotlimitedtothechallengesof\\nsecuring sensitive data within promptsƬ outputsƬ and model training dataƬ and thespeciﬁc\\nmitigationstrategiessuchasencryptionƬredactionƬandaccesscontrolmechanismsƫ\\nEmergentsolutionslikeLLMFirewallsƬAIǀspeciﬁcthreatdetectionsystemsƬsecuremodel'),\n",
              " Document(metadata={'producer': 'macOS Version 10.15.7 (Build 19H1615) Quartz PDFContext', 'creator': 'PyPDF', 'creationdate': \"D:20241029231321Z00'00'\", 'title': 'OWASP LLM/GenAI Security Solutions Reference Guide v1.0', 'moddate': \"D:20241029231321Z00'00'\", 'source': 'pdfs\\\\OWASP_LLMGenAI_SecuritySolutions_ReferenceGuide.pdf', 'total_pages': 34, 'page': 4, 'page_label': '5'}, page_content='deployment platformsƬ andAIgovernanceframeworksattempttoaddresstheuniquesecurity\\nneedsofAIƸMLapplicationsƫHoweverƬtherapidevolutionofAIƸMLtechnologyanditsapplications\\nhasdrivenanexplosionofsolutionapproachesƬwhichhasonlyaddedtotheconfusionfacedby\\norganizationsindeterminingwheretoallocatetheirsecuritybudgetsƫ\\nDefiˡiˡg˧heSec˨˥i˧ˬSˢl˨˧iˢˡ˦Laˡd˦caˣe\\nTherehavebeenmanyapproachestocharacterizingthesolutionslandscapeforLarge'),\n",
              " Document(metadata={'producer': 'macOS Version 10.15.7 (Build 19H1615) Quartz PDFContext', 'creator': 'PyPDF', 'creationdate': \"D:20241029231321Z00'00'\", 'title': 'OWASP LLM/GenAI Security Solutions Reference Guide v1.0', 'moddate': \"D:20241029231321Z00'00'\", 'source': 'pdfs\\\\OWASP_LLMGenAI_SecuritySolutions_ReferenceGuide.pdf', 'total_pages': 34, 'page': 4, 'page_label': '5'}, page_content='LanguageModeltoolsandinfrastructureƫInordertodevelopasolutionslandscapethatfocuseson\\nthesecurityofLLMapplicationsacrossthelifecyclefromplanningƬdevelopmentƬdeploymentƬand\\noperationƬtherearefourkeyareasofinputwehavefocusedontodevelopbothadeﬁnitionfor\\nLargeLanguageModelDevSecOPsandrelatedsolutionslandscapecategoriesƫ\\nLandscapeConsiderations\\nAĨĨlicaĴiďnTřĨeĮandScďĨeǀwhichimpactsthepeopleƬprocessesƬandtoolsneededbasedon'),\n",
              " Document(metadata={'producer': 'macOS Version 10.15.7 (Build 19H1615) Quartz PDFContext', 'creator': 'PyPDF', 'creationdate': \"D:20241029231321Z00'00'\", 'title': 'OWASP LLM/GenAI Security Solutions Reference Guide v1.0', 'moddate': \"D:20241029231321Z00'00'\", 'source': 'pdfs\\\\OWASP_LLMGenAI_SecuritySolutions_ReferenceGuide.pdf', 'total_pages': 34, 'page': 4, 'page_label': '5'}, page_content='the complexity of the application and the LLM environmentƬ asǀaǀserviceƬ selfǀhostedƬ or\\ncustomǀbuiltƫ\\nEmeīgingLLMSecOĨĮPīďceĮĮǀ whilethisisaworkinprogressƬmanyarelookingtoadaptand\\nadoptexistingDevOpsandMLOpsandassociatedsecuritypracticesƫWeexpectourdeﬁnitionto\\nevolveasthedevelopmentprocessesforLLMapplicationsbegintomatureƫ\\nVersion1ƫ0 4of34'),\n",
              " Document(metadata={'producer': 'macOS Version 10.15.7 (Build 19H1615) Quartz PDFContext', 'creator': 'PyPDF', 'creationdate': \"D:20241029231321Z00'00'\", 'title': 'OWASP LLM/GenAI Security Solutions Reference Guide v1.0', 'moddate': \"D:20241029231321Z00'00'\", 'source': 'pdfs\\\\OWASP_LLMGenAI_SecuritySolutions_ReferenceGuide.pdf', 'total_pages': 34, 'page': 5, 'page_label': '6'}, page_content='| GenAIƬLLMSecOpsandSecķriĴřSolķĴionLandscape\\nThīeaĴandRiĮkMďdelingǀ understandingtherisksposedbyLLMsystemsƬapplicationusageƬor\\nmisuselikethoseoutlinedintheOWASPTop10forLLMsandGenerativeAIApplicationsƬarekeyto\\nunderstandingwhichsolutionsarebestsuitedtoimprovethesecuritypostureandcombatarange\\nofattacksƫ\\nTīackingEmeīgingSďlķĴiďnĮǀ manyexistingsecuritysolutionsareadaptingtosupportLLM\\ndevelopment workﬂowsandusecaseshowever giventhenatureofnewthreatsandevolving'),\n",
              " Document(metadata={'producer': 'macOS Version 10.15.7 (Build 19H1615) Quartz PDFContext', 'creator': 'PyPDF', 'creationdate': \"D:20241029231321Z00'00'\", 'title': 'OWASP LLM/GenAI Security Solutions Reference Guide v1.0', 'moddate': \"D:20241029231321Z00'00'\", 'source': 'pdfs\\\\OWASP_LLMGenAI_SecuritySolutions_ReferenceGuide.pdf', 'total_pages': 34, 'page': 5, 'page_label': '6'}, page_content='technologyandarchitecturesnewtypesofLLMǀspeciﬁcsecuritysolutionswillbenecessaryƫ\\nLLMApplicationCategories,SecuritˬChallenges\\nOrganizationshavebeenleveragingMachineLearninginapplicationsfordecadesƫThisoften\\nrequired detailed expertise inDataScienceandextensivemodel trainingƫ GenerativeAI has\\nchangedthisƫSpeciﬁcallyƬLargeLanguageModelsƺLLMsƻhavemademachinelearningtechnology\\nwidelyaccessibleƫTheabilitytodynamicallyinteractinplainlanguagehasopenedthedoorforthe'),\n",
              " Document(metadata={'producer': 'macOS Version 10.15.7 (Build 19H1615) Quartz PDFContext', 'creator': 'PyPDF', 'creationdate': \"D:20241029231321Z00'00'\", 'title': 'OWASP LLM/GenAI Security Solutions Reference Guide v1.0', 'moddate': \"D:20241029231321Z00'00'\", 'source': 'pdfs\\\\OWASP_LLMGenAI_SecuritySolutions_ReferenceGuide.pdf', 'total_pages': 34, 'page': 5, 'page_label': '6'}, page_content='creationof anewclassofdataǀdrivenapplicationsandapplicationintegrationsƫFurthermoreƬ\\nusageisnolongerlimitedtothehighlyskilledeffortsoftraditionaldevelopersanddatascientistsƫ\\nPreǀtrainedmodelsenablenearlyanyonetoperformcomplexcomputationaltasksƬregardlessof\\npriorexposuretoprogrammingorsecurityƫOrganizationshavebeenleveragingMachineLearning\\ninapplicationsfordecadesincludingNaturalLanguageProcessingƺNLPƻmodelsthatoftenrequire\\ndetailedexpertiseinDataScienceandextensivemodeltrainingƫ'),\n",
              " Document(metadata={'producer': 'macOS Version 10.15.7 (Build 19H1615) Quartz PDFContext', 'creator': 'PyPDF', 'creationdate': \"D:20241029231321Z00'00'\", 'title': 'OWASP LLM/GenAI Security Solutions Reference Guide v1.0', 'moddate': \"D:20241029231321Z00'00'\", 'source': 'pdfs\\\\OWASP_LLMGenAI_SecuritySolutions_ReferenceGuide.pdf', 'total_pages': 34, 'page': 5, 'page_label': '6'}, page_content='Withtheadventoftransformerstechnologyenablinggenerativecapabilitiescombinedwith\\ntheeaseofaccessforpreǀtrainedasǀaǀservicemodelslikeChatGPTandotherasǀaǀserviceƬFour\\nmajor categories of LLM Application Architecture emergedƮ PromptǀcentricƬ AI AgentsƬ\\nPlugǀinsƸextensionsƬ andcomplexgenerativeAIapplicationwheretheLLMplaysakeyroleina\\nlargerapplicationusecaseƫ\\nƺﬁgureƭApplicationCategoriesǽSummaryAttributesƻ\\nHavingacommonviewoftypicalLLMapplicationarchitecturesƬincludingagentsƬmodelsƬ'),\n",
              " Document(metadata={'producer': 'macOS Version 10.15.7 (Build 19H1615) Quartz PDFContext', 'creator': 'PyPDF', 'creationdate': \"D:20241029231321Z00'00'\", 'title': 'OWASP LLM/GenAI Security Solutions Reference Guide v1.0', 'moddate': \"D:20241029231321Z00'00'\", 'source': 'pdfs\\\\OWASP_LLMGenAI_SecuritySolutions_ReferenceGuide.pdf', 'total_pages': 34, 'page': 5, 'page_label': '6'}, page_content='LLMsƬ andtheMLapplicationstackƬiscrucialfordeﬁningandaligningtheapplicationstackƬ\\nsecuritymodelƬ andapplicationofferingsƫBelowƬwehaveprovidedashortdescriptionofkey\\ncharacteristicsƬusecasesƬandsecuritychallengesforeachapplicationcategoryƫ\\nVersion1ƫ0 5of34'),\n",
              " Document(metadata={'producer': 'macOS Version 10.15.7 (Build 19H1615) Quartz PDFContext', 'creator': 'PyPDF', 'creationdate': \"D:20241029231321Z00'00'\", 'title': 'OWASP LLM/GenAI Security Solutions Reference Guide v1.0', 'moddate': \"D:20241029231321Z00'00'\", 'source': 'pdfs\\\\OWASP_LLMGenAI_SecuritySolutions_ReferenceGuide.pdf', 'total_pages': 34, 'page': 6, 'page_label': '7'}, page_content='| GenAIƬLLMSecOpsandSecķriĴřSolķĴionLandscape\\nS˧a˧icP˥ˢˠˣ˧A˨gˠeˡ˧a˧iˢˡAˣˣlica˧iˢˡ˦\\nTheseapplicationsinvolvespeciﬁcWXaXicRaXYVaPPaRgYageiRTYXWtoguidethebehaviorofa\\nlargelanguagemodelƺLLMƻtowardgeneratingthedesiredoutputƫThistechniqueoptimizesthe\\ninteractionbetweentheuserandthemodelbyﬁneǀtuningthephrasingƬcontextƬandinstructions\\ngiventotheLLMƫTheseapplicationsallowuserstoaccomplishawiderangeoftasksbysimply\\nreﬁninghowtheyaskquestionsorprovideinstructionsƫ\\nKeřChaīacĴeīiĮĴicĮ'),\n",
              " Document(metadata={'producer': 'macOS Version 10.15.7 (Build 19H1615) Quartz PDFContext', 'creator': 'PyPDF', 'creationdate': \"D:20241029231321Z00'00'\", 'title': 'OWASP LLM/GenAI Security Solutions Reference Guide v1.0', 'moddate': \"D:20241029231321Z00'00'\", 'source': 'pdfs\\\\OWASP_LLMGenAI_SecuritySolutions_ReferenceGuide.pdf', 'total_pages': 34, 'page': 6, 'page_label': '7'}, page_content='KeřChaīacĴeīiĮĴicĮ\\nż HumantomodelƸmodeltohumaninteractionandresponse\\nż Staticpromptaugmentation\\nż FlexibilityandCreativity\\nż SimplicityandAccessibility\\nż RapidPrototypingandExperimentation\\nUĮeCaĮeEŘamĨleĮ\\nż ExperimentationƸRapidPrototyping\\nż ContentGenerationTools\\nż TextSummarizationApplications\\nż QuestionǀAnsweringSystems\\nż LanguageTranslationTools\\nż ChatbotsandVirtualAssistants\\nSecķīiĴřChallengeĮ\\nż Promptǀbasedapplicationsfacesecurityriskslikepromptinjectionattacksand'),\n",
              " Document(metadata={'producer': 'macOS Version 10.15.7 (Build 19H1615) Quartz PDFContext', 'creator': 'PyPDF', 'creationdate': \"D:20241029231321Z00'00'\", 'title': 'OWASP LLM/GenAI Security Solutions Reference Guide v1.0', 'moddate': \"D:20241029231321Z00'00'\", 'source': 'pdfs\\\\OWASP_LLMGenAI_SecuritySolutions_ReferenceGuide.pdf', 'total_pages': 34, 'page': 6, 'page_label': '7'}, page_content='dataleakagefrompoorlycraftedpromptsƫLackofcontextorstatemanagement\\ncanleadtounintendedoutputsƬincreasingmisusevulnerabilityƫUserǀgenerated\\npromptsmaycauseinconsistentorbiasedresponsesƬriskingcomplianceorethical\\nviolationsƫEnsuringpromptintegrityƬrobustinputvalidationƬandsecuringtheLLM\\nenvironmentarecrucialtomitigatetheserisksƫ\\nVersion1ƫ0 6of34'),\n",
              " Document(metadata={'producer': 'macOS Version 10.15.7 (Build 19H1615) Quartz PDFContext', 'creator': 'PyPDF', 'creationdate': \"D:20241029231321Z00'00'\", 'title': 'OWASP LLM/GenAI Security Solutions Reference Guide v1.0', 'moddate': \"D:20241029231321Z00'00'\", 'source': 'pdfs\\\\OWASP_LLMGenAI_SecuritySolutions_ReferenceGuide.pdf', 'total_pages': 34, 'page': 7, 'page_label': '8'}, page_content='| GenAIƬLLMSecOpsandSecķriĴřSolķĴionLandscape\\nAgeˡ˧icAˣˣlica˧iˢˡ˦\\nThese applications leverage Large Language Models ƺLLMsƻ to autonomously or\\nsemiǀautonomouslyperformtasksƬ makedecisionsƬandinteractwithusersorothersystemsƫ\\nTheseagentsaredesignedtoactonbehalfofusersƬhandlingcomplexprocessesthatofteninvolve\\nmultiplestepsƬintegrationsƬandrealǀtimedecisionǀmakingƫTheyoperatewithalevelofautonomyƬ\\nallowingthemtocompletetaskswithoutconstanthumaninterventionƫ\\nKeřChaīacĴeīiĮĴicĮ'),\n",
              " Document(metadata={'producer': 'macOS Version 10.15.7 (Build 19H1615) Quartz PDFContext', 'creator': 'PyPDF', 'creationdate': \"D:20241029231321Z00'00'\", 'title': 'OWASP LLM/GenAI Security Solutions Reference Guide v1.0', 'moddate': \"D:20241029231321Z00'00'\", 'source': 'pdfs\\\\OWASP_LLMGenAI_SecuritySolutions_ReferenceGuide.pdf', 'total_pages': 34, 'page': 7, 'page_label': '8'}, page_content='KeřChaīacĴeīiĮĴicĮ\\nż AutonomyandDecisionǀMaking\\nż InteractionwithExternalSystems\\nż StateManagementandMemory\\nż ComplexWorkﬂowAutomation\\nż HumanǀAgentCollaboration\\nUĮeCaĮeEŘamĨleĮ\\nż VirtualAssistants\\nż CustomerSupportBots\\nż ProcessAutomationAgents\\nż DataAnalysisandReportingAgents\\nż IntelligentPersonalizationAgents\\nż SecurityandComplianceAgents\\nSecķīiĴřChallengeĮ\\nż AgentapplicationsƬwiththeirautonomyandaccesstovarioussystemsƬmustbe\\ncarefullysecuredtopreventmisuseƫTheyfacesecuritychallengeslike'),\n",
              " Document(metadata={'producer': 'macOS Version 10.15.7 (Build 19H1615) Quartz PDFContext', 'creator': 'PyPDF', 'creationdate': \"D:20241029231321Z00'00'\", 'title': 'OWASP LLM/GenAI Security Solutions Reference Guide v1.0', 'moddate': \"D:20241029231321Z00'00'\", 'source': 'pdfs\\\\OWASP_LLMGenAI_SecuritySolutions_ReferenceGuide.pdf', 'total_pages': 34, 'page': 7, 'page_label': '8'}, page_content='unauthorizedaccessƬincreasedexploitationrisksduetointeractionwithmultiple\\nsystemsƬandvulnerabilitiesindecisionǀmakingprocessesƫIfĮomeonegainĮ\\nconĴīolofanaķĴonomoķĮagenĴƬĴheconĮeĪķenceĮcoķldbeĮeŒeīeƬeĮĨeciallřin\\ncīiĴicalĮřĮĴemĮƫEnĮķīingīobķĮĴacceĮĮconĴīolĮandencīřĨĴionmeĴhodĮĴo\\nĨīoĴecĴagainĮĴĴhiĮiĮeĮĮenĴialƫEnsuringdataintegrityandconﬁdentialityis\\ncriticalƬasagentsoftenhandlesensitiveinformationitisimportanttosecuredata\\natallstagesƬincludingatǀrestƬinmotionƬandaccessthroughsecuredAPIsƫTheir'),\n",
              " Document(metadata={'producer': 'macOS Version 10.15.7 (Build 19H1615) Quartz PDFContext', 'creator': 'PyPDF', 'creationdate': \"D:20241029231321Z00'00'\", 'title': 'OWASP LLM/GenAI Security Solutions Reference Guide v1.0', 'moddate': \"D:20241029231321Z00'00'\", 'source': 'pdfs\\\\OWASP_LLMGenAI_SecuritySolutions_ReferenceGuide.pdf', 'total_pages': 34, 'page': 7, 'page_label': '8'}, page_content='autonomyalsoposesrisksofunintendedorharmfuldecisionswithoutoversightƫ\\nRobustauthenticationƬencryptionƬmonitoringƬandfailǀsafemechanismsare\\nessentialtomitigatethesesecurityrisksƫObservabilityandTraceabilitysolutions\\nthatmonitortheentirelifecycleoftheAgentsƺDesignƬDevelopmentƬDeploymentƬ\\nandVisibilityondecisionǀmakingƻmustbeconsideredtoensurerealǀtime\\ncorrectionsusingahumansǀinǀtheǀloopprocesscanbeenforcedƫ\\nVersion1ƫ0 7of34'),\n",
              " Document(metadata={'producer': 'macOS Version 10.15.7 (Build 19H1615) Quartz PDFContext', 'creator': 'PyPDF', 'creationdate': \"D:20241029231321Z00'00'\", 'title': 'OWASP LLM/GenAI Security Solutions Reference Guide v1.0', 'moddate': \"D:20241029231321Z00'00'\", 'source': 'pdfs\\\\OWASP_LLMGenAI_SecuritySolutions_ReferenceGuide.pdf', 'total_pages': 34, 'page': 8, 'page_label': '9'}, page_content='| GenAIƬLLMSecOpsandSecķriĴřSolķĴionLandscape\\nLLMPl˨g-iˡ˦,E˫˧eˡ˦iˢˡ˦\\nPlugǀinsareextensionsoraddǀonsthatintegrateLLMsintoexistingapplicationsorplatformsƬ\\nenablingthemtoprovideenhancedornewfunctionalitiesƫPlugǀinstypicallyserveasabridge\\nbetweentheLLMandtheapplicationƬfacilitatingseamlessintegrationƬsuchasaddingalanguage\\nmodel toawordprocessor for grammar correctionorintegratingwithcustomerrelationship\\nmanagementƺCRMƻsystemsforautomatedemailresponsesƫ'),\n",
              " Document(metadata={'producer': 'macOS Version 10.15.7 (Build 19H1615) Quartz PDFContext', 'creator': 'PyPDF', 'creationdate': \"D:20241029231321Z00'00'\", 'title': 'OWASP LLM/GenAI Security Solutions Reference Guide v1.0', 'moddate': \"D:20241029231321Z00'00'\", 'source': 'pdfs\\\\OWASP_LLMGenAI_SecuritySolutions_ReferenceGuide.pdf', 'total_pages': 34, 'page': 8, 'page_label': '9'}, page_content='WhileitcanbesometimesdiŨculttodrawthelinebetweenAgentsandplugǀinsorextensions\\nwhichareoftencomponentsoflargerapplicationsƬonemeasureisthewayitisdeployedandusedƫ\\nForexampleƬaplugǀinwouldbeapreǀbuiltagendesignedforreusethatyoucallexplicitlyƬthrough\\nanAPIƬ or aspartofanLLMspluginorextensionframeworkvsƫcustomcoderunninginthe\\nbackgroundonaperiodicbasisƫ\\nKeřChaīacĴeīiĮĴicĮ\\nż ModularityandFlexibility\\nż SeamlessIntegration\\nż TaskSpeciﬁcFocus\\nż EaseofDeploymentandUse\\nż RapidUpdatesandMaintenance'),\n",
              " Document(metadata={'producer': 'macOS Version 10.15.7 (Build 19H1615) Quartz PDFContext', 'creator': 'PyPDF', 'creationdate': \"D:20241029231321Z00'00'\", 'title': 'OWASP LLM/GenAI Security Solutions Reference Guide v1.0', 'moddate': \"D:20241029231321Z00'00'\", 'source': 'pdfs\\\\OWASP_LLMGenAI_SecuritySolutions_ReferenceGuide.pdf', 'total_pages': 34, 'page': 8, 'page_label': '9'}, page_content='UĮeCaĮeEŘamĨleĮ\\nż ContentGenerationTools\\nż TextSummarizationApplications\\nSecķīiĴřChallengeĮ\\nż Pluginsinteractingwithsensitivedataorcriticalsystemsmustbecarefullyvetted\\nforsecurityvulnerabilitiesƫPoorlydesignedormaliciouspluginscancausedata\\nbreachesorunauthorizedaccessƫLLMpluginsfacechallengeslikecompatibility\\nissuesƬwhereupdatescanintroducevulnerabilitiesƬandintegrationwithsensitive\\nsystemsincreasestheriskofdataleaksƫEnsuringsecureAPIinteractionsƬregular'),\n",
              " Document(metadata={'producer': 'macOS Version 10.15.7 (Build 19H1615) Quartz PDFContext', 'creator': 'PyPDF', 'creationdate': \"D:20241029231321Z00'00'\", 'title': 'OWASP LLM/GenAI Security Solutions Reference Guide v1.0', 'moddate': \"D:20241029231321Z00'00'\", 'source': 'pdfs\\\\OWASP_LLMGenAI_SecuritySolutions_ReferenceGuide.pdf', 'total_pages': 34, 'page': 8, 'page_label': '9'}, page_content='updatesƬ androbust accesscontrolsiscrucialƫResourceǀintensivepluginsmay\\ndegradeperformanceƬriskingexploitationƫ\\nż\\nVersion1ƫ0 8of34'),\n",
              " Document(metadata={'producer': 'macOS Version 10.15.7 (Build 19H1615) Quartz PDFContext', 'creator': 'PyPDF', 'creationdate': \"D:20241029231321Z00'00'\", 'title': 'OWASP LLM/GenAI Security Solutions Reference Guide v1.0', 'moddate': \"D:20241029231321Z00'00'\", 'source': 'pdfs\\\\OWASP_LLMGenAI_SecuritySolutions_ReferenceGuide.pdf', 'total_pages': 34, 'page': 9, 'page_label': '10'}, page_content='| GenAIƬLLMSecOpsandSecķriĴřSolķĴionLandscape\\nCˢˠˣle˫Aˣˣlica˧iˢˡ˦\\nComplex applications are sophisticated software systems that deeply integrate Large\\nLanguageModelsƺLLMsƻasacentralcomponenttoprovideadvancedfunctionalitiesandsolutionsƫ\\nTheseapplicationsarecharacterizedbytheircomprehensivescopeƬscalabilityƬandtheintegration\\nofmultipletechnologiesandcomponentsƫTheyaretypicallydesignedtosolveintricateproblemsƬ\\nofteninenterpriseenvironmentsƬandrequireextensivedevelopmentƬengineeringƬandongoing'),\n",
              " Document(metadata={'producer': 'macOS Version 10.15.7 (Build 19H1615) Quartz PDFContext', 'creator': 'PyPDF', 'creationdate': \"D:20241029231321Z00'00'\", 'title': 'OWASP LLM/GenAI Security Solutions Reference Guide v1.0', 'moddate': \"D:20241029231321Z00'00'\", 'source': 'pdfs\\\\OWASP_LLMGenAI_SecuritySolutions_ReferenceGuide.pdf', 'total_pages': 34, 'page': 9, 'page_label': '10'}, page_content='maintenanceeffortsƫ\\nKeřChaīacĴeīiĮĴicĮ\\nż Multiǀcomponentarchitecturesaredesignedtoprocesspromptsfromother\\nnonǀhumansystemsƫ\\nż OftenusemultipleintegrationsƬincludingothermodelsƫ\\nż MultiǀComponentArchitecture\\nż ScalabilityandPerformance\\nż AdvancedFeaturesandCustomization\\nż EndǀtoǀEndWorkﬂowAutomation\\nUĮeCaĮeEŘamĨleĮ\\nż LegalDocumentAnalysisPlatforms\\nż AutomatedFinancialReportingSystems\\nż CustomerServicePlatforms\\nż HealthcareDiagnostics\\nSecķīiĴřChallengeĮ'),\n",
              " Document(metadata={'producer': 'macOS Version 10.15.7 (Build 19H1615) Quartz PDFContext', 'creator': 'PyPDF', 'creationdate': \"D:20241029231321Z00'00'\", 'title': 'OWASP LLM/GenAI Security Solutions Reference Guide v1.0', 'moddate': \"D:20241029231321Z00'00'\", 'source': 'pdfs\\\\OWASP_LLMGenAI_SecuritySolutions_ReferenceGuide.pdf', 'total_pages': 34, 'page': 9, 'page_label': '10'}, page_content='SecķīiĴřChallengeĮ\\nż ComplexLLMapplicationsfacemajorsecuritychallengesduetotheirintegration\\nwith multiple systems and extensive data handlingƫ These include API\\nvulnerabilitiesƬdatabreachesƬandadversarialattacksƫThecomplexityincreases\\nthe risk of misconﬁgurationsƬ leading to unauthorized access or data leaksƫ\\nManaging compliance across components is also diŨcultƫ Robust encryptionƬ\\naccess controlsƬ regular security auditsƬ and comprehensive monitoring are'),\n",
              " Document(metadata={'producer': 'macOS Version 10.15.7 (Build 19H1615) Quartz PDFContext', 'creator': 'PyPDF', 'creationdate': \"D:20241029231321Z00'00'\", 'title': 'OWASP LLM/GenAI Security Solutions Reference Guide v1.0', 'moddate': \"D:20241029231321Z00'00'\", 'source': 'pdfs\\\\OWASP_LLMGenAI_SecuritySolutions_ReferenceGuide.pdf', 'total_pages': 34, 'page': 9, 'page_label': '10'}, page_content='essentialtoprotecttheseapplicationsfromsophisticatedthreatsandensuredata\\nsecurityƫ\\nVersion1ƫ0 9of34'),\n",
              " Document(metadata={'producer': 'macOS Version 10.15.7 (Build 19H1615) Quartz PDFContext', 'creator': 'PyPDF', 'creationdate': \"D:20241029231321Z00'00'\", 'title': 'OWASP LLM/GenAI Security Solutions Reference Guide v1.0', 'moddate': \"D:20241029231321Z00'00'\", 'source': 'pdfs\\\\OWASP_LLMGenAI_SecuritySolutions_ReferenceGuide.pdf', 'total_pages': 34, 'page': 10, 'page_label': '11'}, page_content='| GenAIƬLLMSecOpsandSecķriĴřSolķĴionLandscape\\nLLMDevelopmentandConsumptionModels\\nOneoftheﬁrstconsiderationsforanorganizationisdecidingupontheapproachtoleveraging\\nLLMcapabilitiesbasedonthetypeofapplicationandgoalsfortheprojectƫTodayƬdevelopershave\\nachoiceof twoprimarydeployment modelswhenimplementingLLMǀbasedapplicationsand\\nsystemsƫ\\nCīeaĴeaNeœMďdelƭ ThetrainingprocessforcustomLLMsisintensiveƬofteninvolving\\ndomainǀspeciﬁcdatasetsandextensiveﬁneǀtuningtoachievedesiredperformancelevelsƫThis'),\n",
              " Document(metadata={'producer': 'macOS Version 10.15.7 (Build 19H1615) Quartz PDFContext', 'creator': 'PyPDF', 'creationdate': \"D:20241029231321Z00'00'\", 'title': 'OWASP LLM/GenAI Security Solutions Reference Guide v1.0', 'moddate': \"D:20241029231321Z00'00'\", 'source': 'pdfs\\\\OWASP_LLMGenAI_SecuritySolutions_ReferenceGuide.pdf', 'total_pages': 34, 'page': 10, 'page_label': '11'}, page_content='approachismoreakintoMLOpsbuildingMLmodelsfromthegroundupƬwithdetaileddata\\nanalysisƬcollectionformattingƬcleaningƬandlabelingƫOneofthebeneﬁtsofthisapproachisthat\\nyouknowthelineageandsourceofthedatathemodelisbuiltonandcanattestdirectlytoits\\nvalidityandﬁtƫHoweverƬamajordownsideistheresourcesƬcostƬandexpertisenecessarytobuildƬ\\ntrainƬandverifyamodelthatmeetstheprojectobjectivesƫCustomLLMsprovidetailoredsolutions\\noptimized for speciﬁc tasks and domainsƬ offering higher accuracy and alignment with an'),\n",
              " Document(metadata={'producer': 'macOS Version 10.15.7 (Build 19H1615) Quartz PDFContext', 'creator': 'PyPDF', 'creationdate': \"D:20241029231321Z00'00'\", 'title': 'OWASP LLM/GenAI Security Solutions Reference Guide v1.0', 'moddate': \"D:20241029231321Z00'00'\", 'source': 'pdfs\\\\OWASP_LLMGenAI_SecuritySolutions_ReferenceGuide.pdf', 'total_pages': 34, 'page': 10, 'page_label': '11'}, page_content='organizationǑsspeciﬁcneedsƫ\\nCďnĮķme and CķĮĴďmiše EŘiĮĴing MďdelĮƭ Preǀtrained ƺfoundationƻ modelsƬ whether\\nselfǀhostedorofferedasaserviceƬsuchaswithChatGPTƬBertandothersontheotherhand\\nprovideamoreaccessibleentrypointfororganizationsƫThesemodelscanbequicklydeployedvia\\nAPIsƬ allowingfor rapidsolutionvalidationandintegrationintoexistingsystemsƫTheLLMOps\\nprocessinthisscenarioemphasizescustomizationthroughﬁneǀtuningwithspeciﬁcdatasetsƬ'),\n",
              " Document(metadata={'producer': 'macOS Version 10.15.7 (Build 19H1615) Quartz PDFContext', 'creator': 'PyPDF', 'creationdate': \"D:20241029231321Z00'00'\", 'title': 'OWASP LLM/GenAI Security Solutions Reference Guide v1.0', 'moddate': \"D:20241029231321Z00'00'\", 'source': 'pdfs\\\\OWASP_LLMGenAI_SecuritySolutions_ReferenceGuide.pdf', 'total_pages': 34, 'page': 10, 'page_label': '11'}, page_content='ensuringthemodelmeetstheapplicationǑsuniquerequirementsƬfollowedbyrobustdeployment\\nandmonitoringtomaintainperformanceandsecurityƫ\\nVersion1ƫ0 10of34'),\n",
              " Document(metadata={'producer': 'macOS Version 10.15.7 (Build 19H1615) Quartz PDFContext', 'creator': 'PyPDF', 'creationdate': \"D:20241029231321Z00'00'\", 'title': 'OWASP LLM/GenAI Security Solutions Reference Guide v1.0', 'moddate': \"D:20241029231321Z00'00'\", 'source': 'pdfs\\\\OWASP_LLMGenAI_SecuritySolutions_ReferenceGuide.pdf', 'total_pages': 34, 'page': 11, 'page_label': '12'}, page_content='| GenAIƬLLMSecOpsandSecķriĴřSolķĴionLandscape\\nLLMOpsandLLMSecOpsDefined\\nHavingacommonviewoftypicalLLMapplicationarchitecturesƬincludingagentsƬmodelsƬ\\nLLMsƬandtheMLapplicationstackƬiscrucialfordeﬁningandaligningtheapplicationstackand\\nsecuritymodelƫ\\nƺﬁgureƭLLMOpsrelatedOperationsProcessforDataƬMachineLearningandDevOpsƻ\\nAQ˨ickOˣ˦P˥iˠe˥-Fˢ˨ˡda˧iˢˡfˢ˥LLMOˣ˦\\nDevOpsƬ which emphasizes collaborationƬ automationƬ and continuous integration and'),\n",
              " Document(metadata={'producer': 'macOS Version 10.15.7 (Build 19H1615) Quartz PDFContext', 'creator': 'PyPDF', 'creationdate': \"D:20241029231321Z00'00'\", 'title': 'OWASP LLM/GenAI Security Solutions Reference Guide v1.0', 'moddate': \"D:20241029231321Z00'00'\", 'source': 'pdfs\\\\OWASP_LLMGenAI_SecuritySolutions_ReferenceGuide.pdf', 'total_pages': 34, 'page': 11, 'page_label': '12'}, page_content='deploymentƺCIƸCDƻƬhaslaidthegroundworkforeŨcientsoftwaredevelopmentandoperationsƫBy\\nstreamliningthesoftwaredevelopmentlifecycleƬDevOpsenablesrapidandreliabledeliveryof\\napplicationsƬfosteringacultureofcollaborationbetweendevelopmentandoperationsteamsƫ\\nDataOpsbuildsonDevOpsƬwheredatapipelinesaremanagedwithsimilarautomationƬversion\\ncontrolƬandcontinuousmonitoringƬensuringdataqualityandcomplianceacrossthedatalifecycleƫ'),\n",
              " Document(metadata={'producer': 'macOS Version 10.15.7 (Build 19H1615) Quartz PDFContext', 'creator': 'PyPDF', 'creationdate': \"D:20241029231321Z00'00'\", 'title': 'OWASP LLM/GenAI Security Solutions Reference Guide v1.0', 'moddate': \"D:20241029231321Z00'00'\", 'source': 'pdfs\\\\OWASP_LLMGenAI_SecuritySolutions_ReferenceGuide.pdf', 'total_pages': 34, 'page': 11, 'page_label': '12'}, page_content='MLOpsalsoextendstheDevOpsprinciplestomachinelearningƬfocusingontheuniquechallenges\\nof modeldevelopmentƬtrainingƬdeploymentƬandmonitoringƫUtilizingDevOpsasafoundation\\nensuresthatbothDataOpsandMLOpsinheritarobustinfrastructurethatprioritizeseŨciencyƬ\\nscalabilityƬsecurityƬandfasterinnovationindataǀdrivenandmachinelearningapplicationsƫ\\nMLOpsandDataOpsarefoundationaltoLLMOpsbecausetheyestablishthecriticalprocesses\\nandinfrastructureneededformanagingthelifecycleoflargelanguagemodelsƺLLMsƻƫDataOps'),\n",
              " Document(metadata={'producer': 'macOS Version 10.15.7 (Build 19H1615) Quartz PDFContext', 'creator': 'PyPDF', 'creationdate': \"D:20241029231321Z00'00'\", 'title': 'OWASP LLM/GenAI Security Solutions Reference Guide v1.0', 'moddate': \"D:20241029231321Z00'00'\", 'source': 'pdfs\\\\OWASP_LLMGenAI_SecuritySolutions_ReferenceGuide.pdf', 'total_pages': 34, 'page': 11, 'page_label': '12'}, page_content='ensuresthat datapipelinesareeŨcientlymanagedƬ fromdatacollectionandpreparationto\\nstorageandretrievalƬprovidinghighǀqualityƬconsistentƬandsecuredatathatLLMsrelyonfor\\ntraining andinferenceƫ MLOpsextendstheseprinciplesbyautomatingandorchestratingthe\\nmachinelearninglifecycleƬincludingmodeldevelopmentƬtrainingƬdeploymentƬandmonitoringƫ\\nVersion1ƫ0 11of34'),\n",
              " Document(metadata={'producer': 'macOS Version 10.15.7 (Build 19H1615) Quartz PDFContext', 'creator': 'PyPDF', 'creationdate': \"D:20241029231321Z00'00'\", 'title': 'OWASP LLM/GenAI Security Solutions Reference Guide v1.0', 'moddate': \"D:20241029231321Z00'00'\", 'source': 'pdfs\\\\OWASP_LLMGenAI_SecuritySolutions_ReferenceGuide.pdf', 'total_pages': 34, 'page': 12, 'page_label': '13'}, page_content='| GenAIƬLLMSecOpsandSecķriĴřSolķĴionLandscape\\nLLMOpsandMLOpsƬwhilerootedinthesamefoundationalprinciplesoflifecyclemanagementƬ\\ndivergesigniﬁcantlyintheirfocusandrequirementsduetothespeciﬁcdemandsoflargelanguage\\nmodelsƺLLMsƻƫLLMOpsencompassesthecomplexitiesoftrainingƬdeployingƬandmanagingLLMsƬ\\nwhichrequiresubstantialcomputationalresourcesandsophisticatedhandlingƫLLMOpsensure\\nthatLLMsareeŨcientlyintegratedintoproductionenvironmentsƬmonitoredforperformanceand'),\n",
              " Document(metadata={'producer': 'macOS Version 10.15.7 (Build 19H1615) Quartz PDFContext', 'creator': 'PyPDF', 'creationdate': \"D:20241029231321Z00'00'\", 'title': 'OWASP LLM/GenAI Security Solutions Reference Guide v1.0', 'moddate': \"D:20241029231321Z00'00'\", 'source': 'pdfs\\\\OWASP_LLMGenAI_SecuritySolutions_ReferenceGuide.pdf', 'total_pages': 34, 'page': 12, 'page_label': '13'}, page_content='biasesƬandupdatedasneededtomaintaintheireffectivenessƫThisholisticapproachensuresthat\\nthe deployment and operation of LLMs are streamlinedƬ scalableƬ and secureƬ including\\nconsiderationsfordatavalidationandprovenancetoensurethatthedatausedfortrainingand\\nﬁneǀtuningLLMsistrustworthyandfreefromtamperingƫThiscanincludetechniquesfordata\\nauditingandveriﬁcationƫ\\nLLMOˣ˦LifeCˬcleS˧age˦ -Fˢ˨ˡda˧iˢˡfˢ˥LLMDe˩SecOˣ˦\\nAsmentionedearlierinthisdocumentƬtoalignsecuritysolutionsforLLMapplicationsforour'),\n",
              " Document(metadata={'producer': 'macOS Version 10.15.7 (Build 19H1615) Quartz PDFContext', 'creator': 'PyPDF', 'creationdate': \"D:20241029231321Z00'00'\", 'title': 'OWASP LLM/GenAI Security Solutions Reference Guide v1.0', 'moddate': \"D:20241029231321Z00'00'\", 'source': 'pdfs\\\\OWASP_LLMGenAI_SecuritySolutions_ReferenceGuide.pdf', 'total_pages': 34, 'page': 12, 'page_label': '13'}, page_content='solutionguideweareusingtheLLMOpsprocesstodeﬁnethesolutioncategoriessothattheyalign\\nwiththechallengesdevelopersarefacingindevelopinganddeployingLLMǀbasedapplicationsƫ\\nƺﬁgureƭCombinedLLMCustomandLLMPreǀTrainedImageƻ\\nThe LLMOps processes differ signiﬁcantly between using preǀtrained LLM models for\\napplicationdevelopmentandcreatingcustomLLMmodelsfromscratchusingopenǀsourceand\\ncustomdatasetsƬwhichinheritmorefromMLOpspracticeswithsomeadditionsƫWeﬁrstneedto'),\n",
              " Document(metadata={'producer': 'macOS Version 10.15.7 (Build 19H1615) Quartz PDFContext', 'creator': 'PyPDF', 'creationdate': \"D:20241029231321Z00'00'\", 'title': 'OWASP LLM/GenAI Security Solutions Reference Guide v1.0', 'moddate': \"D:20241029231321Z00'00'\", 'source': 'pdfs\\\\OWASP_LLMGenAI_SecuritySolutions_ReferenceGuide.pdf', 'total_pages': 34, 'page': 12, 'page_label': '13'}, page_content='deﬁnethestagesƬthetypicaldevelopertasksƬandthesecuritystepsateachstageofthelifecycleƫ\\nVersion1ƫ0 12of34'),\n",
              " Document(metadata={'producer': 'macOS Version 10.15.7 (Build 19H1615) Quartz PDFContext', 'creator': 'PyPDF', 'creationdate': \"D:20241029231321Z00'00'\", 'title': 'OWASP LLM/GenAI Security Solutions Reference Guide v1.0', 'moddate': \"D:20241029231321Z00'00'\", 'source': 'pdfs\\\\OWASP_LLMGenAI_SecuritySolutions_ReferenceGuide.pdf', 'total_pages': 34, 'page': 13, 'page_label': '14'}, page_content='| GenAIƬLLMSecOpsandSecķriĴřSolķĴionLandscape\\nƺﬁgureƭLLMopsPreǀTrainedProcessandStepsƻ\\nThesephaseswehavedeﬁnedincludeƭ ScopeƸPlanƬModelFineǀTuningƸDataAugmentationƬ\\nTestƸEvaluateƬ ReleaseƬ DeployƬ OperateƬ MonitorƬ and Governƫ Of courseƬ thisisaniterative\\napproachƬwhetheryouarepracticingwaterfallƬagileƬorahybridapproacheachofthesestepscan\\nbeleveragedƫ\\nScˢˣ˜ˡ˚/P˟aˡˡ˜ˡ˚\\nThefocusisondeﬁningtheapplicationǑsgoalsƬunderstandingthespeciﬁcneedstheLLMwill'),\n",
              " Document(metadata={'producer': 'macOS Version 10.15.7 (Build 19H1615) Quartz PDFContext', 'creator': 'PyPDF', 'creationdate': \"D:20241029231321Z00'00'\", 'title': 'OWASP LLM/GenAI Security Solutions Reference Guide v1.0', 'moddate': \"D:20241029231321Z00'00'\", 'source': 'pdfs\\\\OWASP_LLMGenAI_SecuritySolutions_ReferenceGuide.pdf', 'total_pages': 34, 'page': 13, 'page_label': '14'}, page_content='addressƬanddetermininghowthepreǀtrainedmodelwillbeintegratedintothelargersystemƫThis\\nstageinvolvesgatheringrequirementsƬassessingpotentialethicalandcomplianceconsiderationsƬ\\nandsettingclearobjectivesforperformanceƬscalabilityƬanduserinteractionƫTheoutcomeisa\\ndetailedprojectplanthatoutlinesthescopeƬresourcesƬandtimelinesneededtoimplementthe\\nLLMǀpoweredapplicationsuccessfullyƫ\\nTypicalActivitiesƭ\\nLLMOps LLMSecOps\\nƔ DataSuitability\\nƔ ModelSelection\\nƔ RequirementsGathering'),\n",
              " Document(metadata={'producer': 'macOS Version 10.15.7 (Build 19H1615) Quartz PDFContext', 'creator': 'PyPDF', 'creationdate': \"D:20241029231321Z00'00'\", 'title': 'OWASP LLM/GenAI Security Solutions Reference Guide v1.0', 'moddate': \"D:20241029231321Z00'00'\", 'source': 'pdfs\\\\OWASP_LLMGenAI_SecuritySolutions_ReferenceGuide.pdf', 'total_pages': 34, 'page': 13, 'page_label': '14'}, page_content='ƺbusinessƬtechnicalƬanddataƻ\\nƔ TaskIdentiﬁcation\\nƔ TaskSuitability\\nƔ AccessControlandAuthentication\\nPlanning\\nƔ ComplianceandRegulatoryAssessment\\nƔ DataPrivacyandProtectionStrategy\\nƔ EarlyIdentiﬁcationofSensitiveData\\nƔ ThirdǀPartyRiskAssessmentƺModelƬ\\nProviderƬetcƫƻ\\nƔ ThreatModeling\\nDa˧aA˨˚ˠ˘ˡ˧a˧˜ˢˡaˡdF˜ˡ˘-T˨ˡ˜ˡ˚\\nVersion1ƫ0 13of34'),\n",
              " Document(metadata={'producer': 'macOS Version 10.15.7 (Build 19H1615) Quartz PDFContext', 'creator': 'PyPDF', 'creationdate': \"D:20241029231321Z00'00'\", 'title': 'OWASP LLM/GenAI Security Solutions Reference Guide v1.0', 'moddate': \"D:20241029231321Z00'00'\", 'source': 'pdfs\\\\OWASP_LLMGenAI_SecuritySolutions_ReferenceGuide.pdf', 'total_pages': 34, 'page': 14, 'page_label': '15'}, page_content='| GenAIƬLLMSecOpsandSecķriĴřSolķĴionLandscape\\nThefocusisoncustomizingthepreǀtrainedmodeltobettersuitthespeciﬁcapplicationneedsƫ\\nThisinvolvesaugmentingtheoriginaldatasetwithadditionaldomainǀspeciﬁcdataƬenhancingthe\\nmodelǑsabilitytogenerateaccurateandcontextuallyrelevant responsesƫ Fineǀtuningisthen\\nconductedbyretrainingtheLLMonthisenricheddatasetƬoptimizingitsperformanceforthe\\nintendedusecaseƫThisstageiscriticalforensuringthattheLLMadaptseffectivelytotheunique'),\n",
              " Document(metadata={'producer': 'macOS Version 10.15.7 (Build 19H1615) Quartz PDFContext', 'creator': 'PyPDF', 'creationdate': \"D:20241029231321Z00'00'\", 'title': 'OWASP LLM/GenAI Security Solutions Reference Guide v1.0', 'moddate': \"D:20241029231321Z00'00'\", 'source': 'pdfs\\\\OWASP_LLMGenAI_SecuritySolutions_ReferenceGuide.pdf', 'total_pages': 34, 'page': 14, 'page_label': '15'}, page_content='challenges of the target domainƬ improving both accuracy and user experience with fewer\\ninstancesofhallucinationƫ\\nTypicalActivitiesƭ\\nLLMOps LLMSecOps\\nƔ DataIntegration\\nƔ RetrievalAugmentedGeneration\\nƺRAGƻ\\nƔ FineTuning\\nƔ InǀcontextLearningand\\nEmbeddings\\nƔ ReinforcementLearningwith\\nHumanFeedback\\nƔ DataSourceValidation\\nƔ SecureDataHandling\\nƔ SecureOutputHandling\\nƔ AdversarialRobustnessTesting\\nƔ ModelIntegrityValidationƺexƭserialization\\nscanningformalwareƻ\\nƔ VulnerabilityAssessment'),\n",
              " Document(metadata={'producer': 'macOS Version 10.15.7 (Build 19H1615) Quartz PDFContext', 'creator': 'PyPDF', 'creationdate': \"D:20241029231321Z00'00'\", 'title': 'OWASP LLM/GenAI Security Solutions Reference Guide v1.0', 'moddate': \"D:20241029231321Z00'00'\", 'source': 'pdfs\\\\OWASP_LLMGenAI_SecuritySolutions_ReferenceGuide.pdf', 'total_pages': 34, 'page': 14, 'page_label': '15'}, page_content='Aˣˣ˟˜ca˧˜ˢˡD˘˩˘˟ˢˣˠ˘ˡ˧aˡdE˫ˣ˘˥˜ˠ˘ˡ˧a˧˜ˢˡ\\nThefocusshiftstointegratingtheﬁneǀtunedmodelintotheapplicationǋsarchitectureƫThis\\nstageinvolvesbuildingthenecessaryinterfacesƬuserinteractionsƬandworkﬂowsthatleverage\\ntheLLMǋscapabilitiesƫDevelopersexperimentwithdifferentconﬁgurationsƬtestingthemodelǋs\\nperformancewithintheapplicationandreﬁningtheintegrationbasedonuser feedbackand\\nrealǀworldscenariosƫ Thisiterativeprocessiscrucial for optimizingtheuserexperienceand'),\n",
              " Document(metadata={'producer': 'macOS Version 10.15.7 (Build 19H1615) Quartz PDFContext', 'creator': 'PyPDF', 'creationdate': \"D:20241029231321Z00'00'\", 'title': 'OWASP LLM/GenAI Security Solutions Reference Guide v1.0', 'moddate': \"D:20241029231321Z00'00'\", 'source': 'pdfs\\\\OWASP_LLMGenAI_SecuritySolutions_ReferenceGuide.pdf', 'total_pages': 34, 'page': 14, 'page_label': '15'}, page_content='ensuringtheLLMfunctionseffectivelywithinthebroaderapplicationcontextƫ\\nTypicalActivitiesƭ\\nLLMOps LLMSecOps\\nƔ AgentDevelopment\\nƔ ExperimentationƬIteration\\nƔ PromptEngineering\\nƔ AccessƬAuthenticationƬandAuthorization\\nƺMFAƻ\\nƔ ExperimentTracking\\nƔ LLMǽAppVulnerabilityScanning\\nƔ ModelandApplicationInteractionSecurity\\nƔ SASTƸDASTƸIAST\\nƔ SecureCodingPractices\\nƔ SecureLibraryƸCodeRepository\\nƔ SoftwareCompositionAnalysis\\nVersion1ƫ0 14of34'),\n",
              " Document(metadata={'producer': 'macOS Version 10.15.7 (Build 19H1615) Quartz PDFContext', 'creator': 'PyPDF', 'creationdate': \"D:20241029231321Z00'00'\", 'title': 'OWASP LLM/GenAI Security Solutions Reference Guide v1.0', 'moddate': \"D:20241029231321Z00'00'\", 'source': 'pdfs\\\\OWASP_LLMGenAI_SecuritySolutions_ReferenceGuide.pdf', 'total_pages': 34, 'page': 15, 'page_label': '16'}, page_content='| GenAIƬLLMSecOpsandSecķriĴřSolķĴionLandscape\\nT˘˦˧aˡdE˩a˟˨a˧˜ˢˡ\\nAt thisstageintheLLMSDLCandOpsprocessƬthefocusisonrigorouslyassessingthe\\napplicationǑsperformanceƬsecurityƬandreliabilityƫThisstageinvolvesconductingcomprehensive\\ntestingƬincludingfunctionalƬsecurityƬandusabilitytestsƬtoensuretheLLMintegratesseamlessly\\nwiththeapplicationandmeetsalldeﬁnedrequirementsƫEvaluationmetricsareusedtomeasure\\nthe modelǑs accuracyƬ response timesƬ and user interactionsƬ allowing for ﬁneǀtuning and'),\n",
              " Document(metadata={'producer': 'macOS Version 10.15.7 (Build 19H1615) Quartz PDFContext', 'creator': 'PyPDF', 'creationdate': \"D:20241029231321Z00'00'\", 'title': 'OWASP LLM/GenAI Security Solutions Reference Guide v1.0', 'moddate': \"D:20241029231321Z00'00'\", 'source': 'pdfs\\\\OWASP_LLMGenAI_SecuritySolutions_ReferenceGuide.pdf', 'total_pages': 34, 'page': 15, 'page_label': '16'}, page_content='adjustmentsƫThisphaseiscrucialforidentifyingandresolvinganyissuesbeforetheapplicationis\\ndeployedtoproductionƬensuringitoperateseffectivelyandsecurelyinrealǀworldenvironmentsƫ\\nTypicalActivitiesƭ\\nLLMOps LLMSecOps\\nƔ Evaluatethemodelonvalidation\\nandtestdatasetsƫ\\nƔ IntegrationTesting\\nƔ Performbiasandfairnesschecksƫ\\nƔ StressƸPerformanceTesting\\nƔ Usecrossǀvalidationandother\\ntechniquestoensurerobustnessƫ\\nƔ Validatethemodelǋsinterpretability\\nandexplainabilityƫ\\nƔ AdversarialTesting'),\n",
              " Document(metadata={'producer': 'macOS Version 10.15.7 (Build 19H1615) Quartz PDFContext', 'creator': 'PyPDF', 'creationdate': \"D:20241029231321Z00'00'\", 'title': 'OWASP LLM/GenAI Security Solutions Reference Guide v1.0', 'moddate': \"D:20241029231321Z00'00'\", 'source': 'pdfs\\\\OWASP_LLMGenAI_SecuritySolutions_ReferenceGuide.pdf', 'total_pages': 34, 'page': 15, 'page_label': '16'}, page_content='Ɣ ApplicationSecurityOrchestrationand\\nCorrelation\\nƔ BiasandFairnessTesting\\nƔ FinalSecurityAudit\\nƔ IncidentSimulationƬResponseTesting\\nƔ LLMBenchmarking\\nƔ PenetrationTesting\\nƔ SASTƸDASTƸIAST\\nƔ VulnerabilityScanning\\nR˘˟˘a˦˘\\nThefocusshiftstodeployingtheﬁnalizedapplicationtotheproductionenvironmentƫThis\\nstageinvolvesﬁnalizingthedeploymentstrategyƬconﬁguringtheinfrastructureforscalabilityand\\nsecurityƬandensuringthatallcomponentsƬincludingtheLLMƬareintegratedandfunctioningas'),\n",
              " Document(metadata={'producer': 'macOS Version 10.15.7 (Build 19H1615) Quartz PDFContext', 'creator': 'PyPDF', 'creationdate': \"D:20241029231321Z00'00'\", 'title': 'OWASP LLM/GenAI Security Solutions Reference Guide v1.0', 'moddate': \"D:20241029231321Z00'00'\", 'source': 'pdfs\\\\OWASP_LLMGenAI_SecuritySolutions_ReferenceGuide.pdf', 'total_pages': 34, 'page': 15, 'page_label': '16'}, page_content='intendedƫ CriticaltasksincludesettingupmonitoringandalertingsystemsƬconductingaﬁnal\\nsecurityreviewƬandpreparingforuseronboardingƫThegoalistoensureasmoothandsecure\\ntransitionfromdevelopmenttoproductionƬmakingtheapplicationavailabletouserswithminimal\\nriskanddowntimeƫ\\nVersion1ƫ0 15of34'),\n",
              " Document(metadata={'producer': 'macOS Version 10.15.7 (Build 19H1615) Quartz PDFContext', 'creator': 'PyPDF', 'creationdate': \"D:20241029231321Z00'00'\", 'title': 'OWASP LLM/GenAI Security Solutions Reference Guide v1.0', 'moddate': \"D:20241029231321Z00'00'\", 'source': 'pdfs\\\\OWASP_LLMGenAI_SecuritySolutions_ReferenceGuide.pdf', 'total_pages': 34, 'page': 16, 'page_label': '17'}, page_content='| GenAIƬLLMSecOpsandSecķriĴřSolķĴionLandscape\\nTypicalActivitiesƭ\\nLLMOps LLMSecOps\\nƔ Enablecontinuousdeliveryof\\nmodelupdates\\nƔ Integratesecuritychecksand\\nautomatedtestinginthepipelineƫ\\nƔ Packagethemodelfordeployment\\nƺeƫgƫƬusingDockerƬKubernetesƻƫ\\nƔ SetupCIƸCDpipelinestoautomate\\napplicationandmodeltrainingƬ\\ntestingƬanddeploymentƫ\\nƔ AIƸMLBillofMaterialsƺBOMƻ\\nƔ DigitalModelƹDatasetSigning\\nƔ ModelSecurityPostureEvaluation\\nƔ SecureCIƸCDpipeline\\nƔ SecureSupplyChainVeriﬁcation'),\n",
              " Document(metadata={'producer': 'macOS Version 10.15.7 (Build 19H1615) Quartz PDFContext', 'creator': 'PyPDF', 'creationdate': \"D:20241029231321Z00'00'\", 'title': 'OWASP LLM/GenAI Security Solutions Reference Guide v1.0', 'moddate': \"D:20241029231321Z00'00'\", 'source': 'pdfs\\\\OWASP_LLMGenAI_SecuritySolutions_ReferenceGuide.pdf', 'total_pages': 34, 'page': 16, 'page_label': '17'}, page_content='Ɣ StaticandDynamicCodeAnalysis\\nƔ UserAccessControlValidation\\nƔ ModelSerializationDefenses\\nD˘ˣ˟ˢˬ\\nThe focus is on securely launching the LLMand its associated components into the\\nproduction environmentƫ This stage involves conﬁguring the deployment infrastructure for\\nscalabilityandreliabilityƬ ensuringthat all securitymeasuresareinplaceƬ andvalidatingthe\\nintegration of the LLMwithother applicationcomponentsƫ Keyactivitiesincludesettingup'),\n",
              " Document(metadata={'producer': 'macOS Version 10.15.7 (Build 19H1615) Quartz PDFContext', 'creator': 'PyPDF', 'creationdate': \"D:20241029231321Z00'00'\", 'title': 'OWASP LLM/GenAI Security Solutions Reference Guide v1.0', 'moddate': \"D:20241029231321Z00'00'\", 'source': 'pdfs\\\\OWASP_LLMGenAI_SecuritySolutions_ReferenceGuide.pdf', 'total_pages': 34, 'page': 16, 'page_label': '17'}, page_content='realǀtimemonitoringƬconductingﬁnalcheckstopreventanyvulnerabilitiesƬandimplementing\\nfallbackmechanismstoensurecontinuousoperationƫThegoalistosmoothlytransitionfrom\\ndevelopmenttoliveoperationƬensuringthattheapplicationisreadytohandlerealǀworldusageƫ\\nTypicalActivitiesƭ\\nLLMOps LLMSecOps\\nƔ InfrastructureSetup\\nƔ Integratewithexistingsystemsor\\napplicationsƫ\\nƔ ModelandAppDeployment\\nƔ SetupAPIsorservicesforaccess\\nƔ Useraccessandrolemanagement\\nƔ ComplianceVeriﬁcation\\nƔ DeploymentValidation'),\n",
              " Document(metadata={'producer': 'macOS Version 10.15.7 (Build 19H1615) Quartz PDFContext', 'creator': 'PyPDF', 'creationdate': \"D:20241029231321Z00'00'\", 'title': 'OWASP LLM/GenAI Security Solutions Reference Guide v1.0', 'moddate': \"D:20241029231321Z00'00'\", 'source': 'pdfs\\\\OWASP_LLMGenAI_SecuritySolutions_ReferenceGuide.pdf', 'total_pages': 34, 'page': 16, 'page_label': '17'}, page_content='Ɣ DigitalModelƹDatasetSigningVeriﬁcation\\nƔ EncryptionƬSecretsmanagement\\nƔ LLMEnabledWebApplicationFirewall\\nƔ MultiǀfactorAuthentication\\nƔ NetworkSecurityValidation\\nƔ SecretsManagement\\nƔ SecureAPIAccess\\nƔ SecureConﬁguration\\nƔ UserandDataPrivacyProtections\\nVersion1ƫ0 16of34'),\n",
              " Document(metadata={'producer': 'macOS Version 10.15.7 (Build 19H1615) Quartz PDFContext', 'creator': 'PyPDF', 'creationdate': \"D:20241029231321Z00'00'\", 'title': 'OWASP LLM/GenAI Security Solutions Reference Guide v1.0', 'moddate': \"D:20241029231321Z00'00'\", 'source': 'pdfs\\\\OWASP_LLMGenAI_SecuritySolutions_ReferenceGuide.pdf', 'total_pages': 34, 'page': 17, 'page_label': '18'}, page_content='| GenAIƬLLMSecOpsandSecķriĴřSolķĴionLandscape\\nOˣ˘˥a˧˘\\nThefocusatthisstageintheLLMSDLCandOpsprocessisonmanagingandmaintainingthe\\napplicationinaliveproductionenvironmentƫThisstageinvolvescontinuousmonitoringofthe\\napplicationǑsperformanceƬ securityƬ anduser interactionstoensureitoperatessmoothlyand\\nsecurelyƫKeyactivitiesincluderespondingtoincidentsƬapplyingupdatesorpatchesƬandreﬁning\\nthemodelbasedonrealǀworlddataandfeedbackƫThegoalistomaintainhighavailabilityƬoptimize'),\n",
              " Document(metadata={'producer': 'macOS Version 10.15.7 (Build 19H1615) Quartz PDFContext', 'creator': 'PyPDF', 'creationdate': \"D:20241029231321Z00'00'\", 'title': 'OWASP LLM/GenAI Security Solutions Reference Guide v1.0', 'moddate': \"D:20241029231321Z00'00'\", 'source': 'pdfs\\\\OWASP_LLMGenAI_SecuritySolutions_ReferenceGuide.pdf', 'total_pages': 34, 'page': 17, 'page_label': '18'}, page_content='performanceƬandensuretheapplicationremainssecureandeffectiveovertimeƫ\\nTypicalActivitiesƭ\\nLLMOps LLMSecOps\\nƔ FeedbackCollection\\nƔ IterativeEnhancements\\nƔ ModelMaintenance\\nƔ PerformanceManagement\\nƔ ScalabilityandInfrastructure\\nManagement\\nƔ UserSupportandIssueResolution\\nƔ AdversarialAttackProtection\\nƔ AutomatedVulnerabilityScanning\\nƔ DataIntegrityandEncryption\\nƔ LLMGuardrails\\nƔ LLMIncidentDetectionandResponse\\nƔ PatchManagement\\nƔ PrivacyƬDataLeakageProtection\\nƔ PromptSecurity'),\n",
              " Document(metadata={'producer': 'macOS Version 10.15.7 (Build 19H1615) Quartz PDFContext', 'creator': 'PyPDF', 'creationdate': \"D:20241029231321Z00'00'\", 'title': 'OWASP LLM/GenAI Security Solutions Reference Guide v1.0', 'moddate': \"D:20241029231321Z00'00'\", 'source': 'pdfs\\\\OWASP_LLMGenAI_SecuritySolutions_ReferenceGuide.pdf', 'total_pages': 34, 'page': 17, 'page_label': '18'}, page_content='Ɣ PromptSecurity\\nƔ RuntimeApplicationSelfǀProtection\\nƔ SecureOutputHandling\\nMˢˡ˜˧ˢ˥\\nThefocusatthisstageisoncontinuouslyobservingtheapplicationǑsperformanceƬsecurityƬ\\nanduserinteractionsinrealǀtimeƫThisstageinvolvestrackingkeymetricsƬdetectinganomaliesƬ\\nandensuringtheLLMmodelandapplicationcomponentsarefunctioningasexpectedƫMonitoring\\nalsoincludesgatheringdataforongoingimprovementƬidentifyingpotentialissuesbeforethey'),\n",
              " Document(metadata={'producer': 'macOS Version 10.15.7 (Build 19H1615) Quartz PDFContext', 'creator': 'PyPDF', 'creationdate': \"D:20241029231321Z00'00'\", 'title': 'OWASP LLM/GenAI Security Solutions Reference Guide v1.0', 'moddate': \"D:20241029231321Z00'00'\", 'source': 'pdfs\\\\OWASP_LLMGenAI_SecuritySolutions_ReferenceGuide.pdf', 'total_pages': 34, 'page': 17, 'page_label': '18'}, page_content='impactusersƬandmaintainingcompliancewithsecurityandoperationalstandardsƫThegoalisto\\nensuretheapplicationremainsstableƬsecureƬandeŨcientthroughoutitslifecycleƫ\\nTypicalActivitiesƭ\\nLLMOps LLMSecOps\\nƔ Automateretrainingprocesses\\nbasedonnewdataƫ\\nƔ Detectandrespondtomodeldriftor\\ndegradationƫ\\nƔ Managemodelversioningand\\nrollbackifnecessary\\nƔ MonitormodelperformanceƺeƫgƫƬ\\nlatencyƬaccuracyƬuserinteractionsƻƫ\\nƔ AdversarialInputDetection\\nƔ ModelBehaviorAnalysis\\nƔ AIƸLLMSecurePostureManagement'),\n",
              " Document(metadata={'producer': 'macOS Version 10.15.7 (Build 19H1615) Quartz PDFContext', 'creator': 'PyPDF', 'creationdate': \"D:20241029231321Z00'00'\", 'title': 'OWASP LLM/GenAI Security Solutions Reference Guide v1.0', 'moddate': \"D:20241029231321Z00'00'\", 'source': 'pdfs\\\\OWASP_LLMGenAI_SecuritySolutions_ReferenceGuide.pdf', 'total_pages': 34, 'page': 17, 'page_label': '18'}, page_content='Ɣ PatchandUpdateAlerts\\nƔ RegulatoryComplianceTracking\\nƔ SecurityAlerting\\nƔ SecurityMetricsCollection\\nƔ UserActivityMonitoring\\nƔ Observability\\nƔ DataPrivacyandProtection\\nƔ EthicalCompliance\\nVersion1ƫ0 17of34'),\n",
              " Document(metadata={'producer': 'macOS Version 10.15.7 (Build 19H1615) Quartz PDFContext', 'creator': 'PyPDF', 'creationdate': \"D:20241029231321Z00'00'\", 'title': 'OWASP LLM/GenAI Security Solutions Reference Guide v1.0', 'moddate': \"D:20241029231321Z00'00'\", 'source': 'pdfs\\\\OWASP_LLMGenAI_SecuritySolutions_ReferenceGuide.pdf', 'total_pages': 34, 'page': 18, 'page_label': '19'}, page_content='| GenAIƬLLMSecOpsandSecķriĴřSolķĴionLandscape\\nGˢ˩˘˥ˡ\\nAt thisstageintheLLMOpsprocessƬ thefocusisonestablishingandenforcingpoliciesƬ\\nstandardsƬandbestpracticestoensuretheapplicationoperatessecurelyandethicallythroughout\\nitslifecycleƫThisstageinvolvessettinggovernanceframeworksthatoverseedatausageƬmodel\\nmanagementƬcomplianceƬandsecuritycontrolsƫKeyactivitiesincludeauditingƬriskmanagementƬ\\nandensuringtheapplicationadherestoregulatoryrequirementsandorganizationalpoliciesƫ\\nTypicalActivitiesƭ'),\n",
              " Document(metadata={'producer': 'macOS Version 10.15.7 (Build 19H1615) Quartz PDFContext', 'creator': 'PyPDF', 'creationdate': \"D:20241029231321Z00'00'\", 'title': 'OWASP LLM/GenAI Security Solutions Reference Guide v1.0', 'moddate': \"D:20241029231321Z00'00'\", 'source': 'pdfs\\\\OWASP_LLMGenAI_SecuritySolutions_ReferenceGuide.pdf', 'total_pages': 34, 'page': 18, 'page_label': '19'}, page_content='TypicalActivitiesƭ\\nLLMOps LLMSecOps\\nConductregularauditsforcompliance\\nƺeƫgƫƬGDPRƬCCPAƻƫ\\nDataGovernance\\nDocumentmodeldecisionsƬdatasets\\nusedƬandmodelversionsƫ\\nImplementmodelgovernance\\nframeworksƫ\\nBiasandFairnessOversight\\nComplianceManagement\\nDataSecurityPostureManagement\\nIncidentGovernance\\nRiskAssessmentandManagement\\nUserƸMachineAccessaudits\\nMaˣˣiˡg˧ˢ˧heOWASPTˢˣ10fˢ˥LLMTh˥ea˧Mˢdel\\nƺﬁgureƭOWASPTop10forLLMApplicationarchitectureandThreatModelƻ'),\n",
              " Document(metadata={'producer': 'macOS Version 10.15.7 (Build 19H1615) Quartz PDFContext', 'creator': 'PyPDF', 'creationdate': \"D:20241029231321Z00'00'\", 'title': 'OWASP LLM/GenAI Security Solutions Reference Guide v1.0', 'moddate': \"D:20241029231321Z00'00'\", 'source': 'pdfs\\\\OWASP_LLMGenAI_SecuritySolutions_ReferenceGuide.pdf', 'total_pages': 34, 'page': 18, 'page_label': '19'}, page_content='Havingacommonviewof typical LLMapplicationarchitecturesƬincludingagentsƬmodelsƬ\\nLLMsƬandtheMLapplicationstackƬiscrucialfordeﬁningandaligningtheapplicationstackand\\nsecuritymodelƫByleveragingtheapplicationarchitecturefromtheOWASPTop10forLLMsƬwecan\\nalignappropriatesecuritysolutionswiththespeciﬁcrisksandmitigationareasidentiﬁedinthe\\nOWASPTop10ƫThisalignmentensuresacomprehensiveandcohesiveapproachtoaddressingthe\\nuniquesecuritychallengesposedbyLLMapplicationsƫ\\nVersion1ƫ0 18of34'),\n",
              " Document(metadata={'producer': 'macOS Version 10.15.7 (Build 19H1615) Quartz PDFContext', 'creator': 'PyPDF', 'creationdate': \"D:20241029231321Z00'00'\", 'title': 'OWASP LLM/GenAI Security Solutions Reference Guide v1.0', 'moddate': \"D:20241029231321Z00'00'\", 'source': 'pdfs\\\\OWASP_LLMGenAI_SecuritySolutions_ReferenceGuide.pdf', 'total_pages': 34, 'page': 19, 'page_label': '20'}, page_content='| GenAIƬLLMSecOpsandSecķriĴřSolķĴionLandscape\\nApplicationSerŒices\\nAn LLM application service uses large language models to process and generate\\nhumanǀliketextfortaskslikechatbotsƬtranslationƬandcontentcreationƫItintegrateswith\\ndata agentsƬ APIsƬ and security measures to ensure seamlessƬ secureƬ andeŨcient\\nAIǀdrivenservicesƬmanagingthemodellifecyclefromtrainingtodeploymentƫ\\nProductionSerŒices\\nProductionservicesdeployandmanagelargelanguagemodelsforrealǀtimeapplicationsƬ'),\n",
              " Document(metadata={'producer': 'macOS Version 10.15.7 (Build 19H1615) Quartz PDFContext', 'creator': 'PyPDF', 'creationdate': \"D:20241029231321Z00'00'\", 'title': 'OWASP LLM/GenAI Security Solutions Reference Guide v1.0', 'moddate': \"D:20241029231321Z00'00'\", 'source': 'pdfs\\\\OWASP_LLMGenAI_SecuritySolutions_ReferenceGuide.pdf', 'total_pages': 34, 'page': 19, 'page_label': '20'}, page_content='ensuringhighperformanceƬscalabilityƬandsecurityƫTheseserviceshandlemodeltrainingƬ\\nversioningƬ and monitoringƬ integrating with APIs and securityframeworkstodeliver\\nreliableappslikechatbotsandtranslationservicesinaproductionenvironmentƫ\\nTrainingDaĴaĮeĴĮǽProceĮĮing\\nTrainingdatasetsconsistofvastƬdiversetextsourcesƬincludingbooksƬarticlesƬandweb\\ncontentƫToensurequalityandconsistencyƬthesedatasetsundergopreprocessingsteps\\nliketokenizationƬcleaningƬandnormalizationƫ\\nDoœnĮĴreamSerŒiceĮ'),\n",
              " Document(metadata={'producer': 'macOS Version 10.15.7 (Build 19H1615) Quartz PDFContext', 'creator': 'PyPDF', 'creationdate': \"D:20241029231321Z00'00'\", 'title': 'OWASP LLM/GenAI Security Solutions Reference Guide v1.0', 'moddate': \"D:20241029231321Z00'00'\", 'source': 'pdfs\\\\OWASP_LLMGenAI_SecuritySolutions_ReferenceGuide.pdf', 'total_pages': 34, 'page': 19, 'page_label': '20'}, page_content='DoœnĮĴreamSerŒiceĮ\\nDownstreamservicesutilizetheoutputoflanguagemodelsforapplicationssuchas\\nchatbotsƬcontentgenerationƬsentimentanalysisƬandautomatedtranslationsƫThese\\nservicesintegrateLLMcapabilitiestoenhanceuserinteractionsanddataprocessing\\nEŘĴernaldaĴaĮoķrceĮ\\nExternaldatasourcesincludewebcrawlingthroughsearchengineAPIsƬremote\\ndatastoresƬandthirdǀpartyAPIsƫTheyprovideadditionalcontextandupǀtoǀdate\\ninformationƬenhancingthemodelǑsaccuracyandrelevancebysupplementingthe'),\n",
              " Document(metadata={'producer': 'macOS Version 10.15.7 (Build 19H1615) Quartz PDFContext', 'creator': 'PyPDF', 'creationdate': \"D:20241029231321Z00'00'\", 'title': 'OWASP LLM/GenAI Security Solutions Reference Guide v1.0', 'moddate': \"D:20241029231321Z00'00'\", 'source': 'pdfs\\\\OWASP_LLMGenAI_SecuritySolutions_ReferenceGuide.pdf', 'total_pages': 34, 'page': 19, 'page_label': '20'}, page_content='preǀtraineddatawithrealǀtimeƬdomainǀspeciﬁcinsightsƫ\\nOWASPTˢˣ10fˢ˥LLM˦Sˢl˨˧iˢˡ˦Laˡd˦caˣe\\nThe LLMsecuritysolutionslandscapeleveragestheLLMSecOpsframeworkandintegrates\\nseamlessly with the LLMOps processesƬ encompassing ScopeƸPlanƬ Model FineǀTuningƸData\\nAugmentationƬ TestƸEvaluateƬ ReleaseƬ DeployƬ OperateƬ MonitorƬ and Govern stagesƫ This\\nframeworkensuresthatsecurityisembeddedateveryphaseoftheLLMlifecycleƬaddressing'),\n",
              " Document(metadata={'producer': 'macOS Version 10.15.7 (Build 19H1615) Quartz PDFContext', 'creator': 'PyPDF', 'creationdate': \"D:20241029231321Z00'00'\", 'title': 'OWASP LLM/GenAI Security Solutions Reference Guide v1.0', 'moddate': \"D:20241029231321Z00'00'\", 'source': 'pdfs\\\\OWASP_LLMGenAI_SecuritySolutions_ReferenceGuide.pdf', 'total_pages': 34, 'page': 19, 'page_label': '20'}, page_content='uniquechallengesposedbyLLMapplicationsƬ includingpromptǀbasedinterfacesƬautomation\\nagentsƬLLMextensionsƬandcomplexLLMǀdrivenapplicationsƫ\\nThelandscapeincludesbothtraditionalsecuritycontrolsextendedtosupportLLMModelsƬ\\napplicationsƬ and workloadsƬ as well as specialized security solutions designed for LLM\\nenvironmentsƫWhilenotintendedtobeacomprehensivelistitprovidesaguidingframeworkfor\\nsecurityprofessionalslookingtointegratesecuritycontrolsandaddresstheLLMApplicationTop'),\n",
              " Document(metadata={'producer': 'macOS Version 10.15.7 (Build 19H1615) Quartz PDFContext', 'creator': 'PyPDF', 'creationdate': \"D:20241029231321Z00'00'\", 'title': 'OWASP LLM/GenAI Security Solutions Reference Guide v1.0', 'moddate': \"D:20241029231321Z00'00'\", 'source': 'pdfs\\\\OWASP_LLMGenAI_SecuritySolutions_ReferenceGuide.pdf', 'total_pages': 34, 'page': 19, 'page_label': '20'}, page_content='10securityrisksaspartoftheLLMapplicationandoperationslifecycleƫ\\nVersion1ƫ0 19of34'),\n",
              " Document(metadata={'producer': 'macOS Version 10.15.7 (Build 19H1615) Quartz PDFContext', 'creator': 'PyPDF', 'creationdate': \"D:20241029231321Z00'00'\", 'title': 'OWASP LLM/GenAI Security Solutions Reference Guide v1.0', 'moddate': \"D:20241029231321Z00'00'\", 'source': 'pdfs\\\\OWASP_LLMGenAI_SecuritySolutions_ReferenceGuide.pdf', 'total_pages': 34, 'page': 20, 'page_label': '21'}, page_content='| GenAIƬLLMSecOpsandSecķriĴřSolķĴionLandscape\\nEmergingGenAI/LLM-SpecificSecuritˬSolutions\\nThearchitectureandapproachesforLLMsandGenerativeAIapplicationsarestillintheir\\ninfancyƬ introducingnewchallengesthat extendbeyondthescopeoftraditionalsecurityand\\nDevSecOps practicesƬ often operating in unpredictable and dynamic environments where\\ntraditionalsecuritycontrolsmayfallshortinaddressingspeciﬁcriskssuchaspromptinjectionƬ\\nadversarialmanipulationƬandethicalbiasesƫ'),\n",
              " Document(metadata={'producer': 'macOS Version 10.15.7 (Build 19H1615) Quartz PDFContext', 'creator': 'PyPDF', 'creationdate': \"D:20241029231321Z00'00'\", 'title': 'OWASP LLM/GenAI Security Solutions Reference Guide v1.0', 'moddate': \"D:20241029231321Z00'00'\", 'source': 'pdfs\\\\OWASP_LLMGenAI_SecuritySolutions_ReferenceGuide.pdf', 'total_pages': 34, 'page': 20, 'page_label': '21'}, page_content='Wehavebeguntoseenewsolutionsemergingthataddressthesesecuritygapsandhave\\nattemptedtocapturetheminthetablebelowƫWewillcontinuetoupdateourlistasnewsolutions\\nappearƫThesecategoriesaretypicallyearlyindevelopmentƬbutcanhaveimmediatebeneﬁtsƫ\\nSecuritySolutions Description\\nLLMFiīeœall AnLLMﬁrewallisasecuritylayerspeciﬁcallydesignedtoprotectlargelanguage\\nmodelsƺLLMsƻfromunauthorizedaccessƬmaliciousinputsƬandpotentiallyharmful\\noutputsƫ This ﬁrewall monitors andﬁlters interactions withtheLLMƬ blocking'),\n",
              " Document(metadata={'producer': 'macOS Version 10.15.7 (Build 19H1615) Quartz PDFContext', 'creator': 'PyPDF', 'creationdate': \"D:20241029231321Z00'00'\", 'title': 'OWASP LLM/GenAI Security Solutions Reference Guide v1.0', 'moddate': \"D:20241029231321Z00'00'\", 'source': 'pdfs\\\\OWASP_LLMGenAI_SecuritySolutions_ReferenceGuide.pdf', 'total_pages': 34, 'page': 20, 'page_label': '21'}, page_content='suspiciousoradversarialinputsthatcouldmanipulatethemodelǑsbehaviorƫItalso\\nenforces predeﬁnedrules andpoliciesƬ ensuringthattheLLMonlyrespondsto\\nlegitimate requests within the deﬁned ethical and functional boundariesƫ\\nAdditionallyƬtheLLMﬁrewallcanpreventdataexﬁltrationandsafeguardsensitive\\ninformationbycontrollingtheﬂowofdatainandoutofthemodelƫ\\nLLMAķĴďmaĴed\\nBenchmaīking\\nƺincludesvulnerability\\nscanningƻ\\nLLMǀspeciﬁc benchmarking tools arespecializedtools designedtoidentify and'),\n",
              " Document(metadata={'producer': 'macOS Version 10.15.7 (Build 19H1615) Quartz PDFContext', 'creator': 'PyPDF', 'creationdate': \"D:20241029231321Z00'00'\", 'title': 'OWASP LLM/GenAI Security Solutions Reference Guide v1.0', 'moddate': \"D:20241029231321Z00'00'\", 'source': 'pdfs\\\\OWASP_LLMGenAI_SecuritySolutions_ReferenceGuide.pdf', 'total_pages': 34, 'page': 20, 'page_label': '21'}, page_content='assess security weaknesses unique to large language models ƺLLMsƻƫ These\\ncapabilitiesincludedetectingpotentialissuessuchaspromptinjectionattacksƬdata\\nleakageƬadversarialinputsƬandmodelbiasesthatmaliciousactorscouldexploitƫThe\\nscannerevaluatesthemodelǑsresponsesandbehaviorsinvariousscenariosƬﬂagging\\nvulnerabilitiesthattraditionalsecuritytoolsmightoverlookƫ\\nLLMGķaīdīailĮ LLMguardrailsareprotectivemechanismsdesignedtoensurethatlargelanguage'),\n",
              " Document(metadata={'producer': 'macOS Version 10.15.7 (Build 19H1615) Quartz PDFContext', 'creator': 'PyPDF', 'creationdate': \"D:20241029231321Z00'00'\", 'title': 'OWASP LLM/GenAI Security Solutions Reference Guide v1.0', 'moddate': \"D:20241029231321Z00'00'\", 'source': 'pdfs\\\\OWASP_LLMGenAI_SecuritySolutions_ReferenceGuide.pdf', 'total_pages': 34, 'page': 20, 'page_label': '21'}, page_content='modelsƺLLMsƻoperatewithindeﬁnedethicalƬlegalƬandfunctionalboundariesƫThese\\nguardrailshelppreventthemodelfromgeneratingharmfulƬbiasedƬorinappropriate\\ncontentbyenforcingrulesƬconstraintsƬandcontextualguidelinesduringinteractionƫ\\nLLMguardrails canincludecontent ﬁlteringƬ ethical guidelinesƬ adversarial input\\ndetectionƬanduserintentvalidationƬensuringthattheLLMǋsoutputsalignwiththe\\nintendedusecaseandorganizationalpoliciesƫ\\nAISecķīiĴř\\nPďĮĴķīe\\nManagemenĴ'),\n",
              " Document(metadata={'producer': 'macOS Version 10.15.7 (Build 19H1615) Quartz PDFContext', 'creator': 'PyPDF', 'creationdate': \"D:20241029231321Z00'00'\", 'title': 'OWASP LLM/GenAI Security Solutions Reference Guide v1.0', 'moddate': \"D:20241029231321Z00'00'\", 'source': 'pdfs\\\\OWASP_LLMGenAI_SecuritySolutions_ReferenceGuide.pdf', 'total_pages': 34, 'page': 20, 'page_label': '21'}, page_content='PďĮĴķīe\\nManagemenĴ\\nAIǀSPMhasemergedasanewindustrytermpromotedbyvendorsandanalyststo\\ncapturetheconceptofaplatformapproachtosecurityposturemanagementforAIƬ\\nincludingLLMandGenAIsystemsƫAIǀSPMfocusesonthespeciﬁcsecurityneedsof\\ntheseadvancedAI systemsƫ FocusedonthemodelsthemselvestraditionallyƫThe\\nstatedgoal of this category is tocover theentireAI lifecycleǃfromtrainingto\\ndeploymentǃhelpingtoensuremodelsareresilientƬtrustworthyƬandcompliantwith'),\n",
              " Document(metadata={'producer': 'macOS Version 10.15.7 (Build 19H1615) Quartz PDFContext', 'creator': 'PyPDF', 'creationdate': \"D:20241029231321Z00'00'\", 'title': 'OWASP LLM/GenAI Security Solutions Reference Guide v1.0', 'moddate': \"D:20241029231321Z00'00'\", 'source': 'pdfs\\\\OWASP_LLMGenAI_SecuritySolutions_ReferenceGuide.pdf', 'total_pages': 34, 'page': 20, 'page_label': '21'}, page_content='industrystandardsƫ AIǀSPMtypicallyprovidesmonitoringandaddressvulnerabilities\\nlikedatapoisoningƬmodeldriftƬadversarialattacksƬandsensitivedataleakageƫ\\nƺtableƭListofNewLLMSpeciﬁcSecuritySolutionsƻ\\nVersion1ƫ0 20of34'),\n",
              " Document(metadata={'producer': 'macOS Version 10.15.7 (Build 19H1615) Quartz PDFContext', 'creator': 'PyPDF', 'creationdate': \"D:20241029231321Z00'00'\", 'title': 'OWASP LLM/GenAI Security Solutions Reference Guide v1.0', 'moddate': \"D:20241029231321Z00'00'\", 'source': 'pdfs\\\\OWASP_LLMGenAI_SecuritySolutions_ReferenceGuide.pdf', 'total_pages': 34, 'page': 21, 'page_label': '22'}, page_content='| GenAIƬLLMSecOpsandSecķriĴřSolķĴionLandscape\\nLLM&GenerativeAISecuritˬSolutions\\nThesecuritysolutionsmatrixbelowisbasedontheLLMSecOpslifecycleƬandmappingittothe\\nOWASPTop10for LLMsandGenerativeAI offersatargetedapproachtoassessingsecurity\\ncontrolsƫThismatrixhelpsidentifygapsbyaligningsecuritytoolswithOWASPǋskeyrisksateach\\nstageƬsuchasadversarialattacksanddataleakageƫ\\nBycrossǀreferencingexistingsecuritymeasureswiththespeciﬁcneedsofLLMandGenerative'),\n",
              " Document(metadata={'producer': 'macOS Version 10.15.7 (Build 19H1615) Quartz PDFContext', 'creator': 'PyPDF', 'creationdate': \"D:20241029231321Z00'00'\", 'title': 'OWASP LLM/GenAI Security Solutions Reference Guide v1.0', 'moddate': \"D:20241029231321Z00'00'\", 'source': 'pdfs\\\\OWASP_LLMGenAI_SecuritySolutions_ReferenceGuide.pdf', 'total_pages': 34, 'page': 21, 'page_label': '22'}, page_content='AIapplicationsƬorganizationscanensurecomprehensivecoverageandstrengthentheirsecurity\\npostureacrosstheentiredevelopmentprocessƫ\\nGENAISEC8RIT<SOL8TIONSLANDSCAPE-ONLINEDIRECTOR<\\nhttps://genai.owasp.org/ai-security-solutions-landscape/\\nVisittheonlinedirectorřtoseethelatestsolķtionslisting\\nThesolutionlandscapeof opensourceprojectsandproprietaryofferingswillbeupdated\\nquarterlyinthisdocumenttoensurethecommunitymaintainsareasonablyupdatedreferencelistƫ'),\n",
              " Document(metadata={'producer': 'macOS Version 10.15.7 (Build 19H1615) Quartz PDFContext', 'creator': 'PyPDF', 'creationdate': \"D:20241029231321Z00'00'\", 'title': 'OWASP LLM/GenAI Security Solutions Reference Guide v1.0', 'moddate': \"D:20241029231321Z00'00'\", 'source': 'pdfs\\\\OWASP_LLMGenAI_SecuritySolutions_ReferenceGuide.pdf', 'total_pages': 34, 'page': 21, 'page_label': '22'}, page_content='Wearealsomaintaininganonǀlinedirectorontheprojectwebsitetoprovidethemostuptodate\\nlistingsƫTheselistingsarecommunityandresearchsourcedƫ\\nSolutionlistingsmaybesubmittedonlinebycompaniesƬprojectsorindividualsƫSubmissions\\nwill be reviewed for accuracy before publishingƫ Belowis an outline of thesolutionmatrix\\nmaintainedinthedocumentwithdeﬁnitionsforeachareaƫ\\nSˢl˨˧iˢˡLaˡd˦caˣeMa˧˥i˫Defiˡi˧iˢˡ˦\\nE;AMPLE\\nSolķtion\\nƺProjectƬProdķctƬSerŒiceƻ\\nTřpe\\nƺOpenSoķrceƬ\\nProprietarřƻ\\nProjectƬ\\nCompanř\\nGen\\nAIƸLLMSecOps'),\n",
              " Document(metadata={'producer': 'macOS Version 10.15.7 (Build 19H1615) Quartz PDFContext', 'creator': 'PyPDF', 'creationdate': \"D:20241029231321Z00'00'\", 'title': 'OWASP LLM/GenAI Security Solutions Reference Guide v1.0', 'moddate': \"D:20241029231321Z00'00'\", 'source': 'pdfs\\\\OWASP_LLMGenAI_SecuritySolutions_ReferenceGuide.pdf', 'total_pages': 34, 'page': 21, 'page_label': '22'}, page_content='Gen\\nAIƸLLMSecOps\\nCategorřCoŒerage\\nTopųŲforLLM\\nRiskCoŒerage\\nPīďjecĴƸPīďdķcĴName\\nCīeaĴehřĨeīlinkĴďĴhe\\nĨīďjecĴƸĨīďdķcĴ\\nOĨeĊSďķīce OĨeĊSďķīcePīďjecĴ\\nNaĉeƬCďĉĨaĊř\\nNaĉe\\nLiĮĴďfcďŒeīed\\nĮecķīiĴřcďĊĴīďl\\ncaĴegďīi\\neĮĨīďŒidedœiĴhiĊ\\neachĮĴage\\nLiĮĴďfĴheLLMTďĨųŲ\\nRiĮkĮCďŒeīedbřĴhe\\nĮďlķĴiďĊƫUĮeǈLLMǅAllǉ\\nfďīallcaĴegďīieĮƫ\\nVersion1ƫ0 21of34'),\n",
              " Document(metadata={'producer': 'macOS Version 10.15.7 (Build 19H1615) Quartz PDFContext', 'creator': 'PyPDF', 'creationdate': \"D:20241029231321Z00'00'\", 'title': 'OWASP LLM/GenAI Security Solutions Reference Guide v1.0', 'moddate': \"D:20241029231321Z00'00'\", 'source': 'pdfs\\\\OWASP_LLMGenAI_SecuritySolutions_ReferenceGuide.pdf', 'total_pages': 34, 'page': 22, 'page_label': '23'}, page_content='| GenAIƬLLMSecOpsandSecķriĴřSolķĴionLandscape\\nLandscapeSolutionMatri˫\\nSCOPINGƸPLANNING\\nSolķĴion Třpe ProjecĴƸCompanř GenAIƸLLMSecOps TopųŲforLLM\\nRiskCoŒerage\\nSĴīðÌÐGPT OĨeĊSďķīce SĴīðÌÐGPT Ɣ ThīeaĴMďdeliĊg LLMǅAll\\nMðĴīÐAĴăaĮ PīďĨīieĴaīř MðĴīÐ Ɣ ThīeaĴMďdeliĊg LLMǅAll\\nDATAA8GMENTATIONANDFINE-T8NING\\nSolķĴion Třpe ProjecĴƸCompanř GenAIƸLLMSecOps TopųŲforLLM\\nRiskCoŒerage\\nCloakedAI PīďĨīieĴaīř IronCoreLabs Ɣ SecķīeDaĴaHaĊdliĊg LLMŲŸ'),\n",
              " Document(metadata={'producer': 'macOS Version 10.15.7 (Build 19H1615) Quartz PDFContext', 'creator': 'PyPDF', 'creationdate': \"D:20241029231321Z00'00'\", 'title': 'OWASP LLM/GenAI Security Solutions Reference Guide v1.0', 'moddate': \"D:20241029231321Z00'00'\", 'source': 'pdfs\\\\OWASP_LLMGenAI_SecuritySolutions_ReferenceGuide.pdf', 'total_pages': 34, 'page': 22, 'page_label': '23'}, page_content='Unstructred.io PīďĨīieĴaīř UĊĮĴīķcĴķīÐÌƫðď Ɣ SecķīeDaĴaHaĊdliĊg LLMŲŸ\\nDEˉELO˃MENˇANDEˋ˃E˅IMENˇAˇION\\nSolķĴion Třpe ProjecĴƸCompanř GenAIƸLLMSecOps TopųŲforLLM\\nRiskCoŒerage\\nAquaSecurity PīďĨīieĴaīř AquaSecurity Ɣ SASTƬDASTǽIAST\\nƔ SecureLibraryƸCode\\nRepository\\nƔ SoftwareComposition\\nAnalysis\\nƔ SecureLibraryƸCode\\nRepository\\nLLMŲųƬLLMŲŴƬ\\nLLMŲŵƬLLMŲŶƬ\\nLLMŲŷƬLLMŲŸƬ\\nLLMŲŹƬLLMŲźƬ\\nLLMŲŻƬLLMųŲ\\nCloakedAI PīďĨīieĴaīř IronCoreLabs Ɣ SecķīeDaĴaHaĊdliĊg LLMŲŸ\\nFickling OĨeĊSďķīce TrailofBits Ɣ PickleLibrary'),\n",
              " Document(metadata={'producer': 'macOS Version 10.15.7 (Build 19H1615) Quartz PDFContext', 'creator': 'PyPDF', 'creationdate': \"D:20241029231321Z00'00'\", 'title': 'OWASP LLM/GenAI Security Solutions Reference Guide v1.0', 'moddate': \"D:20241029231321Z00'00'\", 'source': 'pdfs\\\\OWASP_LLMGenAI_SecuritySolutions_ReferenceGuide.pdf', 'total_pages': 34, 'page': 22, 'page_label': '23'}, page_content='Ɣ MaliciousRunǀtimeFile\\nDetection\\nLLMŲŵ\\nPrivacyRaven OĨeĊSďķīce TrailofBits Ɣ Privacytestinglibraryfor\\nAImodels\\nƔ MaliciousRunǀtimeFile\\nDetection\\nLLMŲŵƬLLMŲŸ\\nVersion1ƫ0 22of34'),\n",
              " Document(metadata={'producer': 'macOS Version 10.15.7 (Build 19H1615) Quartz PDFContext', 'creator': 'PyPDF', 'creationdate': \"D:20241029231321Z00'00'\", 'title': 'OWASP LLM/GenAI Security Solutions Reference Guide v1.0', 'moddate': \"D:20241029231321Z00'00'\", 'source': 'pdfs\\\\OWASP_LLMGenAI_SecuritySolutions_ReferenceGuide.pdf', 'total_pages': 34, 'page': 23, 'page_label': '24'}, page_content='| GenAIƬLLMSecOpsandSecķriĴřSolķĴionLandscape\\nPangeaSanitize Proprietary Pangea Ɣ ModelAndApplication\\nInteractionSecurity\\nƔ SecureCodingPractices\\nLLMŲŴƬLLMŲŵƬ\\nLLMŲŷƬLLMŲŸ\\nPangeaAuthorization Proprietary Pangea Ɣ AccessƬAuthentication\\nAndAuthorizationƺMFAƻ\\nƔ ModelAndApplication\\nInteractionSecurity\\nƔ SecureCodingPractices\\nLLMŲŶƬLLMŲŸƬ\\nLLMŲŹƬLLMŲźƬ\\nLLMųŲ\\nPangeaAuthentication Proprietary Pangea Ɣ AccessƬAuthentication\\nAndAuthorizationƺMFAƻƬ\\nƔ ModelAndApplication\\nInteractionSecurityƬ'),\n",
              " Document(metadata={'producer': 'macOS Version 10.15.7 (Build 19H1615) Quartz PDFContext', 'creator': 'PyPDF', 'creationdate': \"D:20241029231321Z00'00'\", 'title': 'OWASP LLM/GenAI Security Solutions Reference Guide v1.0', 'moddate': \"D:20241029231321Z00'00'\", 'source': 'pdfs\\\\OWASP_LLMGenAI_SecuritySolutions_ReferenceGuide.pdf', 'total_pages': 34, 'page': 23, 'page_label': '24'}, page_content='Ɣ SecureCodingPractices\\nLLMŲŶƬLLMŲŹƬ\\nLLMųŲ\\nPangeaRedact Proprietary Pangea Ɣ ModelAndApplication\\nInteractionSecurityƬ\\nƔ SecureCodingPractices\\nLLMŲŶƬLLMŲŹƬ\\nLLMųŲ\\nPurpleLlamaCodeShield OpenSource Meta-PurpleLlama Ɣ InsecureCodeGeneration LLMŲŴ\\nPangeaDataGuard Proprietary Pangea Ɣ ModelAndApplication\\nInteractionSecurityƬ\\nƔ SecureCodingPractices\\nLLMŲŶƬLLMŲŹƬ\\nLLMųŲ\\nPangeaPromptGuard Proprietary Pangea Ɣ ModelAndApplication\\nInteractionSecurityƬ\\nƔ SecureCodingPractices\\nLLMŲųƬLLMŲŵ'),\n",
              " Document(metadata={'producer': 'macOS Version 10.15.7 (Build 19H1615) Quartz PDFContext', 'creator': 'PyPDF', 'creationdate': \"D:20241029231321Z00'00'\", 'title': 'OWASP LLM/GenAI Security Solutions Reference Guide v1.0', 'moddate': \"D:20241029231321Z00'00'\", 'source': 'pdfs\\\\OWASP_LLMGenAI_SecuritySolutions_ReferenceGuide.pdf', 'total_pages': 34, 'page': 23, 'page_label': '24'}, page_content='LLMŲųƬLLMŲŵ\\nCiscoAIValidation Proprietary CiscoSystems Ɣ AdversarialInput\\nDetectionƬ\\nƔ AIƸLLMSecurePosture\\nManagement\\nƔ FinalSecurityAudit\\nIncidentSimulation\\nƔ LLMBenchmarking\\nLLMŲųƬLLMŲŵƬ\\nLLMŲŶƬLLMŲŸƬ\\nLLMŲŻ\\nMendAI Proprietary Mend.io Ɣ LLMǽAppVulnerability\\nScanning\\nƔ ModelAndApplication\\nInteractionSecurity\\nƔ SASTƸDASTƸIAST\\nƔ SecureCodingPractices\\nƔ SecureLibraryƸCode\\nRepository\\nƔ SoftwareComposition\\nAnalysis\\nLLMŲųƬLLMŲŴƬ\\nLLMŲŵƬLLMŲŶƬ\\nLLMŲŸƬLLMŲŹƬ\\nLLMŲźƬLLMŲŻƬ\\nLLMųŲ\\nVersion1ƫ0 23of34'),\n",
              " Document(metadata={'producer': 'macOS Version 10.15.7 (Build 19H1615) Quartz PDFContext', 'creator': 'PyPDF', 'creationdate': \"D:20241029231321Z00'00'\", 'title': 'OWASP LLM/GenAI Security Solutions Reference Guide v1.0', 'moddate': \"D:20241029231321Z00'00'\", 'source': 'pdfs\\\\OWASP_LLMGenAI_SecuritySolutions_ReferenceGuide.pdf', 'total_pages': 34, 'page': 24, 'page_label': '25'}, page_content='| GenAIƬLLMSecOpsandSecķriĴřSolķĴionLandscape\\nTESTANDEVALUATION\\nSolution Type ProjectƸCompany GenAIƸLLMSecOps Topų0forLLM\\nRiskCoverage\\nLLMVulnerability\\nScanner\\nOpenSource Garak.AI Ɣ LLMVulnerability\\nScanning\\nLLM01\\nPromptFoo OpenSource PromptFoo Ɣ AdversarialTesting\\nƔ BiasandFairness\\nTesting\\nƔ FinalSecurityAudit\\nƔ LLMBenchmarking\\nƔ PenetrationTesting\\nƔ SASTƸDASTƸIAST\\nƔ VulnerabilityScanning\\nLLM01ƬLLM02ƬLLM03Ƭ\\nLLM04ƬLLM05ƬLLM06Ƭ\\nLLM07ƬLLM08ƬLLM09Ƭ\\nLLM10'),\n",
              " Document(metadata={'producer': 'macOS Version 10.15.7 (Build 19H1615) Quartz PDFContext', 'creator': 'PyPDF', 'creationdate': \"D:20241029231321Z00'00'\", 'title': 'OWASP LLM/GenAI Security Solutions Reference Guide v1.0', 'moddate': \"D:20241029231321Z00'00'\", 'source': 'pdfs\\\\OWASP_LLMGenAI_SecuritySolutions_ReferenceGuide.pdf', 'total_pages': 34, 'page': 24, 'page_label': '25'}, page_content='LLM10\\nModelscan OpenSource ProtectAI Ɣ PenetrationTesting\\nVulnerabilityScanning\\nLLM03ƬLLM06ƬLLM10\\nCyberSecEval OpenSource Meta Ɣ AdversarialTesting\\nƔ LLMBenchmarking\\nƔ VulnerabilityScanning\\nLLM01ƬLLM02ƬLLM07Ƭ\\nLLM08ƬLLM09ƬLLM10\\nCiscoAIValidation Proprietary CiscoSystems Ɣ AdversarialInput\\nDetectionƬ\\nƔ AIƸLLMSecure\\nƔ PostureManagement\\nƔ FinalSecurityAudit\\nƔ IncidentSimulation\\nƔ LLMBenchmarking\\nLLM01ƬLLM03ƬLLM04Ƭ\\nLLM06ƬLLM09\\nEnkryptAI Proprietary EnkryptAI Ɣ AdversarialTesting\\nƔ BiasAndFairness'),\n",
              " Document(metadata={'producer': 'macOS Version 10.15.7 (Build 19H1615) Quartz PDFContext', 'creator': 'PyPDF', 'creationdate': \"D:20241029231321Z00'00'\", 'title': 'OWASP LLM/GenAI Security Solutions Reference Guide v1.0', 'moddate': \"D:20241029231321Z00'00'\", 'source': 'pdfs\\\\OWASP_LLMGenAI_SecuritySolutions_ReferenceGuide.pdf', 'total_pages': 34, 'page': 24, 'page_label': '25'}, page_content='Ɣ BiasAndFairness\\nTestingƬ\\nƔ FinalSecurityAudit\\nƔ IncidentSimulation\\nƔ LLMBenchmarking\\nƔ PenetrationTesting\\nƔ ResponseTesting\\nƔ SASTƸDASTƸIAST\\nƔ VulnerabilityScanning\\nLLM01ƬLLM02ƬLLM03Ƭ\\nLLM04ƬLLM06ƬLLM07Ƭ\\nLLM08ƬLLM09ƬLLM10\\nHarmbench OpenSource Harmbench Ɣ AdversarialTesting\\nƔ BiasAndFairness\\nTesting\\nƔ IncidentSimulation\\nƔ LLMBenchmarking\\nƔ ResponseTesting\\nƔ VulnerabilityScanning\\nLLM01ƬLLM02ƬLLM03Ƭ\\nLLM06ƬLLM08ƬLLM09\\nAquaSecurity Proprietary AquaSecurity Ɣ AdversarialAttack\\nProtection'),\n",
              " Document(metadata={'producer': 'macOS Version 10.15.7 (Build 19H1615) Quartz PDFContext', 'creator': 'PyPDF', 'creationdate': \"D:20241029231321Z00'00'\", 'title': 'OWASP LLM/GenAI Security Solutions Reference Guide v1.0', 'moddate': \"D:20241029231321Z00'00'\", 'source': 'pdfs\\\\OWASP_LLMGenAI_SecuritySolutions_ReferenceGuide.pdf', 'total_pages': 34, 'page': 24, 'page_label': '25'}, page_content='Protection\\nƔ SASTƸDASTƸIAST\\nƔ SecureCIƸCDPipeline\\nƔ SecureLibraryƸCode\\nRepository\\nLLM01ƬLLM02ƬLLM03Ƭ\\nLLM04ƬLLM05ƬLLM06Ƭ\\nLLM07ƬLLM08ƬLLM09Ƭ\\nLLM10\\nVersion1ƫ0 24of34'),\n",
              " Document(metadata={'producer': 'macOS Version 10.15.7 (Build 19H1615) Quartz PDFContext', 'creator': 'PyPDF', 'creationdate': \"D:20241029231321Z00'00'\", 'title': 'OWASP LLM/GenAI Security Solutions Reference Guide v1.0', 'moddate': \"D:20241029231321Z00'00'\", 'source': 'pdfs\\\\OWASP_LLMGenAI_SecuritySolutions_ReferenceGuide.pdf', 'total_pages': 34, 'page': 25, 'page_label': '26'}, page_content='| GenAIƬLLMSecOpsandSecķriĴřSolķĴionLandscape\\nƔ SoftwareComposition\\nAnalysis\\nƔ VulnerabilityScanning\\nPromptFuzzer OpenSource PromptSecurity Ɣ AdversarialTestingƬ\\nƔ BiasAndFairness\\nTestingƬ\\nƔ IncidentSimulationƬ\\nƔ ResponseTesting\\nLLM01ƬLLM02ƬLLM03Ƭ\\nLLM06\\nPillarSecurity Proprietary PillarSecurity Ɣ AdversarialTestingƬ\\nƔ LLMBenchmarkingƬ\\nƔ PenetrationTesting\\nLLM01ƬLLM02ƬLLM04Ƭ\\nLLM06ƬLLM07ƬLLM08\\nZenGuardAI Proprietary ZenGuardAI Ɣ AdversarialAttack\\nProtectionƬ\\nƔ AdversarialTestingƬ\\nƔ Automated'),\n",
              " Document(metadata={'producer': 'macOS Version 10.15.7 (Build 19H1615) Quartz PDFContext', 'creator': 'PyPDF', 'creationdate': \"D:20241029231321Z00'00'\", 'title': 'OWASP LLM/GenAI Security Solutions Reference Guide v1.0', 'moddate': \"D:20241029231321Z00'00'\", 'source': 'pdfs\\\\OWASP_LLMGenAI_SecuritySolutions_ReferenceGuide.pdf', 'total_pages': 34, 'page': 25, 'page_label': '26'}, page_content='Ɣ Automated\\nVulnerability\\nScanningƬ\\nƔ DataLeakage\\nProtectionƬ\\nƔ LLMGuardrailsƬ\\nƔ PenetrationTestingƬ\\nƔ PrivacyƬPrompt\\nSecurityƬ\\nƔ SecureOutput\\nHandling\\nLLM01ƬLLM02ƬLLM04Ƭ\\nLLM05ƬLLM06ƬLLM07Ƭ\\nLLM08ƬLLM10\\nGiskard OpenSource Giskard Ɣ AdversarialTestingƬ\\nƔ BiasandFairness\\nTesting\\nƔ LLMBenchmarkingƬ\\nƔ VulnerabilityScanning\\nLLM01ƬLLM02ƬLLM06Ƭ\\nLLM08ƬLLM09\\nVersion1ƫ0 25of34'),\n",
              " Document(metadata={'producer': 'macOS Version 10.15.7 (Build 19H1615) Quartz PDFContext', 'creator': 'PyPDF', 'creationdate': \"D:20241029231321Z00'00'\", 'title': 'OWASP LLM/GenAI Security Solutions Reference Guide v1.0', 'moddate': \"D:20241029231321Z00'00'\", 'source': 'pdfs\\\\OWASP_LLMGenAI_SecuritySolutions_ReferenceGuide.pdf', 'total_pages': 34, 'page': 26, 'page_label': '27'}, page_content='| GenAIƬLLMSecOpsandSecķriĴřSolķĴionLandscape\\nRELEASE\\nSolution Type ProjectƸCompany GenAIƸLLMSecOps Topų0forLLM\\nRiskCoverage\\nCiscoAIValidation PīďĨīieĴaīř CiscoSystems MďdelSecķīiĴřPďĮĴķīe\\nEŒalķaĴiďĊƬSecķīeSķĨĨlř\\nChaiĊVeīiťcaĴiďĊ\\nLLMŲųƬLLMŲŵƬLLMŲŶƬ\\nLLMŲŷƬLLMŲŸƬLLMŲŻ\\nCycloneDX OĨeĊSďķīce CřcăďĊÐDX LLMƸMLBOMGeĊeīaĴiďĊ LLMŲŷ\\nAquaSecurity PīďĨīieĴaīř AquaSecurity Ɣ SASTƬDASTǽIAST\\nƔ SecureLibraryƸCode\\nRepository\\nƔ SoftwareComposition\\nAnalysis\\nƔ SecureLibraryƸCode\\nRepository\\nLLMŲųƬLLMŲŴƬLLMŲŵƬ'),\n",
              " Document(metadata={'producer': 'macOS Version 10.15.7 (Build 19H1615) Quartz PDFContext', 'creator': 'PyPDF', 'creationdate': \"D:20241029231321Z00'00'\", 'title': 'OWASP LLM/GenAI Security Solutions Reference Guide v1.0', 'moddate': \"D:20241029231321Z00'00'\", 'source': 'pdfs\\\\OWASP_LLMGenAI_SecuritySolutions_ReferenceGuide.pdf', 'total_pages': 34, 'page': 26, 'page_label': '27'}, page_content='LLMŲųƬLLMŲŴƬLLMŲŵƬ\\nLLMŲŶƬLLMŲŷƬLLMŲŸƬ\\nLLMŲŹƬLLMŲźƬLLMŲŻƬ\\nLLMųŲ\\nLegitSecurity-\\nAI-SPM\\nProprietary LegitSecurity AIGeneratedCode\\nDetection\\nLLMŲŷ\\nDEPLO<\\nSolution Type ProjectƸCompany GenAIƸLLMSecOps Topų0forLLM\\nRiskCoverage\\nCiscoAIRuntime PīďĨīieĴaīř CðĮcďSřĮĴÐĉĮ LLMEĊabledWeb\\nAĨĨlicaĴiďĊFiīeœallƬ\\nUĮeīaĊdDaĴaPīiŒacř\\nPīďĴecĴiďĊĮ\\nLLMŲųƬLLMŲŴƬ\\nLLMŲŶƬLLMŲŸƬ\\nLLMŲŹƬLLMŲźƬ\\nLLMŲŻƬLLMųŲ\\nPurpleLlamaCodeShield OĨeĊSďķīce MeĴa LLMŲŴ\\nOPERATE\\nSolution Type ProjectƸCompany GenAIƸLLMSecOps Topų0forLLM'),\n",
              " Document(metadata={'producer': 'macOS Version 10.15.7 (Build 19H1615) Quartz PDFContext', 'creator': 'PyPDF', 'creationdate': \"D:20241029231321Z00'00'\", 'title': 'OWASP LLM/GenAI Security Solutions Reference Guide v1.0', 'moddate': \"D:20241029231321Z00'00'\", 'source': 'pdfs\\\\OWASP_LLMGenAI_SecuritySolutions_ReferenceGuide.pdf', 'total_pages': 34, 'page': 26, 'page_label': '27'}, page_content='RiskCoverage\\nLLMGuard OpenSource ProtectAI PrivacyƬDataLeakage\\nProtection\\nPromptSecurityƬ\\nAdversarialAttack\\nProtection\\nVersion1ƫ0 26of34'),\n",
              " Document(metadata={'producer': 'macOS Version 10.15.7 (Build 19H1615) Quartz PDFContext', 'creator': 'PyPDF', 'creationdate': \"D:20241029231321Z00'00'\", 'title': 'OWASP LLM/GenAI Security Solutions Reference Guide v1.0', 'moddate': \"D:20241029231321Z00'00'\", 'source': 'pdfs\\\\OWASP_LLMGenAI_SecuritySolutions_ReferenceGuide.pdf', 'total_pages': 34, 'page': 27, 'page_label': '28'}, page_content='| GenAIƬLLMSecOpsandSecķriĴřSolķĴionLandscape\\nAquaSecurity Proprietary AquaSecurity AdversarialAttack\\nProtectionƬ\\nAdversarialTestingƬ\\nAutomated\\nVulnerabilityScanningƬ\\nDataLeakage\\nProtectionƬ\\nLLMGuardrailsƬ\\nPenetrationTestingƬ\\nPrivacyƬPrompt\\nSecurityƬ\\nSecureOutputHandling\\nLLM01ƬLLM02Ƭ\\nLLM03ƬLLM04Ƭ\\nLLM05ƬLLM06Ƭ\\nLLM07ƬLLM08Ƭ\\nLLM09ƬLLM10\\nZenGuardAI PīoĨīieĴaīř Zenguard.ai AdversarialAttack\\nProtectionƬ\\nAutomated\\nVulnerabilityScanningƬ\\nLLMGuardrailsƬPrivacy\\nDataLeakage\\nProtection\\nPromptSecurity'),\n",
              " Document(metadata={'producer': 'macOS Version 10.15.7 (Build 19H1615) Quartz PDFContext', 'creator': 'PyPDF', 'creationdate': \"D:20241029231321Z00'00'\", 'title': 'OWASP LLM/GenAI Security Solutions Reference Guide v1.0', 'moddate': \"D:20241029231321Z00'00'\", 'source': 'pdfs\\\\OWASP_LLMGenAI_SecuritySolutions_ReferenceGuide.pdf', 'total_pages': 34, 'page': 27, 'page_label': '28'}, page_content='PromptSecurity\\nSecureOutputHandling\\nLLM01ƬLLM02Ƭ\\nLLM03ƬLLM04Ƭ\\nLLM05ƬLLM06Ƭ\\nLLM07ƬLLM08Ƭ\\nLLM09ƬLLM10Ƭ\\nLLMǅAll\\nAIBlueTeam PīoĨīieĴaīř NRI\\nSecureTechnologies\\nAdversarialAttack\\nProtectionƬLLM\\nGuardrailsƬLLM\\nIncidentDetectionand\\nResponseƬPrivacyƬ\\nDataLeakage\\nProtectionƬPrompt\\nSecurityƬSecure\\nOutputHandling\\nLLM01ƬLLM02Ƭ\\nLLM04ƬLLM06Ƭ\\nLLM08ƬLLM09\\nCiscoAIRuntime CiscoSystems AdversarialAttack\\nProtectionƬLLM\\nGuardrailsƬLLM\\nIncidentDetectionand\\nResponseƬPrivacyƬ\\nDataLeakage\\nProtectionƬPrompt'),\n",
              " Document(metadata={'producer': 'macOS Version 10.15.7 (Build 19H1615) Quartz PDFContext', 'creator': 'PyPDF', 'creationdate': \"D:20241029231321Z00'00'\", 'title': 'OWASP LLM/GenAI Security Solutions Reference Guide v1.0', 'moddate': \"D:20241029231321Z00'00'\", 'source': 'pdfs\\\\OWASP_LLMGenAI_SecuritySolutions_ReferenceGuide.pdf', 'total_pages': 34, 'page': 27, 'page_label': '28'}, page_content='ProtectionƬPrompt\\nSecurityƬRuntime\\nApplication\\nSelfǀProtectionƬSecure\\nOutputHandling\\nLLM01ƬLLM02Ƭ\\nLLM04ƬLLM06Ƭ\\nLLM07ƬLLM08Ƭ\\nLLM09ƬLLM10\\nVersion1ƫ0 27of34'),\n",
              " Document(metadata={'producer': 'macOS Version 10.15.7 (Build 19H1615) Quartz PDFContext', 'creator': 'PyPDF', 'creationdate': \"D:20241029231321Z00'00'\", 'title': 'OWASP LLM/GenAI Security Solutions Reference Guide v1.0', 'moddate': \"D:20241029231321Z00'00'\", 'source': 'pdfs\\\\OWASP_LLMGenAI_SecuritySolutions_ReferenceGuide.pdf', 'total_pages': 34, 'page': 28, 'page_label': '29'}, page_content='| GenAIƬLLMSecOpsandSecķriĴřSolķĴionLandscape\\nMONITOR\\nSolution Type ProjectƸCompany GenAIƸLLMSecOps Topų0forLLM\\nRiskCoverage\\nCiscoAIValidation Proprietary CiscoSystems AdversarialInput\\nDetectionƬModel\\nBehaviorAnalysisƬ\\nAIƸLLMSecurePosture\\nManagementƬRegulatory\\nComplianceTracking\\nLLM01ƬLLM03Ƭ\\nLLM04ƬLLM05Ƭ\\nLLM06ƬLLM09\\nAISecPlatform Proprietary HiddenLayer AdversarialInput\\nDetectionƬ\\nModelBehaviorAnalysisƬ\\nAIƸLLMSecurePosture\\nManagementƬ\\nRegulatoryCompliance\\nTrackingƬ\\nSecurityAlertingƬ'),\n",
              " Document(metadata={'producer': 'macOS Version 10.15.7 (Build 19H1615) Quartz PDFContext', 'creator': 'PyPDF', 'creationdate': \"D:20241029231321Z00'00'\", 'title': 'OWASP LLM/GenAI Security Solutions Reference Guide v1.0', 'moddate': \"D:20241029231321Z00'00'\", 'source': 'pdfs\\\\OWASP_LLMGenAI_SecuritySolutions_ReferenceGuide.pdf', 'total_pages': 34, 'page': 28, 'page_label': '29'}, page_content='SecurityAlertingƬ\\nUserActivityMonitoringƬ\\nObservabilityƬ\\nDataPrivacyand\\nProtection\\nLLM01ƬLLM02Ƭ\\nLLM04ƬLLM05Ƭ\\nLLM06ƬLLM07Ƭ\\nLLM08ƬLLM10\\nAquaSecurity Proprietary AquaSecurity AIƸLLMSecurePosture\\nManagement\\nLLM04ƬLLM06Ƭ\\nLLM10\\nSPLX.AI Proprietary BrandEngagement\\nNetworks\\nAdversarialInput\\nDetectionƬAIƸLLM\\nSecurePosture\\nManagementƬRegulatory\\nComplianceTrackingƬ\\nSecurityMetrics\\nCollectionƬObservabilityƬ\\nDataPrivacyand\\nProtectionƬEthical\\nCompliance\\nLLM01ƬLLM02Ƭ\\nLLM03ƬLLM04Ƭ\\nLLM05ƬLLM06Ƭ\\nLLM07ƬLLM08Ƭ'),\n",
              " Document(metadata={'producer': 'macOS Version 10.15.7 (Build 19H1615) Quartz PDFContext', 'creator': 'PyPDF', 'creationdate': \"D:20241029231321Z00'00'\", 'title': 'OWASP LLM/GenAI Security Solutions Reference Guide v1.0', 'moddate': \"D:20241029231321Z00'00'\", 'source': 'pdfs\\\\OWASP_LLMGenAI_SecuritySolutions_ReferenceGuide.pdf', 'total_pages': 34, 'page': 28, 'page_label': '29'}, page_content='LLM07ƬLLM08Ƭ\\nLLM09ƬLLM10\\nPromptGuard OpenSource Meta ModelBehaviorAnalysis LLM01ƬLLM02Ƭ\\nLLM03ƬLLM04Ƭ\\nLLM05ƬLLM06Ƭ\\nLLM07ƬLLM08Ƭ\\nLLM09ƬLLM10\\nLakera Proprietary Lakera AdversarialInput\\nDetectionƬRegulatory\\nComplianceTrackingƬ\\nSecurityAlertingƬ\\nSecurityMetrics\\nCollectionƬDataPrivacy\\nandProtectionƬEthical\\nCompliance\\nLLM01ƬLLM02Ƭ\\nLLM03ƬLLM04Ƭ\\nLLM05ƬLLM06Ƭ\\nLLM07ƬLLM08Ƭ\\nLLM09ƬLLM10\\nVersion1ƫ0 28of34'),\n",
              " Document(metadata={'producer': 'macOS Version 10.15.7 (Build 19H1615) Quartz PDFContext', 'creator': 'PyPDF', 'creationdate': \"D:20241029231321Z00'00'\", 'title': 'OWASP LLM/GenAI Security Solutions Reference Guide v1.0', 'moddate': \"D:20241029231321Z00'00'\", 'source': 'pdfs\\\\OWASP_LLMGenAI_SecuritySolutions_ReferenceGuide.pdf', 'total_pages': 34, 'page': 29, 'page_label': '30'}, page_content='| GenAIƬLLMSecOpsandSecķriĴřSolķĴionLandscape\\nGO9ERN\\nSolution Type ProjectƸCompany GenAIƸLLMSecOps Topų0forLLM\\nRiskCoverage\\nLassoSecureGatewayfor\\nLLMs\\nPīďĨīieĴaīř LaĮĮďSÐcķīðĴř\\nƺSilŒeīSĨďĊĮďīƻ\\nƔ LLMSecķīe\\nGaĴeœař\\nLLMŲųƬLLMŲŴ\\nAISecurityǽGovernance PīďĨīieĴaīř SÐcķīðĴð\\nƺSilŒeīSĨďĊĮďīƻ\\nƔ MďdelDiĮcďŒeīř\\nƔ MďdelRiĮk\\nMaĊageĉeĊĴ\\nLLMŲŵƬLLMŲŸƬ\\nLLMŲŻ\\nCiscoAIValidation PīďĨīieĴaīř CðĮcďSřĮĴÐĉĮ Ɣ CďĉĨliaĊce\\nMaĊageĉeĊĴƬ\\nƔ RiĮkAĮĮeĮĮĉeĊĴ\\naĊdMaĊageĉeĊĴ\\nLLMŲųƬLLMŲŵƬ\\nLLMŲŶƬLLMŲŸƬLLMŲŻ'),\n",
              " Document(metadata={'producer': 'macOS Version 10.15.7 (Build 19H1615) Quartz PDFContext', 'creator': 'PyPDF', 'creationdate': \"D:20241029231321Z00'00'\", 'title': 'OWASP LLM/GenAI Security Solutions Reference Guide v1.0', 'moddate': \"D:20241029231321Z00'00'\", 'source': 'pdfs\\\\OWASP_LLMGenAI_SecuritySolutions_ReferenceGuide.pdf', 'total_pages': 34, 'page': 29, 'page_label': '30'}, page_content='LLMŲŶƬLLMŲŸƬLLMŲŻ\\nAIVerify OĨeĊSďķīce AIVÐīðåřFďķĊÌaĴðďĊ Ɣ BiaĮaĊdFaiīĊeĮĮ\\nOŒeīĮighĴ\\nƔ RiĮkAĮĮeĮĮĉeĊĴ\\naĊdMaĊageĉeĊĴ\\nLLMŲŵƬLLMŲŸƬ\\nLLMŲŻ\\nPromptSecurity PīďĨīieĴaīř PromptSecurity BiaĮaĊdFaiīĊeĮĮ\\nOŒeīĮighĴƬ\\nCďĉĨliaĊce\\nMaĊageĉeĊĴƬDaĴa\\nSecķīiĴřPďĮĴķīe\\nMaĊageĉeĊĴƬ\\nIĊcideĊĴ\\nGďŒeīĊaĊceƬRiĮk\\nAĮĮeĮĮĉeĊĴaĊd\\nMaĊageĉeĊĴƬ\\nUĮeīƸMachiĊe\\nAcceĮĮaķdiĴĮ\\nLLMŲųƬLLMŲŴƬ\\nLLMŲŵƬLLMŲŶƬ\\nLLMŲŷƬLLMŲŸƬ\\nLLMŲŹƬLLMŲźƬ\\nLLMŲŻƬLLMųŲ\\nVersion1ƫ0 29of34'),\n",
              " Document(metadata={'producer': 'macOS Version 10.15.7 (Build 19H1615) Quartz PDFContext', 'creator': 'PyPDF', 'creationdate': \"D:20241029231321Z00'00'\", 'title': 'OWASP LLM/GenAI Security Solutions Reference Guide v1.0', 'moddate': \"D:20241029231321Z00'00'\", 'source': 'pdfs\\\\OWASP_LLMGenAI_SecuritySolutions_ReferenceGuide.pdf', 'total_pages': 34, 'page': 30, 'page_label': '31'}, page_content='| GenAIƬLLMSecOpsandSecķriĴřSolķĴionLandscape\\nAckˡˢ˪ledgeˠeˡ˧˦\\nLeadA˨˧hˢ˥˦ Re˩ie˪e˥˦\\nScottClinton\\nAdsDawson\\nJasonRoss\\nHeatherLinn\\nAndySmith\\nArunJohn\\nAuroraStarita\\nBlancaRiveraCampos\\nBryanNakayama\\nDanGuido\\nDennysPereira\\nEmmanuelGuilherme\\nFabrizioCilli\\nGarvinLeClaire\\nHeatherLinn\\nHelenOakley\\nIshanAnand\\nJasonRoss\\nJoshuaBerkoh\\nKrishnaSankar\\nMarcelWinandy\\nMarkusHupfauer\\nMigelFernandes\\nMohitYadav\\nRachelJames\\nRammohanThirupasur\\nRicoKomenda\\nRammohanThirupasur\\nTaleshSeeparsan\\nTeruhiroTagomori\\nToddHathaway'),\n",
              " Document(metadata={'producer': 'macOS Version 10.15.7 (Build 19H1615) Quartz PDFContext', 'creator': 'PyPDF', 'creationdate': \"D:20241029231321Z00'00'\", 'title': 'OWASP LLM/GenAI Security Solutions Reference Guide v1.0', 'moddate': \"D:20241029231321Z00'00'\", 'source': 'pdfs\\\\OWASP_LLMGenAI_SecuritySolutions_ReferenceGuide.pdf', 'total_pages': 34, 'page': 30, 'page_label': '31'}, page_content='ToddHathaway\\nRonFƫDelRosario\\nVaibhavMalik\\nCˢˡ˧˥˜b˨˧ˢ˥˦\\nAndySmith\\nArunJohn\\nAuroraStarita\\nBryanNakayama\\nDennysPereira\\nEmmanuelGuilherme\\nFabrizioCilli\\nGarvinLeClaire\\nHelenOakley\\nIshanAnand\\nJasonRoss\\nMarcelWinandy\\nMarkusHupfauer\\nMigelFernandes\\nMohitYadav\\nRachelJames\\nRicoKomenda\\nTaleshSeeparsan\\nTeruhiroTagomori\\nToddHathaway\\nRonFƫDelRosario\\nVaibhavMalik\\nVersion1ƫ0 30of34'),\n",
              " Document(metadata={'producer': 'macOS Version 10.15.7 (Build 19H1615) Quartz PDFContext', 'creator': 'PyPDF', 'creationdate': \"D:20241029231321Z00'00'\", 'title': 'OWASP LLM/GenAI Security Solutions Reference Guide v1.0', 'moddate': \"D:20241029231321Z00'00'\", 'source': 'pdfs\\\\OWASP_LLMGenAI_SecuritySolutions_ReferenceGuide.pdf', 'total_pages': 34, 'page': 31, 'page_label': '32'}, page_content='| GenAIƬLLMSecOpsandSecķriĴřSolķĴionLandscape\\nOWASPTˢˣ10fˢ˥LLMP˥ˢjec˧Sˣˢˡ˦ˢ˥˦\\nWeappreciateourProjectSponsorsƬfundingcontributionstohelpsupporttheobjectives\\noftheprojectandhelptocoveroperationalandoutreachcostsaugmentingtheresourcesthe\\nOWASPƫorgfoundationprovidesƫTheOWASPTop10forLLMandGenerativeAIProjectcontinuesto\\nmaintainavendorneutralandunbiasedapproachƫSponsorsdonotreceivespecialgovernance\\nconsiderationsaspartoftheirsupportƫSponsorsdoreceiverecognitionfortheircontributionsin'),\n",
              " Document(metadata={'producer': 'macOS Version 10.15.7 (Build 19H1615) Quartz PDFContext', 'creator': 'PyPDF', 'creationdate': \"D:20241029231321Z00'00'\", 'title': 'OWASP LLM/GenAI Security Solutions Reference Guide v1.0', 'moddate': \"D:20241029231321Z00'00'\", 'source': 'pdfs\\\\OWASP_LLMGenAI_SecuritySolutions_ReferenceGuide.pdf', 'total_pages': 34, 'page': 31, 'page_label': '32'}, page_content='ourmaterialsandwebpropertiesƫ\\nAllmaterialstheprojectgeneratesarecommunitydevelopedƬdrivenandreleasedunder\\nopensourceandcreativecommonslicensesƫFormoreinformationonbecomingasponsorVisit\\ntheSponsorshipSectiononourWebsitetolearnmoreabouthelpingtosustaintheprojectthrough\\nsponsorshipƫ\\nSil˩erSpon˦or˦\\nSponsorlistƬasofpublicationdateƫFindthefullsponsorlisthereƫ\\nVersion1ƫ0 31of34'),\n",
              " Document(metadata={'producer': 'macOS Version 10.15.7 (Build 19H1615) Quartz PDFContext', 'creator': 'PyPDF', 'creationdate': \"D:20241029231321Z00'00'\", 'title': 'OWASP LLM/GenAI Security Solutions Reference Guide v1.0', 'moddate': \"D:20241029231321Z00'00'\", 'source': 'pdfs\\\\OWASP_LLMGenAI_SecuritySolutions_ReferenceGuide.pdf', 'total_pages': 34, 'page': 32, 'page_label': '33'}, page_content='| GenAIƬLLMSecOpsandSecķriĴřSolķĴionLandscape\\nRefe˥eˡce˦\\nƔ AndreesenƸHorowitzƫƺnƫdƫƻƫEmergingarchitecturesforLLMsƫA16Zƫ\\nhttps://a16z.com/emerging-architectures-for-llm-applications/\\nƔ DatabricksƫƺnƫdƫƻƫLLMarchitectureƫGoogleDriveƫ\\nhttps://drive.google.com/ﬁle/d/166D_Pyt3iDu18xGl3qAoMza0cq-Y52AX/view?usp=drive_link\\nƔ ProtectAIƫƺnƫdƫƻƫWhatisinAIZerodayƲProtectAIBlogƫ\\nhttps://protectai.com/blog/what-is-in-ai-zeroday\\nƔ InsightPartnersƫƺnƫdƫƻƫLLMOpsǽMLOpsƭWhatyouneedtoknowƫInsightPartnersƫ'),\n",
              " Document(metadata={'producer': 'macOS Version 10.15.7 (Build 19H1615) Quartz PDFContext', 'creator': 'PyPDF', 'creationdate': \"D:20241029231321Z00'00'\", 'title': 'OWASP LLM/GenAI Security Solutions Reference Guide v1.0', 'moddate': \"D:20241029231321Z00'00'\", 'source': 'pdfs\\\\OWASP_LLMGenAI_SecuritySolutions_ReferenceGuide.pdf', 'total_pages': 34, 'page': 32, 'page_label': '33'}, page_content='https://www.insightpartners.com/ideas/llmops-mlops-what-you-need-to-know/\\nƔ SoftwareEngineeringInstituteƫƺnƫdƫƻƫApplicationoflargelanguagemodelsƺLLMsƻinsoftware\\nengineeringƭOverblownhypeordisruptivechangeƲSEIInsightsƫ\\nhttps://insights.sei.cmu.edu/blog/application-of-large-language-models-llms-in-software-engineering-\\noverblown-hype-or-disruptive-change/\\nƔ Salesforceƫƺ2023ƬAugust3ƻƫSDLCforpromptsƭThenextevolutioninenterpriseAIdevelopmentƫ\\nSalesforceDevOpsƫ'),\n",
              " Document(metadata={'producer': 'macOS Version 10.15.7 (Build 19H1615) Quartz PDFContext', 'creator': 'PyPDF', 'creationdate': \"D:20241029231321Z00'00'\", 'title': 'OWASP LLM/GenAI Security Solutions Reference Guide v1.0', 'moddate': \"D:20241029231321Z00'00'\", 'source': 'pdfs\\\\OWASP_LLMGenAI_SecuritySolutions_ReferenceGuide.pdf', 'total_pages': 34, 'page': 32, 'page_label': '33'}, page_content='SalesforceDevOpsƫ\\nhttps://salesforcedevops.net/index.php/2023/08/03/sdlc-for-prompts-the-next-evolution-in-enterprise\\nai-development/\\nƔ ValohaiƫƺnƫdƫƻƫLLMOpsƭEverythingyouneedtoknowƫValohaiBlogƫ\\nhttps://valohai.com/blog/llmops/\\nƔ SmartBridgeƫƺnƫdƫƻƫAIdonerightƭStreamlinedevelopmentǽboostvaluewithLLMOpsƫSmart\\nBridgeƫhttps://smartbridge.com/ai-done-right-streamline-development-boost-value-llmops/\\nƔ NeptuneAIƫƺnƫdƫƻƫMLOpstoolsǽplatformslandscapeƫNeptuneAIBlogƫ'),\n",
              " Document(metadata={'producer': 'macOS Version 10.15.7 (Build 19H1615) Quartz PDFContext', 'creator': 'PyPDF', 'creationdate': \"D:20241029231321Z00'00'\", 'title': 'OWASP LLM/GenAI Security Solutions Reference Guide v1.0', 'moddate': \"D:20241029231321Z00'00'\", 'source': 'pdfs\\\\OWASP_LLMGenAI_SecuritySolutions_ReferenceGuide.pdf', 'total_pages': 34, 'page': 32, 'page_label': '33'}, page_content='https://neptune.ai/blog/mlops-tools-platforms-landscape\\nƔ IBMƫƺnƫdƫƻƫAlltheOpsƭDevOpsƬDataOpsƬMLOpsƬandAIOpsƫIBMDeveloperƫ\\nhttps://developer.ibm.com/articles/all-the-ops-devops-dataops-mlops-and-aiops/\\nƔ Arxivƫƺ2024ƻƫAcomprehensivestudyonlargelanguagemodelsandtheirsecurityrisksƫArxivƫ\\nhttps://arxiv.org/abs/2406.10300\\nƔ CloudSecurityAllianceƫƺnƫdƫƻƫCSAlargelanguagemodelƺLLMƻthreatstaxonomyƫCloudSecurity'),\n",
              " Document(metadata={'producer': 'macOS Version 10.15.7 (Build 19H1615) Quartz PDFContext', 'creator': 'PyPDF', 'creationdate': \"D:20241029231321Z00'00'\", 'title': 'OWASP LLM/GenAI Security Solutions Reference Guide v1.0', 'moddate': \"D:20241029231321Z00'00'\", 'source': 'pdfs\\\\OWASP_LLMGenAI_SecuritySolutions_ReferenceGuide.pdf', 'total_pages': 34, 'page': 32, 'page_label': '33'}, page_content='Allianceƫhttps://cloudsecurityalliance.org/artifacts/csa-large-language-model-llm-threats-taxonomy\\nƔ SapphireVenturesƫƺnƫdƫƻƫGenAIinfrastartupsƫLinkedInƫ\\nhttps://www.linkedin.com/posts/sapphirevc_genai-infra-startups-activity-7186724761400442883-Xt3D\\nƔ AIMultipleƫƺnƫdƫƻƫLLMsecuritytoolsƫAIMultipleƫ\\nhttps://research.aimultiple.com/llm-security-tools/\\nVersion1ƫ0 32of34'),\n",
              " Document(metadata={'producer': 'macOS Version 10.15.7 (Build 19H1615) Quartz PDFContext', 'creator': 'PyPDF', 'creationdate': \"D:20241029231321Z00'00'\", 'title': 'OWASP LLM/GenAI Security Solutions Reference Guide v1.0', 'moddate': \"D:20241029231321Z00'00'\", 'source': 'pdfs\\\\OWASP_LLMGenAI_SecuritySolutions_ReferenceGuide.pdf', 'total_pages': 34, 'page': 33, 'page_label': '34'}, page_content='| GenAIƬLLMSecOpsandSecķriĴřSolķĴionLandscape\\nP˥ˢjec˧S˨ˣˣˢ˥˧e˥˦\\nProjectsupporterslendtheirresourcesandexpertisetosupportthegoalsoftheprojectƫ\\nHADESS\\nKLAVAN\\nPrecize\\nAWS\\nSnyk\\nAstraSecurity\\nAWARE7GmbH\\niFood\\nKainos\\nAigos\\nCloudSecurityPodcast\\nTrellix\\nCoalﬁre\\nHackerOne\\nIBM\\nBearer\\nBit79\\nStackarmor\\nCohere\\nQuiq\\nLakera\\nCredalƫai\\nPalosade\\nPromptSecurity\\nNuBinary\\nBalbix\\nSAFESecurity\\nBeDisruptive\\nPreamble\\nNexus\\nPromptArmor\\nExabeam\\nModusCreate\\nIronCoreLabs\\nCloudsecƫai\\nLayerup\\nMendƫio\\nGiskard\\nBBVA\\nRHITE'),\n",
              " Document(metadata={'producer': 'macOS Version 10.15.7 (Build 19H1615) Quartz PDFContext', 'creator': 'PyPDF', 'creationdate': \"D:20241029231321Z00'00'\", 'title': 'OWASP LLM/GenAI Security Solutions Reference Guide v1.0', 'moddate': \"D:20241029231321Z00'00'\", 'source': 'pdfs\\\\OWASP_LLMGenAI_SecuritySolutions_ReferenceGuide.pdf', 'total_pages': 34, 'page': 33, 'page_label': '34'}, page_content='Giskard\\nBBVA\\nRHITE\\nPraetorian\\nCobalt\\nNightfallAI\\nVersion1ƫ0 33of34')]"
            ]
          },
          "execution_count": 6,
          "metadata": {},
          "output_type": "execute_result"
        }
      ],
      "source": [
        "text_chunks"
      ]
    },
    {
      "cell_type": "code",
      "execution_count": 7,
      "metadata": {
        "colab": {
          "base_uri": "https://localhost:8080/"
        },
        "id": "aXnTz5sa6L7d",
        "outputId": "bd9d375a-d450-4bf4-d469-1fa5ebe01122"
      },
      "outputs": [
        {
          "data": {
            "text/plain": [
              "132"
            ]
          },
          "execution_count": 7,
          "metadata": {},
          "output_type": "execute_result"
        }
      ],
      "source": [
        "len(text_chunks)"
      ]
    },
    {
      "cell_type": "code",
      "execution_count": 8,
      "metadata": {
        "colab": {
          "base_uri": "https://localhost:8080/"
        },
        "id": "AGgV2iQz6PI1",
        "outputId": "87202fa1-e717-4196-b511-e22252cec0a0"
      },
      "outputs": [
        {
          "data": {
            "text/plain": [
              "Document(metadata={'producer': 'macOS Version 10.15.7 (Build 19H1615) Quartz PDFContext', 'creator': 'PyPDF', 'creationdate': \"D:20241029231321Z00'00'\", 'title': 'OWASP LLM/GenAI Security Solutions Reference Guide v1.0', 'moddate': \"D:20241029231321Z00'00'\", 'source': 'pdfs\\\\OWASP_LLMGenAI_SecuritySolutions_ReferenceGuide.pdf', 'total_pages': 34, 'page': 1, 'page_label': '2'}, page_content='adviceƫAllinformationisforgeneralinformationalpurposesonlyƫThisdocumentcontainslinksto\\notherthirdǀpartywebsitesƫSuchlinksareonlyforconvenienceƬandOWASPdoesnotrecommend\\norendorsethecontentsofthethirdǀpartysitesƫ\\nLicen˦eandU˦age\\nTh˜˦dˢc˨ˠeˡ˧˜˦˟˜ceˡ˦ed˨ˡde˥C˥ea˧˜˩eCˢˠˠˢˡ˦,CCBY-SA4.0\\nYouarefreetoƭ\\nƔ Shareǃcopyandredistributethematerialinanymediumorformat\\nƔ AdaptǃremixƬtransformƬandbuilduponthematerialforanypurposeƬeven\\ncommerciallyƫ\\nƔ Underthefollowingtermsƭ')"
            ]
          },
          "execution_count": 8,
          "metadata": {},
          "output_type": "execute_result"
        }
      ],
      "source": [
        "text_chunks[1]"
      ]
    },
    {
      "cell_type": "code",
      "execution_count": 9,
      "metadata": {
        "colab": {
          "base_uri": "https://localhost:8080/"
        },
        "id": "CoxHsdvH6Ra9",
        "outputId": "e64fad1d-4958-4d62-da19-4da0b32d877f"
      },
      "outputs": [
        {
          "data": {
            "text/plain": [
              "Document(metadata={'producer': 'macOS Version 10.15.7 (Build 19H1615) Quartz PDFContext', 'creator': 'PyPDF', 'creationdate': \"D:20241029231321Z00'00'\", 'title': 'OWASP LLM/GenAI Security Solutions Reference Guide v1.0', 'moddate': \"D:20241029231321Z00'00'\", 'source': 'pdfs\\\\OWASP_LLMGenAI_SecuritySolutions_ReferenceGuide.pdf', 'total_pages': 34, 'page': 1, 'page_label': '2'}, page_content='ż AttributionǃYoumustgiveappropriatecreditƬprovidealinktothelicenseƬ\\nandindicateifchangesweremadeƫYoumaydosoinanyreasonablemanner\\nbutnotinanywaythatsuggeststhelicensorendorsesyouoryouruseƫ\\nż AttributionGuidelinesǀmustincludetheprojectnameaswellasthename\\noftheassetReferenced\\nŶ OWASPTop10forLLMsǀLLMSecOpsSolutionsLandscape\\nŶ OWASPTop10forLLMsǀCyberSecuritySolutionandLLMSecOps\\nLandscapeGuide\\nƔ ShareAlikeǃIfyouremixƬtransformƬorbuilduponthematerialƬyoumustdistribute')"
            ]
          },
          "execution_count": 9,
          "metadata": {},
          "output_type": "execute_result"
        }
      ],
      "source": [
        "text_chunks[2]"
      ]
    },
    {
      "cell_type": "code",
      "execution_count": 10,
      "metadata": {
        "colab": {
          "base_uri": "https://localhost:8080/"
        },
        "id": "KeyBH-Km6TM9",
        "outputId": "d0b634fb-dd2e-4a2f-f3c7-17aefb1f0472"
      },
      "outputs": [
        {
          "data": {
            "text/plain": [
              "Document(metadata={'producer': 'macOS Version 10.15.7 (Build 19H1615) Quartz PDFContext', 'creator': 'PyPDF', 'creationdate': \"D:20241029231321Z00'00'\", 'title': 'OWASP LLM/GenAI Security Solutions Reference Guide v1.0', 'moddate': \"D:20241029231321Z00'00'\", 'source': 'pdfs\\\\OWASP_LLMGenAI_SecuritySolutions_ReferenceGuide.pdf', 'total_pages': 34, 'page': 1, 'page_label': '2'}, page_content='yourcontributionsunderthesamelicenseastheoriginalƫ\\nLinkĴďfķlllicenĮeĴeŘĴƭhttpsƭƸƸcreativecommons.orgƸlicensesƸbyǀsaƸ4.0Ƹlegalcode\\nTheinformationprovidedinthisdocumentdoesnotƬandisnotintendedtoƬconstitutelegaladviceƫAllinformationisfor\\ngeneralinformationalpurposesonlyƫThisdocumentcontainslinkstootherthirdǀpartywebsitesƫSuchlinksareonlyfor\\nconvenienceandOWASPdoesnotrecommendorendorsethecontentsofthethirdǀpartysitesƫ\\nVersion1ƫ0 1of34')"
            ]
          },
          "execution_count": 10,
          "metadata": {},
          "output_type": "execute_result"
        }
      ],
      "source": [
        "text_chunks[3]"
      ]
    },
    {
      "cell_type": "markdown",
      "metadata": {
        "id": "UJzcQCM96ZS-"
      },
      "source": [
        "## Downlaod the Embeddings"
      ]
    },
    {
      "cell_type": "code",
      "execution_count": null,
      "metadata": {
        "id": "G0BmUL5c6XQ2"
      },
      "outputs": [],
      "source": [
        "import os\n",
        "\n",
        "os.environ['OPENAI_API_KEY'] = \"API_KEY HERE\""
      ]
    },
    {
      "cell_type": "code",
      "execution_count": null,
      "metadata": {
        "id": "4zPQYiNn6otd"
      },
      "outputs": [],
      "source": [
        "embeddings = OpenAIEmbeddings()"
      ]
    },
    {
      "cell_type": "code",
      "execution_count": null,
      "metadata": {
        "id": "Gl4ZrxZm6orf"
      },
      "outputs": [],
      "source": [
        "result = embeddings.embed_query(\"How are you!\")"
      ]
    },
    {
      "cell_type": "code",
      "execution_count": null,
      "metadata": {
        "colab": {
          "base_uri": "https://localhost:8080/"
        },
        "id": "O0_dlP6c6yDm",
        "outputId": "c09ebb03-2457-4a2e-fb6a-ed05e88ba2a9"
      },
      "outputs": [],
      "source": [
        "len(result)"
      ]
    },
    {
      "cell_type": "code",
      "execution_count": 11,
      "metadata": {},
      "outputs": [
        {
          "name": "stderr",
          "output_type": "stream",
          "text": [
            "C:\\Users\\lshre\\AppData\\Local\\Temp\\ipykernel_1772\\570552282.py:2: LangChainDeprecationWarning: The class `HuggingFaceEmbeddings` was deprecated in LangChain 0.2.2 and will be removed in 1.0. An updated version of the class exists in the :class:`~langchain-huggingface package and should be used instead. To use it run `pip install -U :class:`~langchain-huggingface` and import as `from :class:`~langchain_huggingface import HuggingFaceEmbeddings``.\n",
            "  embedding = HuggingFaceEmbeddings(model_name=\"intfloat/multilingual-e5-large\")\n"
          ]
        },
        {
          "name": "stdout",
          "output_type": "stream",
          "text": [
            "WARNING:tensorflow:From c:\\Users\\lshre\\Gen-AI\\venv\\Lib\\site-packages\\tf_keras\\src\\losses.py:2976: The name tf.losses.sparse_softmax_cross_entropy is deprecated. Please use tf.compat.v1.losses.sparse_softmax_cross_entropy instead.\n",
            "\n"
          ]
        }
      ],
      "source": [
        "from langchain.embeddings import HuggingFaceEmbeddings\n",
        "embedding = HuggingFaceEmbeddings(model_name=\"intfloat/multilingual-e5-large\")\n"
      ]
    },
    {
      "cell_type": "code",
      "execution_count": 12,
      "metadata": {},
      "outputs": [],
      "source": [
        "result = embedding.embed_query(\"How are you!\")"
      ]
    },
    {
      "cell_type": "code",
      "execution_count": 14,
      "metadata": {},
      "outputs": [
        {
          "data": {
            "text/plain": [
              "[0.03249841183423996,\n",
              " -0.0028303347062319517,\n",
              " -0.02268761396408081,\n",
              " -0.04591881111264229,\n",
              " 0.0375046543776989,\n",
              " -0.026747148483991623,\n",
              " 0.003607534570619464,\n",
              " 0.030987821519374847,\n",
              " 0.025472017005085945,\n",
              " -0.04854434356093407,\n",
              " 0.022451164200901985,\n",
              " 0.013826059177517891,\n",
              " -0.062417905777692795,\n",
              " -0.046441491693258286,\n",
              " -0.02380739338696003,\n",
              " -0.04958273842930794,\n",
              " -0.009265409782528877,\n",
              " 0.010306350886821747,\n",
              " 0.01101015880703926,\n",
              " -0.005084506701678038,\n",
              " 0.007220338564366102,\n",
              " 0.005014514084905386,\n",
              " -0.017288735136389732,\n",
              " -0.030236100777983665,\n",
              " -0.004849307704716921,\n",
              " -0.0006354793440550566,\n",
              " -0.06904599815607071,\n",
              " -0.015170414000749588,\n",
              " 0.0039957063272595406,\n",
              " -0.04811578989028931,\n",
              " -0.004840983543545008,\n",
              " 0.020140668377280235,\n",
              " -0.015129863284528255,\n",
              " -0.010669797658920288,\n",
              " -0.027719825506210327,\n",
              " 0.04947809875011444,\n",
              " 0.021604644134640694,\n",
              " 0.01565464586019516,\n",
              " -0.0247923843562603,\n",
              " 0.038189295679330826,\n",
              " -0.042693473398685455,\n",
              " 0.044052258133888245,\n",
              " -0.021930186077952385,\n",
              " -0.017203940078616142,\n",
              " -0.004022657405585051,\n",
              " 0.03100111149251461,\n",
              " 0.027619769796729088,\n",
              " -0.00825365912169218,\n",
              " 0.012337250635027885,\n",
              " 0.02855614759027958,\n",
              " 0.02856377139687538,\n",
              " 0.015083934180438519,\n",
              " -0.014963601715862751,\n",
              " -0.018185056746006012,\n",
              " -0.055810973048210144,\n",
              " 0.04144195094704628,\n",
              " -0.02164967730641365,\n",
              " -0.007862381637096405,\n",
              " -0.06716848909854889,\n",
              " 0.007532985415309668,\n",
              " 0.005406388081610203,\n",
              " -0.0023849259596318007,\n",
              " 0.016564400866627693,\n",
              " -0.025619080290198326,\n",
              " -0.06483674049377441,\n",
              " 0.06533145159482956,\n",
              " 0.021701175719499588,\n",
              " 0.012279138900339603,\n",
              " -0.05915440246462822,\n",
              " -0.003944146912544966,\n",
              " -0.01843457855284214,\n",
              " 0.028346192091703415,\n",
              " -0.009957295842468739,\n",
              " -0.016533078625798225,\n",
              " -0.003748324466869235,\n",
              " -0.016769981011748314,\n",
              " 0.04110261797904968,\n",
              " -0.013472644612193108,\n",
              " 0.024000847712159157,\n",
              " 0.0006014671525917947,\n",
              " 0.07880136370658875,\n",
              " -0.00010161336103919894,\n",
              " 0.021809309720993042,\n",
              " -0.015792854130268097,\n",
              " 0.059152763336896896,\n",
              " 0.03509553149342537,\n",
              " 0.06889194995164871,\n",
              " 0.03292619809508324,\n",
              " 0.02308858372271061,\n",
              " 0.0011171763762831688,\n",
              " -0.0037108694668859243,\n",
              " 0.020006924867630005,\n",
              " -0.0014557476388290524,\n",
              " -0.031950972974300385,\n",
              " -0.03503705933690071,\n",
              " -0.0030181065667420626,\n",
              " 0.014050839468836784,\n",
              " 0.041815776377916336,\n",
              " -0.002007504925131798,\n",
              " 0.0043213521130383015,\n",
              " -0.01066269725561142,\n",
              " 0.003954385872930288,\n",
              " 0.03524864837527275,\n",
              " -0.042552754282951355,\n",
              " -0.02124023251235485,\n",
              " 0.03820313140749931,\n",
              " 0.022914160043001175,\n",
              " 0.03013579733669758,\n",
              " 0.03006967157125473,\n",
              " 0.00877031683921814,\n",
              " 0.05407899245619774,\n",
              " 0.05595546215772629,\n",
              " 0.018531808629631996,\n",
              " -0.030861185863614082,\n",
              " -0.017911413684487343,\n",
              " 0.010651844553649426,\n",
              " -0.0010886630043387413,\n",
              " -0.013318073004484177,\n",
              " -0.03182823210954666,\n",
              " 0.035976339131593704,\n",
              " 0.029539896175265312,\n",
              " 0.07216327637434006,\n",
              " -0.016908984631299973,\n",
              " -0.01783999800682068,\n",
              " 0.035614944994449615,\n",
              " -0.02884254977107048,\n",
              " 0.019720595329999924,\n",
              " 0.04583986848592758,\n",
              " -0.017189322039484978,\n",
              " 0.020360561087727547,\n",
              " 0.007499763276427984,\n",
              " 0.02525484748184681,\n",
              " -0.041179295629262924,\n",
              " -0.011885897256433964,\n",
              " -0.028476595878601074,\n",
              " -0.042528439313173294,\n",
              " -0.021923843771219254,\n",
              " 0.024916429072618484,\n",
              " -0.028005752712488174,\n",
              " 0.004791935905814171,\n",
              " -0.017294758930802345,\n",
              " 0.04400676116347313,\n",
              " 0.030579790472984314,\n",
              " -0.021247319877147675,\n",
              " -0.013295679353177547,\n",
              " -0.05454965680837631,\n",
              " -0.0533941350877285,\n",
              " 0.04824749380350113,\n",
              " 0.012040567584335804,\n",
              " -0.014173125848174095,\n",
              " 0.00045697978930547833,\n",
              " -0.031145906075835228,\n",
              " -0.024059902876615524,\n",
              " 0.03205820918083191,\n",
              " 0.02788129262626171,\n",
              " -0.021486876532435417,\n",
              " 0.01812528260052204,\n",
              " 0.0322907529771328,\n",
              " 0.03333180770277977,\n",
              " -0.020197823643684387,\n",
              " -0.027604082599282265,\n",
              " -0.02247460000216961,\n",
              " -0.046303365379571915,\n",
              " -0.03024178184568882,\n",
              " 0.026960352435708046,\n",
              " -0.013002177700400352,\n",
              " 0.0289272703230381,\n",
              " 0.038508422672748566,\n",
              " 0.020841360092163086,\n",
              " -0.006888208445161581,\n",
              " -0.014944192953407764,\n",
              " -0.04147405922412872,\n",
              " 0.017104310914874077,\n",
              " -0.05496586114168167,\n",
              " -0.004059352912008762,\n",
              " 0.04400933161377907,\n",
              " 0.04496079310774803,\n",
              " 0.02469785511493683,\n",
              " 0.04315190389752388,\n",
              " -0.0007227926980704069,\n",
              " 0.0021443217992782593,\n",
              " 0.02342280186712742,\n",
              " 0.048297859728336334,\n",
              " -0.045852139592170715,\n",
              " 0.008316989988088608,\n",
              " 0.022113405168056488,\n",
              " 0.016219334676861763,\n",
              " 0.038342684507369995,\n",
              " 0.0371597595512867,\n",
              " 0.01992225833237171,\n",
              " 0.03560851141810417,\n",
              " -0.029962506145238876,\n",
              " -0.01663607358932495,\n",
              " 0.03961452469229698,\n",
              " -0.05079881101846695,\n",
              " 0.004650455433875322,\n",
              " 0.038534022867679596,\n",
              " 0.024104727432131767,\n",
              " -0.015773704275488853,\n",
              " -0.033034659922122955,\n",
              " 0.017820103093981743,\n",
              " 0.024404726922512054,\n",
              " -0.04900963976979256,\n",
              " 0.01956343464553356,\n",
              " 0.005708477925509214,\n",
              " -0.027922332286834717,\n",
              " -0.03794607147574425,\n",
              " -0.049145374447107315,\n",
              " 0.037140052765607834,\n",
              " -0.04213634505867958,\n",
              " -0.028890131041407585,\n",
              " -0.017642809078097343,\n",
              " 0.024611296132206917,\n",
              " -0.012292178347706795,\n",
              " -0.031876154243946075,\n",
              " -0.02528415434062481,\n",
              " -0.03483244404196739,\n",
              " -0.028001731261610985,\n",
              " 0.020387103781104088,\n",
              " 0.002062420826405287,\n",
              " -0.0021306786220520735,\n",
              " 0.04860590770840645,\n",
              " 0.017149580642580986,\n",
              " 0.005875486880540848,\n",
              " -0.004930872470140457,\n",
              " 0.02159879542887211,\n",
              " 0.037517279386520386,\n",
              " 0.0361018180847168,\n",
              " 0.05705821141600609,\n",
              " 0.03455347940325737,\n",
              " 0.04517456516623497,\n",
              " 0.023647213354706764,\n",
              " -0.045716047286987305,\n",
              " -0.01925593614578247,\n",
              " 0.009529264643788338,\n",
              " -0.023413045331835747,\n",
              " -0.02366936020553112,\n",
              " -0.008697379380464554,\n",
              " 0.023859882727265358,\n",
              " 0.04708907753229141,\n",
              " -0.0326080396771431,\n",
              " 0.02404903620481491,\n",
              " 0.0014043499249964952,\n",
              " -0.03128335624933243,\n",
              " 0.011432357132434845,\n",
              " -0.0021876634564250708,\n",
              " 0.06316030025482178,\n",
              " -0.028001844882965088,\n",
              " 0.017948593944311142,\n",
              " 0.0037791093345731497,\n",
              " 0.013540294952690601,\n",
              " 0.00820369552820921,\n",
              " -0.03384486213326454,\n",
              " -0.03871040418744087,\n",
              " 0.020824076607823372,\n",
              " 0.022353194653987885,\n",
              " 0.03133387118577957,\n",
              " -0.018795276060700417,\n",
              " -0.021941663697361946,\n",
              " -0.027285220101475716,\n",
              " 0.005005703307688236,\n",
              " 0.007012094836682081,\n",
              " 0.0021095499396324158,\n",
              " 0.04850903898477554,\n",
              " 0.018178271129727364,\n",
              " 0.007600235287100077,\n",
              " -0.03128061071038246,\n",
              " -0.04070961847901344,\n",
              " -0.02533559873700142,\n",
              " -0.035429757088422775,\n",
              " -0.048181772232055664,\n",
              " -0.032463736832141876,\n",
              " -0.08873477578163147,\n",
              " -0.022121133282780647,\n",
              " -0.05385860800743103,\n",
              " 0.017423946410417557,\n",
              " -0.030586333945393562,\n",
              " -0.02016853541135788,\n",
              " -0.0013549983268603683,\n",
              " 0.00804349035024643,\n",
              " 0.009622606448829174,\n",
              " -0.013737700879573822,\n",
              " 0.013773567043244839,\n",
              " -0.03332075849175453,\n",
              " -0.0013625988503918052,\n",
              " 0.008172749541699886,\n",
              " 0.019871482625603676,\n",
              " -0.01783847063779831,\n",
              " 0.03811376914381981,\n",
              " -0.002687464701011777,\n",
              " 0.004935204051434994,\n",
              " -0.00527700362727046,\n",
              " 0.05977993458509445,\n",
              " -0.002250218763947487,\n",
              " 0.02001865580677986,\n",
              " 0.060038015246391296,\n",
              " -0.028906475752592087,\n",
              " -0.0892324298620224,\n",
              " -0.040698956698179245,\n",
              " 0.030335266143083572,\n",
              " -0.023409439250826836,\n",
              " -0.0631241574883461,\n",
              " 0.039802663028240204,\n",
              " 0.044564537703990936,\n",
              " -0.052454832941293716,\n",
              " -0.038711436092853546,\n",
              " -0.03537776321172714,\n",
              " 0.03465664014220238,\n",
              " -0.05144502967596054,\n",
              " 0.015512252226471901,\n",
              " 0.048762548714876175,\n",
              " 0.043295327574014664,\n",
              " 0.008864814415574074,\n",
              " -0.0005632314132526517,\n",
              " -0.053106267005205154,\n",
              " 0.004266510251909494,\n",
              " -0.04111254960298538,\n",
              " 0.013467258773744106,\n",
              " -0.023586831986904144,\n",
              " 0.06501840800046921,\n",
              " -0.0451897494494915,\n",
              " -0.03536132350564003,\n",
              " -2.468962065904634e-06,\n",
              " 0.019315393641591072,\n",
              " 0.010326911695301533,\n",
              " 0.026106419041752815,\n",
              " 0.024709586054086685,\n",
              " -0.02252848632633686,\n",
              " -0.02304169163107872,\n",
              " -0.04830055311322212,\n",
              " 0.013737116940319538,\n",
              " -0.006598487962037325,\n",
              " -0.0025126140099018812,\n",
              " 0.027482008561491966,\n",
              " -0.02203185483813286,\n",
              " -0.010008168406784534,\n",
              " -0.022591082379221916,\n",
              " 0.02063778042793274,\n",
              " 0.015120402909815311,\n",
              " -0.01703980192542076,\n",
              " 0.028569109737873077,\n",
              " -0.02117590792477131,\n",
              " -0.049713850021362305,\n",
              " -0.02778785489499569,\n",
              " 0.0038280223961919546,\n",
              " -0.02345629408955574,\n",
              " 0.011348162777721882,\n",
              " -0.014591818675398827,\n",
              " 0.03675718232989311,\n",
              " 0.008956111036241055,\n",
              " 0.011339222081005573,\n",
              " -0.0546710267663002,\n",
              " 0.026098720729351044,\n",
              " -0.011217259801924229,\n",
              " -0.03096981719136238,\n",
              " 0.055639948695898056,\n",
              " 0.013456104323267937,\n",
              " -0.023158667609095573,\n",
              " 0.0074288807809352875,\n",
              " -0.021812982857227325,\n",
              " 0.011033616028726101,\n",
              " 0.016861259937286377,\n",
              " 0.049704376608133316,\n",
              " -0.03249221295118332,\n",
              " -0.025202780961990356,\n",
              " -0.042016830295324326,\n",
              " 0.010425599291920662,\n",
              " -0.009520957246422768,\n",
              " -0.04653294011950493,\n",
              " -0.040714092552661896,\n",
              " 0.01545822061598301,\n",
              " -0.009868690744042397,\n",
              " -0.015620122663676739,\n",
              " 0.0018348420271649957,\n",
              " -0.0030233068391680717,\n",
              " -0.014453853480517864,\n",
              " -0.07732923328876495,\n",
              " -0.022016463801264763,\n",
              " 0.02832094579935074,\n",
              " -0.05159998685121536,\n",
              " -0.023429768159985542,\n",
              " -0.03429349139332771,\n",
              " 0.013176867738366127,\n",
              " 0.003774170530959964,\n",
              " -0.0040420228615403175,\n",
              " -0.03136308863759041,\n",
              " 0.16790039837360382,\n",
              " 0.000835397164337337,\n",
              " 0.01566072180867195,\n",
              " -0.05557111278176308,\n",
              " 1.227012944582384e-06,\n",
              " 0.022844797000288963,\n",
              " 0.009034707210958004,\n",
              " 0.03222257271409035,\n",
              " 0.045879464596509933,\n",
              " 0.050331342965364456,\n",
              " -0.045583248138427734,\n",
              " -0.000293700402835384,\n",
              " 0.012162352912127972,\n",
              " -0.039188630878925323,\n",
              " 0.025483209639787674,\n",
              " 0.07036668807268143,\n",
              " 0.004896622151136398,\n",
              " 0.03636399656534195,\n",
              " 0.010495197959244251,\n",
              " -0.028933029621839523,\n",
              " 0.00818132795393467,\n",
              " -0.028797771781682968,\n",
              " 0.04095809906721115,\n",
              " -0.010198444128036499,\n",
              " -0.05493885651230812,\n",
              " -0.061113715171813965,\n",
              " 0.0034147282131016254,\n",
              " 0.016397416591644287,\n",
              " -0.04148963838815689,\n",
              " 0.0012400797568261623,\n",
              " -0.016743695363402367,\n",
              " 0.032455410808324814,\n",
              " -0.023639097809791565,\n",
              " -0.008839997462928295,\n",
              " 0.027955926954746246,\n",
              " 0.030736632645130157,\n",
              " 0.028816986829042435,\n",
              " -0.032345470041036606,\n",
              " 0.019362499937415123,\n",
              " 0.01773565076291561,\n",
              " -0.034113649278879166,\n",
              " 0.01096380315721035,\n",
              " -0.01807992160320282,\n",
              " 0.0429958738386631,\n",
              " -0.0006901166634634137,\n",
              " 0.029202891513705254,\n",
              " 0.05612882971763611,\n",
              " 0.020038127899169922,\n",
              " -0.019557081162929535,\n",
              " 0.006551689933985472,\n",
              " -0.007748373318463564,\n",
              " 0.00865886453539133,\n",
              " -0.006590365897864103,\n",
              " -0.03739107772707939,\n",
              " -0.02320730872452259,\n",
              " -0.026631485670804977,\n",
              " -0.0182447861880064,\n",
              " -0.04719683900475502,\n",
              " 0.012094240635633469,\n",
              " 0.032162297517061234,\n",
              " 0.03649640455842018,\n",
              " 0.03936941549181938,\n",
              " -0.0025239360984414816,\n",
              " -0.04070272669196129,\n",
              " 0.05494918301701546,\n",
              " 0.03476444631814957,\n",
              " -0.007225255016237497,\n",
              " -0.03372727707028389,\n",
              " -0.037904828786849976,\n",
              " -0.017192086204886436,\n",
              " -0.03047030046582222,\n",
              " -0.00574737461283803,\n",
              " -0.022842934355139732,\n",
              " 0.03550829738378525,\n",
              " 0.02425268292427063,\n",
              " -0.023744583129882812,\n",
              " -0.0459517240524292,\n",
              " 0.02242165245115757,\n",
              " 0.04306744784116745,\n",
              " -0.009787953458726406,\n",
              " 0.029826147481799126,\n",
              " -0.031010974198579788,\n",
              " -0.026536423712968826,\n",
              " 0.046167585998773575,\n",
              " 0.03811013698577881,\n",
              " -0.011391722597181797,\n",
              " 0.020989276468753815,\n",
              " 0.0435384176671505,\n",
              " -0.010889158584177494,\n",
              " -0.012890743091702461,\n",
              " 0.04617967829108238,\n",
              " 0.014123884029686451,\n",
              " -0.04298184812068939,\n",
              " 0.01806439831852913,\n",
              " 0.022736214101314545,\n",
              " -0.07942293584346771,\n",
              " 0.009432826191186905,\n",
              " -0.004362395964562893,\n",
              " -0.021680934354662895,\n",
              " -0.04071579873561859,\n",
              " -0.024645313620567322,\n",
              " 0.03507981821894646,\n",
              " -0.01807183213531971,\n",
              " -0.009136646054685116,\n",
              " -0.02249346487224102,\n",
              " -7.144279516069219e-05,\n",
              " 0.01399810891598463,\n",
              " 0.0415806919336319,\n",
              " 0.041395481675863266,\n",
              " -0.005765437614172697,\n",
              " 0.028328903019428253,\n",
              " -0.024556174874305725,\n",
              " 0.030085032805800438,\n",
              " -0.007354159373790026,\n",
              " 0.024244321510195732,\n",
              " 0.010872344486415386,\n",
              " 0.03354170173406601,\n",
              " -0.05276676267385483,\n",
              " 0.03469778969883919,\n",
              " -0.006806170102208853,\n",
              " -0.03910041227936745,\n",
              " 0.05260840058326721,\n",
              " -0.03413005545735359,\n",
              " 0.05291157588362694,\n",
              " 0.002004738664254546,\n",
              " 0.031776588410139084,\n",
              " -0.036502689123153687,\n",
              " -0.017633983865380287,\n",
              " 0.022770319133996964,\n",
              " 0.005695473402738571,\n",
              " 0.033103588968515396,\n",
              " -0.030954180285334587,\n",
              " -0.07127279043197632,\n",
              " 0.015154692344367504,\n",
              " 0.034678030759096146,\n",
              " -0.0037156660109758377,\n",
              " 0.0599934421479702,\n",
              " -0.02711573988199234,\n",
              " -0.023592114448547363,\n",
              " 0.049161575734615326,\n",
              " -0.018761469051241875,\n",
              " 0.031400807201862335,\n",
              " -0.05939570441842079,\n",
              " 0.023431703448295593,\n",
              " 0.018409816548228264,\n",
              " 0.034571144729852676,\n",
              " -0.006814584601670504,\n",
              " -0.030187945812940598,\n",
              " -0.054954417049884796,\n",
              " -0.04334194213151932,\n",
              " 0.04453906789422035,\n",
              " -0.01607263833284378,\n",
              " 0.040139276534318924,\n",
              " -0.0045653944835066795,\n",
              " -0.017880911007523537,\n",
              " -0.030792992562055588,\n",
              " -0.007464768830686808,\n",
              " 0.019583459943532944,\n",
              " 0.02776629850268364,\n",
              " -0.043803729116916656,\n",
              " -0.03365989774465561,\n",
              " -0.0022550090216100216,\n",
              " 0.009192004799842834,\n",
              " 0.09695874154567719,\n",
              " 0.013216649182140827,\n",
              " 0.04025324434041977,\n",
              " -0.019264845177531242,\n",
              " 0.04328225925564766,\n",
              " 0.023437151685357094,\n",
              " 0.042927246540784836,\n",
              " -0.004400042351335287,\n",
              " -0.032493457198143005,\n",
              " 0.02696666121482849,\n",
              " 0.001430679578334093,\n",
              " 0.012870493344962597,\n",
              " -0.018756266683340073,\n",
              " -0.0030993546824902296,\n",
              " 0.03304179757833481,\n",
              " -0.03248012810945511,\n",
              " 0.004147754516452551,\n",
              " -0.015680160373449326,\n",
              " 0.03643433377146721,\n",
              " 0.026394281536340714,\n",
              " -0.026723533868789673,\n",
              " -0.05719703063368797,\n",
              " -0.011222343891859055,\n",
              " 0.03848201036453247,\n",
              " -0.03521062806248665,\n",
              " -0.04046500474214554,\n",
              " 0.01837391033768654,\n",
              " -0.029765155166387558,\n",
              " 0.0788869559764862,\n",
              " -0.006730182096362114,\n",
              " 0.027811307460069656,\n",
              " -0.016740918159484863,\n",
              " 0.004724195692688227,\n",
              " 0.025559574365615845,\n",
              " 0.02253207191824913,\n",
              " -0.0440499410033226,\n",
              " -0.03532129153609276,\n",
              " -0.011814983561635017,\n",
              " -0.03541772812604904,\n",
              " -0.023992696776986122,\n",
              " -0.0020477299112826586,\n",
              " -0.016874421387910843,\n",
              " -0.040282417088747025,\n",
              " 0.008423402905464172,\n",
              " 0.032436951994895935,\n",
              " 0.02810504101216793,\n",
              " 0.0029016821645200253,\n",
              " 0.010212558321654797,\n",
              " -0.019678408280014992,\n",
              " 0.007957033812999725,\n",
              " 0.017778106033802032,\n",
              " 0.01268523745238781,\n",
              " 0.02866247482597828,\n",
              " 0.022992268204689026,\n",
              " 0.03668757900595665,\n",
              " 0.025791268795728683,\n",
              " -0.0333375409245491,\n",
              " 0.02503846026957035,\n",
              " 0.021473737433552742,\n",
              " -0.0008919748943299055,\n",
              " -0.03873441368341446,\n",
              " -0.042694155126810074,\n",
              " -0.03859763965010643,\n",
              " 0.027728702872991562,\n",
              " 0.006043268367648125,\n",
              " -0.02812974713742733,\n",
              " -0.020403165370225906,\n",
              " -0.003919654991477728,\n",
              " -0.017948701977729797,\n",
              " -0.001514915144070983,\n",
              " -0.05794079601764679,\n",
              " -0.027976585552096367,\n",
              " -0.009251389652490616,\n",
              " 0.01733742654323578,\n",
              " 0.001645093085244298,\n",
              " -0.024214645847678185,\n",
              " -0.04729654639959335,\n",
              " 0.009680517949163914,\n",
              " -0.03253620117902756,\n",
              " 0.0364975705742836,\n",
              " -0.010057319886982441,\n",
              " -0.030668679624795914,\n",
              " 0.03747931122779846,\n",
              " -0.07310650497674942,\n",
              " -0.029925210401415825,\n",
              " 0.024653537198901176,\n",
              " -0.006290112622082233,\n",
              " -0.005137444939464331,\n",
              " -0.02681412361562252,\n",
              " 0.04126053676009178,\n",
              " 0.05584823712706566,\n",
              " -0.01770882122218609,\n",
              " -0.004661191254854202,\n",
              " 0.0012840708950534463,\n",
              " -0.01205090619623661,\n",
              " -0.03704244643449783,\n",
              " -0.04260389506816864,\n",
              " 0.03488060459494591,\n",
              " 0.020448582246899605,\n",
              " -0.038298413157463074,\n",
              " 0.02298530377447605,\n",
              " -0.05260726064443588,\n",
              " 0.0046774158254265785,\n",
              " 0.041492708027362823,\n",
              " -0.024123283103108406,\n",
              " -0.019303154200315475,\n",
              " -0.045611344277858734,\n",
              " 0.05473504215478897,\n",
              " -0.027061432600021362,\n",
              " -0.025597838684916496,\n",
              " -0.04987345635890961,\n",
              " 0.03685711324214935,\n",
              " 0.0023898580111563206,\n",
              " -0.009337563067674637,\n",
              " -0.011877348646521568,\n",
              " -0.01561574637889862,\n",
              " -0.02806355431675911,\n",
              " -0.03999893367290497,\n",
              " 0.016272351145744324,\n",
              " -0.03207043185830116,\n",
              " 0.006690290290862322,\n",
              " 0.022309741005301476,\n",
              " 0.043438881635665894,\n",
              " -0.0681258887052536,\n",
              " 0.05335582420229912,\n",
              " 0.02325379103422165,\n",
              " -0.024922428652644157,\n",
              " -0.028019288554787636,\n",
              " 0.03253941610455513,\n",
              " -0.005099958274513483,\n",
              " -0.019177217036485672,\n",
              " -0.02302829548716545,\n",
              " -0.06458726525306702,\n",
              " -0.01671871356666088,\n",
              " -0.0030629117973148823,\n",
              " -0.003604555269703269,\n",
              " -0.06534033268690109,\n",
              " 0.012897120788693428,\n",
              " -0.021507393568754196,\n",
              " -0.03569530323147774,\n",
              " -0.019393865019083023,\n",
              " -0.019633308053016663,\n",
              " 0.005101769231259823,\n",
              " -0.01041452120989561,\n",
              " 0.01862945966422558,\n",
              " 0.019572788849473,\n",
              " 0.023524830117821693,\n",
              " -0.005945893935859203,\n",
              " -0.06541769951581955,\n",
              " 0.02714671939611435,\n",
              " 0.035669684410095215,\n",
              " 0.02252272516489029,\n",
              " -0.010393453761935234,\n",
              " 0.021219834685325623,\n",
              " -0.02845197170972824,\n",
              " -0.022023212164640427,\n",
              " 0.04743639752268791,\n",
              " -0.04770911857485771,\n",
              " -0.023248732089996338,\n",
              " -0.04039651155471802,\n",
              " -0.013253789395093918,\n",
              " 0.02818859927356243,\n",
              " 0.00806214939802885,\n",
              " 0.04534425958991051,\n",
              " -0.010017812252044678,\n",
              " 0.0025847030337899923,\n",
              " -0.025116868317127228,\n",
              " 0.002337742131203413,\n",
              " 0.01668631099164486,\n",
              " -0.01965607888996601,\n",
              " -0.01819971762597561,\n",
              " -0.049324288964271545,\n",
              " -0.057924725115299225,\n",
              " -0.002767394995316863,\n",
              " 0.0071442765183746815,\n",
              " -0.02342544123530388,\n",
              " -0.04272245615720749,\n",
              " -0.0236480925232172,\n",
              " 0.03533558547496796,\n",
              " 0.042237792164087296,\n",
              " -0.02683103084564209,\n",
              " 0.025021005421876907,\n",
              " 0.013366409577429295,\n",
              " -0.009416170418262482,\n",
              " 0.005544433835893869,\n",
              " 0.005068499129265547,\n",
              " 0.01549853477627039,\n",
              " -0.03920701518654823,\n",
              " 0.041865453124046326,\n",
              " -0.01976688951253891,\n",
              " 0.010029436089098454,\n",
              " -0.0025226615834981203,\n",
              " 0.0788147822022438,\n",
              " -0.02767975628376007,\n",
              " 0.017383430153131485,\n",
              " 0.03474697470664978,\n",
              " -0.04941220209002495,\n",
              " -0.017998650670051575,\n",
              " 0.005388185847550631,\n",
              " 0.02680271491408348,\n",
              " -0.05877838283777237,\n",
              " -0.0432143360376358,\n",
              " 0.038297295570373535,\n",
              " -0.0474124476313591,\n",
              " 0.02783258818089962,\n",
              " -0.026140127331018448,\n",
              " 0.0073113697580993176,\n",
              " 0.008921279571950436,\n",
              " 0.04686390981078148,\n",
              " -0.057996466755867004,\n",
              " -0.030072981491684914,\n",
              " -0.02921411208808422,\n",
              " 0.032199617475271225,\n",
              " -0.02130565047264099,\n",
              " 0.026410099118947983,\n",
              " 0.018665678799152374,\n",
              " 0.007369963452219963,\n",
              " 0.021994465962052345,\n",
              " -0.03502107411623001,\n",
              " -0.012956683523952961,\n",
              " -0.013592919334769249,\n",
              " 0.038466472178697586,\n",
              " -0.04297621175646782,\n",
              " -0.018360577523708344,\n",
              " 0.03562884405255318,\n",
              " 0.009610885754227638,\n",
              " 0.0164793711155653,\n",
              " -0.017532411962747574,\n",
              " 0.0210132896900177,\n",
              " -0.03363513946533203,\n",
              " 0.014186469838023186,\n",
              " -0.08123307675123215,\n",
              " -0.025110840797424316,\n",
              " 0.014177787117660046,\n",
              " -0.023701351135969162,\n",
              " -0.009719880297780037,\n",
              " -0.008913776837289333,\n",
              " -0.06450127065181732,\n",
              " -0.0019394170958548784,\n",
              " 0.02722419984638691,\n",
              " -0.018715744838118553,\n",
              " 0.029394401237368584,\n",
              " 0.030441874638199806,\n",
              " 0.027751032263040543,\n",
              " -0.001437159487977624,\n",
              " -0.01624152995646,\n",
              " 0.01950172148644924,\n",
              " 0.03218870982527733,\n",
              " -0.030421586707234383,\n",
              " 0.011153344064950943,\n",
              " 0.02266436070203781,\n",
              " 0.06756170839071274,\n",
              " -0.029165690764784813,\n",
              " -0.007717428263276815,\n",
              " 0.02637842670083046,\n",
              " 0.05778544768691063,\n",
              " 0.009824690409004688,\n",
              " 0.019299764186143875,\n",
              " 0.0422896184027195,\n",
              " -0.03881748393177986,\n",
              " -0.05230827257037163,\n",
              " -0.014732233248651028,\n",
              " -0.03690214082598686,\n",
              " -0.0037098226603120565,\n",
              " 0.027956848964095116,\n",
              " -0.029589029029011726,\n",
              " 0.027563994750380516,\n",
              " -0.033390484750270844,\n",
              " -0.0034431656822562218,\n",
              " -0.04669065773487091,\n",
              " 0.01699509099125862,\n",
              " -0.01955036260187626,\n",
              " 0.007028612773865461,\n",
              " -0.045852597802877426,\n",
              " -0.0001853646244853735,\n",
              " 0.00857654307037592,\n",
              " 0.012950140051543713,\n",
              " -0.016123278066515923,\n",
              " -0.02387554943561554,\n",
              " 0.014443500898778439,\n",
              " -0.004127685446292162,\n",
              " -0.055120110511779785,\n",
              " -0.02039700746536255,\n",
              " 0.06004737690091133,\n",
              " 0.038171034306287766,\n",
              " 0.020038677379488945,\n",
              " 0.01749076507985592,\n",
              " 0.021989615634083748,\n",
              " -0.019504494965076447,\n",
              " 0.02695498615503311,\n",
              " 0.04801447317004204,\n",
              " 0.019342731684446335,\n",
              " -0.047151774168014526,\n",
              " -0.027941837906837463,\n",
              " -0.024288445711135864,\n",
              " -0.034617699682712555,\n",
              " -0.0107515137642622,\n",
              " -0.05047571659088135,\n",
              " -0.018994899466633797,\n",
              " -0.01820453442633152,\n",
              " 0.050739943981170654,\n",
              " 0.010697976686060429,\n",
              " -0.03659487143158913,\n",
              " 0.034180525690317154,\n",
              " 0.020864911377429962,\n",
              " 0.024189533665776253,\n",
              " -0.024804603308439255,\n",
              " -0.017390333116054535,\n",
              " -0.0227971151471138,\n",
              " 0.019957726821303368,\n",
              " -0.013260445557534695,\n",
              " -0.02624693140387535,\n",
              " -0.011259355582296848,\n",
              " 0.0028184037655591965,\n",
              " 0.04207579419016838,\n",
              " -0.012989367358386517,\n",
              " 0.007653133478015661,\n",
              " 0.017469489946961403,\n",
              " -0.020981617271900177,\n",
              " -0.05484998598694801,\n",
              " 0.027185315266251564,\n",
              " -0.06695792824029922,\n",
              " 0.013119152747094631,\n",
              " 0.013343880884349346,\n",
              " -0.04241117462515831,\n",
              " -0.02167878858745098,\n",
              " -0.02189807966351509,\n",
              " -0.021486207842826843,\n",
              " -0.005663728807121515,\n",
              " -0.009473499841988087,\n",
              " 0.05306335166096687,\n",
              " -0.014857146888971329,\n",
              " -0.023259053006768227,\n",
              " 0.010873937048017979,\n",
              " 0.016948390752077103,\n",
              " 0.005433686543256044,\n",
              " 0.018834078684449196,\n",
              " 0.029637502506375313,\n",
              " 0.007768191397190094,\n",
              " 0.022521939128637314,\n",
              " -0.04165470972657204,\n",
              " -0.050831444561481476,\n",
              " -0.025269312784075737,\n",
              " -0.02697434090077877,\n",
              " 0.0017614683602005243,\n",
              " -0.030361665412783623,\n",
              " 0.012413709424436092,\n",
              " -0.010451345704495907,\n",
              " 0.01894889771938324,\n",
              " 0.0028739916160702705,\n",
              " 0.012416139245033264,\n",
              " -0.02574428729712963,\n",
              " -0.0500265471637249,\n",
              " 0.050997596234083176,\n",
              " -0.005369734484702349,\n",
              " 0.011157629080116749,\n",
              " 0.011834066361188889,\n",
              " 0.029658785089850426,\n",
              " -0.0647437646985054,\n",
              " 0.01926393061876297,\n",
              " -0.02532547526061535,\n",
              " 0.01631769724190235,\n",
              " -0.06414256244897842,\n",
              " 0.06164607033133507,\n",
              " 0.009901124984025955,\n",
              " -0.013211654499173164,\n",
              " -0.033200811594724655,\n",
              " -0.02449502795934677,\n",
              " 0.036707162857055664,\n",
              " -0.021856794133782387,\n",
              " 0.04182653874158859,\n",
              " -0.024476930499076843,\n",
              " -0.06034686043858528,\n",
              " -0.019326254725456238,\n",
              " -0.00208961870521307,\n",
              " -0.02778615616261959,\n",
              " 0.054045721888542175,\n",
              " -0.009672021493315697,\n",
              " -0.03613235801458359,\n",
              " -0.007564236409962177,\n",
              " -0.03551565110683441,\n",
              " 0.02206367813050747,\n",
              " -0.0020619635470211506,\n",
              " -0.02800793945789337,\n",
              " 0.03672359511256218,\n",
              " 0.002779618138447404,\n",
              " 0.02106865867972374,\n",
              " 0.02197849564254284,\n",
              " -0.006819566711783409,\n",
              " 0.0258752703666687,\n",
              " 0.010642288252711296,\n",
              " -0.01589950919151306,\n",
              " 0.035093583166599274,\n",
              " -0.04482543468475342,\n",
              " 0.031163984909653664,\n",
              " -0.021464698016643524,\n",
              " -0.022073980420827866,\n",
              " 0.027821702882647514,\n",
              " 0.00461423909291625,\n",
              " -0.0270870141685009,\n",
              " -0.03091445192694664,\n",
              " 0.02278945781290531,\n",
              " 0.012110741809010506,\n",
              " -0.05502013862133026,\n",
              " 0.034510109573602676,\n",
              " 0.02810617722570896,\n",
              " 0.027283089235424995,\n",
              " 0.03449451923370361,\n",
              " 0.026163633912801743,\n",
              " 0.026240043342113495,\n",
              " 0.048676908016204834,\n",
              " 0.015028150752186775,\n",
              " 0.015556838363409042,\n",
              " -0.00857400894165039,\n",
              " 0.03494802489876747,\n",
              " 0.026324687525629997,\n",
              " 0.0372261181473732,\n",
              " 0.007540971972048283,\n",
              " 0.01293816976249218,\n",
              " -0.028395356610417366,\n",
              " 0.04267919436097145,\n",
              " -0.01205208245664835,\n",
              " 0.026805583387613297,\n",
              " -0.04353467375040054,\n",
              " 0.027906054630875587,\n",
              " 0.061456888914108276,\n",
              " -0.02433481253683567,\n",
              " -0.005916019901633263,\n",
              " 0.007714692037552595,\n",
              " -0.0170847550034523,\n",
              " -0.03262137621641159,\n",
              " -0.00383770396001637,\n",
              " -0.022815760225057602,\n",
              " 0.039644062519073486,\n",
              " -0.009070761501789093,\n",
              " -0.013005920685827732,\n",
              " -0.0048105898313224316,\n",
              " -0.04325665906071663,\n",
              " 0.005176449194550514,\n",
              " -0.013386948965489864,\n",
              " 0.027305418625473976,\n",
              " 0.05070394277572632,\n",
              " -0.03163684159517288,\n",
              " 0.03950778767466545,\n",
              " 0.042717114090919495,\n",
              " 0.04959060996770859,\n",
              " 0.054053790867328644,\n",
              " 0.040239110589027405,\n",
              " -0.05081850290298462,\n",
              " 0.002732165390625596,\n",
              " 0.021943049505352974,\n",
              " ...]"
            ]
          },
          "execution_count": 14,
          "metadata": {},
          "output_type": "execute_result"
        }
      ],
      "source": [
        "len(result)\n",
        "result"
      ]
    },
    {
      "cell_type": "markdown",
      "metadata": {
        "id": "nSuEdaLP7dvV"
      },
      "source": [
        "## Initializing the Pinecone"
      ]
    },
    {
      "cell_type": "code",
      "execution_count": null,
      "metadata": {
        "id": "OoCbquCg65Q1"
      },
      "outputs": [
        {
          "ename": "NameError",
          "evalue": "name 'os' is not defined",
          "output_type": "error",
          "traceback": [
            "\u001b[1;31m---------------------------------------------------------------------------\u001b[0m",
            "\u001b[1;31mNameError\u001b[0m                                 Traceback (most recent call last)",
            "Cell \u001b[1;32mIn[3], line 1\u001b[0m\n\u001b[1;32m----> 1\u001b[0m PINECONE_API_KEY \u001b[38;5;241m=\u001b[39m \u001b[43mos\u001b[49m\u001b[38;5;241m.\u001b[39menviron\u001b[38;5;241m.\u001b[39mget(\u001b[38;5;124m'\u001b[39m\u001b[38;5;124mPINECONE_API_KEY\u001b[39m\u001b[38;5;124m'\u001b[39m, \u001b[38;5;124m'\u001b[39m\u001b[38;5;124mpcsk_5Lnszk_UVA7VNMn28vLQB59rAzQ2GRGgFUNwqKXhX4w1oz3P7oSeLzrUv2hRCSj9A3qM3Z\u001b[39m\u001b[38;5;124m'\u001b[39m)\n\u001b[0;32m      2\u001b[0m PINECONE_API_ENV \u001b[38;5;241m=\u001b[39m os\u001b[38;5;241m.\u001b[39menviron\u001b[38;5;241m.\u001b[39mget(\u001b[38;5;124m'\u001b[39m\u001b[38;5;124mPINECONE_API_ENV\u001b[39m\u001b[38;5;124m'\u001b[39m, \u001b[38;5;124m'\u001b[39m\u001b[38;5;124mgcp-starter\u001b[39m\u001b[38;5;124m'\u001b[39m)\n",
            "\u001b[1;31mNameError\u001b[0m: name 'os' is not defined"
          ]
        }
      ],
      "source": [
        "PINECONE_API_KEY = os.environ.get('PINECONE_API_KEY', 'API_KEY HERE')\n",
        "PINECONE_API_ENV = os.environ.get('PINECONE_API_ENV', 'gcp-starter')"
      ]
    },
    {
      "cell_type": "code",
      "execution_count": 2,
      "metadata": {
        "colab": {
          "base_uri": "https://localhost:8080/"
        },
        "id": "ZxX3o89_8F-W",
        "outputId": "499c6ce5-90ab-44d3-a5c7-01e2340335d0"
      },
      "outputs": [
        {
          "name": "stderr",
          "output_type": "stream",
          "text": [
            "c:\\Users\\lshre\\Gen-AI\\venv\\Lib\\site-packages\\pinecone\\data\\index.py:1: TqdmWarning: IProgress not found. Please update jupyter and ipywidgets. See https://ipywidgets.readthedocs.io/en/stable/user_install.html\n",
            "  from tqdm.autonotebook import tqdm\n"
          ]
        },
        {
          "ename": "NameError",
          "evalue": "name 'PINECONE_API_KEY' is not defined",
          "output_type": "error",
          "traceback": [
            "\u001b[1;31m---------------------------------------------------------------------------\u001b[0m",
            "\u001b[1;31mNameError\u001b[0m                                 Traceback (most recent call last)",
            "Cell \u001b[1;32mIn[2], line 2\u001b[0m\n\u001b[0;32m      1\u001b[0m \u001b[38;5;28;01mfrom\u001b[39;00m\u001b[38;5;250m \u001b[39m\u001b[38;5;21;01mpinecone\u001b[39;00m\u001b[38;5;250m \u001b[39m\u001b[38;5;28;01mimport\u001b[39;00m Pinecone, ServerlessSpec\n\u001b[1;32m----> 2\u001b[0m pc \u001b[38;5;241m=\u001b[39m Pinecone(api_key\u001b[38;5;241m=\u001b[39m\u001b[43mPINECONE_API_KEY\u001b[49m)\n\u001b[0;32m      4\u001b[0m index_name \u001b[38;5;241m=\u001b[39m \u001b[38;5;124m\"\u001b[39m\u001b[38;5;124mtest\u001b[39m\u001b[38;5;124m\"\u001b[39m  \u001b[38;5;66;03m# change if desired\u001b[39;00m\n\u001b[0;32m      6\u001b[0m existing_indexes \u001b[38;5;241m=\u001b[39m [index_info[\u001b[38;5;124m\"\u001b[39m\u001b[38;5;124mname\u001b[39m\u001b[38;5;124m\"\u001b[39m] \u001b[38;5;28;01mfor\u001b[39;00m index_info \u001b[38;5;129;01min\u001b[39;00m pc\u001b[38;5;241m.\u001b[39mlist_indexes()]\n",
            "\u001b[1;31mNameError\u001b[0m: name 'PINECONE_API_KEY' is not defined"
          ]
        }
      ],
      "source": [
        "from pinecone import Pinecone, ServerlessSpec\n",
        "pc = Pinecone(api_key=PINECONE_API_KEY)\n",
        "\n",
        "index_name = \"test\"  # change if desired\n",
        "\n",
        "existing_indexes = [index_info[\"name\"] for index_info in pc.list_indexes()]\n",
        "\n",
        "if index_name not in existing_indexes:\n",
        "    pc.create_index(\n",
        "        name=index_name,\n",
        "        dimension=1024,\n",
        "        metric=\"cosine\",\n",
        "        spec=ServerlessSpec(cloud=\"aws\", region=\"us-east-1\"),\n",
        "        deletion_protection=\"enabled\",  # Defaults to \"disabled\"\n",
        "    )\n",
        "    while not pc.describe_index(index_name).status[\"ready\"]:\n",
        "        time.sleep(1)\n",
        "\n",
        "index = pc.Index(index_name)\n",
        "\n",
        "\n"
      ]
    },
    {
      "cell_type": "code",
      "execution_count": 17,
      "metadata": {},
      "outputs": [
        {
          "data": {
            "text/plain": [
              "{'dimension': 1024,\n",
              " 'index_fullness': 0.0,\n",
              " 'namespaces': {},\n",
              " 'total_vector_count': 0}"
            ]
          },
          "execution_count": 17,
          "metadata": {},
          "output_type": "execute_result"
        }
      ],
      "source": [
        "index.describe_index_stats()  "
      ]
    },
    {
      "cell_type": "code",
      "execution_count": null,
      "metadata": {},
      "outputs": [],
      "source": [
        "def process_chunks(text_chunks, batch_size=32):\n",
        "    \"\"\"Process text chunks in batches with error handling\"\"\"\n",
        "    for i in range(0, len(text_chunks), batch_size):\n",
        "        batch = text_chunks[i:i+batch_size]\n",
        "        vectors = []\n",
        "        \n",
        "        try:\n",
        "            for chunk in batch:\n",
        "                # Generate embedding\n",
        "                embedding = embedding.embed_query(chunk.page_content)\n",
        "                \n",
        "                # Prepare vector data\n",
        "                vector_data = {\n",
        "                    \"id\": f\"page_{chunk.metadata['page']}\",\n",
        "                    \"values\": embedding,\n",
        "                    \"metadata\": {\n",
        "                        **chunk.metadata,\n",
        "                        \"text\": chunk.page_content  # Store original text\n",
        "                    }\n",
        "                }\n",
        "                vectors.append(vector_data)\n",
        "            \n",
        "            # Upsert batch\n",
        "            index.upsert(\n",
        "                vectors=vectors,\n",
        "                namespace=\"owasp-documents\"\n",
        "            )\n",
        "            print(f\"Upserted batch {i//batch_size + 1}/{len(text_chunks)//batch_size}\")\n",
        "            \n",
        "        except Exception as e:\n",
        "            print(f\"Error processing batch {i//batch_size + 1}: {str(e)}\")\n",
        "            time.sleep(10)  # Backoff for rate limits"
      ]
    },
    {
      "cell_type": "markdown",
      "metadata": {
        "id": "ZKwc0Cr78pUl"
      },
      "source": [
        "## Create Embeddings for each of the Text Chunk"
      ]
    },
    {
      "cell_type": "code",
      "execution_count": 18,
      "metadata": {
        "id": "dmGWBzkA8n72"
      },
      "outputs": [],
      "source": [
        "from langchain_pinecone import PineconeVectorStore  \n",
        " \n",
        "vectorstore = PineconeVectorStore(  \n",
        "    index, embedding, index_name)\n"
      ]
    },
    {
      "cell_type": "markdown",
      "metadata": {
        "id": "l7ebhRfl9ueQ"
      },
      "source": [
        "## If you already have an index, you can load it like this"
      ]
    },
    {
      "cell_type": "code",
      "execution_count": null,
      "metadata": {},
      "outputs": [],
      "source": []
    },
    {
      "cell_type": "code",
      "execution_count": 1,
      "metadata": {
        "colab": {
          "base_uri": "https://localhost:8080/"
        },
        "id": "ZuSHyhCM9vOl",
        "outputId": "337c3bcb-0f8e-49f9-b5da-9ee36f19e118"
      },
      "outputs": [
        {
          "ename": "NameError",
          "evalue": "name 'Pinecone' is not defined",
          "output_type": "error",
          "traceback": [
            "\u001b[1;31m---------------------------------------------------------------------------\u001b[0m",
            "\u001b[1;31mNameError\u001b[0m                                 Traceback (most recent call last)",
            "Cell \u001b[1;32mIn[1], line 1\u001b[0m\n\u001b[1;32m----> 1\u001b[0m docsearch \u001b[38;5;241m=\u001b[39m \u001b[43mPinecone\u001b[49m\u001b[38;5;241m.\u001b[39mfrom_texts([chunk\u001b[38;5;241m.\u001b[39mpage_content \u001b[38;5;28;01mfor\u001b[39;00m chunk \u001b[38;5;129;01min\u001b[39;00m text_chunks],embedding,index_name\u001b[38;5;241m=\u001b[39mindex_name,client\u001b[38;5;241m=\u001b[39mpc)\n\u001b[0;32m      2\u001b[0m docsearch\n",
            "\u001b[1;31mNameError\u001b[0m: name 'Pinecone' is not defined"
          ]
        }
      ],
      "source": [
        "docsearch = Pinecone.from_texts([chunk.page_content for chunk in text_chunks],embedding,index_name=index_name,client=pc)\n",
        "docsearch"
      ]
    },
    {
      "cell_type": "markdown",
      "metadata": {
        "id": "PvS-Qi8l919d"
      },
      "source": [
        "## Similarity Search"
      ]
    },
    {
      "cell_type": "code",
      "execution_count": 19,
      "metadata": {
        "id": "BpN4A4uO90yN"
      },
      "outputs": [],
      "source": [
        "query = \"Tell me about LLM security\""
      ]
    },
    {
      "cell_type": "code",
      "execution_count": 20,
      "metadata": {
        "id": "i6LnkQgz-CpO"
      },
      "outputs": [],
      "source": [
        "docs = vectorstore.similarity_search(query, k=3)"
      ]
    },
    {
      "cell_type": "code",
      "execution_count": 21,
      "metadata": {
        "colab": {
          "base_uri": "https://localhost:8080/"
        },
        "id": "L_qpKI5A-Ob1",
        "outputId": "6dd23265-d638-410a-b644-581f58fd90e3"
      },
      "outputs": [
        {
          "data": {
            "text/plain": [
              "[]"
            ]
          },
          "execution_count": 21,
          "metadata": {},
          "output_type": "execute_result"
        }
      ],
      "source": [
        "docs"
      ]
    },
    {
      "cell_type": "markdown",
      "metadata": {
        "id": "s979yBCI-U7g"
      },
      "source": [
        "## Creating a LLM Model Wrapper"
      ]
    },
    {
      "cell_type": "code",
      "execution_count": null,
      "metadata": {
        "id": "zDoLPwtX-QLm"
      },
      "outputs": [],
      "source": [
        "llm = OpenAI()"
      ]
    },
    {
      "cell_type": "code",
      "execution_count": null,
      "metadata": {
        "id": "f8VAKerY-Wq-"
      },
      "outputs": [],
      "source": [
        "qa = RetrievalQA.from_chain_type(llm=llm, chain_type=\"stuff\", retriever=docsearch.as_retriever())\n"
      ]
    },
    {
      "cell_type": "markdown",
      "metadata": {
        "id": "omexyHti-de2"
      },
      "source": [
        "## Q/A"
      ]
    },
    {
      "cell_type": "code",
      "execution_count": null,
      "metadata": {
        "id": "DJ2oUzhp-eFe"
      },
      "outputs": [],
      "source": [
        "query = \"YOLOv7 outperforms which models\""
      ]
    },
    {
      "cell_type": "code",
      "execution_count": null,
      "metadata": {
        "colab": {
          "base_uri": "https://localhost:8080/",
          "height": 53
        },
        "id": "ZP3jsXJK-gR2",
        "outputId": "b8fecacc-544b-4c63-97cd-c600a33a36e1"
      },
      "outputs": [],
      "source": [
        "qa.run(query)"
      ]
    },
    {
      "cell_type": "code",
      "execution_count": null,
      "metadata": {
        "id": "0GB2q2JL-hvW"
      },
      "outputs": [],
      "source": [
        "query = \"Rachel Green Experience\""
      ]
    },
    {
      "cell_type": "code",
      "execution_count": null,
      "metadata": {
        "colab": {
          "base_uri": "https://localhost:8080/",
          "height": 105
        },
        "id": "iG6rokPz-ryf",
        "outputId": "72168228-5071-4ac3-d3ec-d52a981b3d54"
      },
      "outputs": [],
      "source": [
        "qa.run(query)"
      ]
    },
    {
      "cell_type": "code",
      "execution_count": null,
      "metadata": {
        "id": "JzvcwuZB-0T-"
      },
      "outputs": [],
      "source": [
        "import sys"
      ]
    },
    {
      "cell_type": "code",
      "execution_count": null,
      "metadata": {
        "colab": {
          "base_uri": "https://localhost:8080/",
          "height": 283
        },
        "id": "mdnCaS9o-swH",
        "outputId": "c4d2230c-f6a6-4c14-b85d-3e3e622a8663"
      },
      "outputs": [],
      "source": [
        "while True:\n",
        "  user_input = input(f\"Input Prompt: \")\n",
        "  if user_input == 'exit':\n",
        "    print('Exiting')\n",
        "    sys.exit()\n",
        "  if user_input == '':\n",
        "    continue\n",
        "  result = qa({'query': user_input})\n",
        "  print(f\"Answer: {result['result']}\")"
      ]
    },
    {
      "cell_type": "code",
      "execution_count": null,
      "metadata": {
        "id": "n8_W97tQ-6-W"
      },
      "outputs": [],
      "source": []
    }
  ],
  "metadata": {
    "colab": {
      "provenance": []
    },
    "kernelspec": {
      "display_name": "Python 3",
      "name": "python3"
    },
    "language_info": {
      "codemirror_mode": {
        "name": "ipython",
        "version": 3
      },
      "file_extension": ".py",
      "mimetype": "text/x-python",
      "name": "python",
      "nbconvert_exporter": "python",
      "pygments_lexer": "ipython3",
      "version": "3.12.8"
    }
  },
  "nbformat": 4,
  "nbformat_minor": 0
}
